{
 "cells": [
  {
   "cell_type": "markdown",
   "id": "0edafe25",
   "metadata": {},
   "source": [
    "# ggplot_figures"
   ]
  },
  {
   "cell_type": "code",
   "execution_count": null,
   "id": "7163ada9",
   "metadata": {},
   "outputs": [],
   "source": []
  },
  {
   "cell_type": "code",
   "execution_count": null,
   "id": "bc6dc7bc",
   "metadata": {},
   "outputs": [],
   "source": []
  },
  {
   "cell_type": "markdown",
   "id": "ee90b621",
   "metadata": {},
   "source": [
    "## RNA-seq"
   ]
  },
  {
   "cell_type": "markdown",
   "id": "1e600cae",
   "metadata": {},
   "source": [
    "### volcano plot\n",
    "- code: http://localhost:17435/notebooks/projects/cut_run/HDAC/RNA-seq.ipynb\n",
    "- ![](figs/volcano.png)"
   ]
  },
  {
   "cell_type": "markdown",
   "id": "aa6c42d6",
   "metadata": {},
   "source": [
    "### GSEA\n",
    "- code: http://localhost:17435/notebooks/projects/cut_run/HDAC/RNA-seq.ipynb\n",
    "- ![](figs/GSEA_tang.png)"
   ]
  },
  {
   "cell_type": "code",
   "execution_count": null,
   "id": "03b57b33",
   "metadata": {},
   "outputs": [],
   "source": []
  },
  {
   "cell_type": "markdown",
   "id": "b9ecc18d",
   "metadata": {},
   "source": [
    "## ChIP-seq/ATAC-seq"
   ]
  },
  {
   "cell_type": "markdown",
   "id": "4267356f",
   "metadata": {},
   "source": [
    "### ChIPpeakAnno\n",
    "- makeVennDiagram\n",
    "- http://localhost:17435/notebooks/projects/cut_run/HDAC-b2/pipeline/Diffbind.ipynb\n",
    "- ![](figs/HDAC1_2_venn.png)"
   ]
  },
  {
   "cell_type": "markdown",
   "id": "b0580ac3",
   "metadata": {},
   "source": [
    "### DiffBind\n",
    "- http://localhost:17435/notebooks/projects/cut_run/HDAC-b2/pipeline/Diffbind.ipynb\n",
    "- ![](figs/diffbind-heatmap.png)"
   ]
  },
  {
   "cell_type": "code",
   "execution_count": null,
   "id": "cd9ed8d5",
   "metadata": {},
   "outputs": [],
   "source": []
  }
 ],
 "metadata": {
  "kernelspec": {
   "display_name": "R 4.1",
   "language": "R",
   "name": "ir41"
  },
  "language_info": {
   "codemirror_mode": "r",
   "file_extension": ".r",
   "mimetype": "text/x-r-source",
   "name": "R",
   "pygments_lexer": "r",
   "version": "4.2.2"
  },
  "toc": {
   "base_numbering": 1,
   "nav_menu": {},
   "number_sections": true,
   "sideBar": true,
   "skip_h1_title": false,
   "title_cell": "Table of Contents",
   "title_sidebar": "Contents",
   "toc_cell": false,
   "toc_position": {
    "height": "calc(100% - 180px)",
    "left": "10px",
    "top": "150px",
    "width": "311.391px"
   },
   "toc_section_display": true,
   "toc_window_display": true
  }
 },
 "nbformat": 4,
 "nbformat_minor": 5
}
