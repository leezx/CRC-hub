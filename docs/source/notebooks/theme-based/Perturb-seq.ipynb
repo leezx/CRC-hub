{
 "cells": [
  {
   "cell_type": "markdown",
   "id": "61abaa9b",
   "metadata": {},
   "source": [
    "references:\n",
    "- Large-scale multiplexed mosaic CRISPR perturbation in the whole organism - 2022 - Cell\n",
    "- [Cell | 迎来新的里程碑！上海科技大学池天团队开发新的筛选系统，对于了解整个生物体的基因功能成为可能](https://mp.weixin.qq.com/s/8Os348-yy6aQ9RIVItpcrQ)\n",
    "\n",
    "- Genome-scale CRISPR screening in a single mouse liver - 2022 - cell genomics\n",
    "- Comparative optimization of combinatorial CRISPR screens - NC - 2022\n",
    "\n",
    "- In vivo Perturb-Seq reveals neuronal and glial abnormalities associated with autism risk genes - 2020 - Science\n",
    "- The phenotypic landscape of essential human genes - 2022 - Cell"
   ]
  },
  {
   "cell_type": "markdown",
   "id": "4b86a9c8",
   "metadata": {},
   "source": [
    "Labs\n",
    "- https://sellerslab.org/\n",
    "- Feng Zhang\n",
    "- Aviv Regev\n",
    "- https://marsonlab.org/"
   ]
  },
  {
   "cell_type": "markdown",
   "id": "e30ee9df",
   "metadata": {},
   "source": [
    "- 博后期间急需建立自己的core strength，我觉得可以从perturb-seq入手，单细胞门槛太低了，不好做，意义不够具体。\n",
    "\n",
    "- 但pertub-seq则不一样，无论是开发工具，还是后续的寻求合作，都有无限的拓展可能。\n",
    "\n",
    "主要任务：\n",
    "- 熟悉目前前沿的应用\n",
    "- 快速鉴定被perturbed的cells\n",
    "- 下游调控分析\n",
    "- 结合多组学数据，揭示最终调控架构\n",
    "\n",
    "疾病和正常模型，即可海量筛选target\n",
    "\n",
    "- 人的遗传数据很宝贵，但其内在机理却非常复杂，鉴定出来的hits如何解读是个大问题；\n",
    "\n",
    "- 如何构建合适的疾病模型才是关键，单个基因KO在人里不可能发生，得到的readout有可能是无法预料的，reference本来已经够复杂了，各种不同的perturbation就更复杂，如何分析和解读数据便成为了最核心的问题。\n",
    "\n",
    "- 来自病人的cell type specific的DEG也是关键，也是in vivo perturb-seq的关键，最好能找到能够矫正疾病的sgRNA，顺带可以把基因治疗也给做了。\n",
    "\n",
    "- 基因操纵的分辨率也应该到碱基级别，那这个工作量就大了，如何降低工作量，直接预测各种cell type下的结果。\n",
    "\n",
    "- 举一反三太难了，因为这个系统的调控过于复杂。\n",
    "\n",
    "- 目前基因治疗技术手段繁多，主要的瓶颈在于找到有价值有效果的靶点。"
   ]
  },
  {
   "cell_type": "code",
   "execution_count": null,
   "id": "f84165c3",
   "metadata": {},
   "outputs": [],
   "source": []
  }
 ],
 "metadata": {
  "kernelspec": {
   "display_name": "R 4.1",
   "language": "R",
   "name": "ir41"
  },
  "language_info": {
   "codemirror_mode": "r",
   "file_extension": ".r",
   "mimetype": "text/x-r-source",
   "name": "R",
   "pygments_lexer": "r",
   "version": "4.2.2"
  },
  "toc": {
   "base_numbering": 1,
   "nav_menu": {},
   "number_sections": true,
   "sideBar": true,
   "skip_h1_title": false,
   "title_cell": "Table of Contents",
   "title_sidebar": "Contents",
   "toc_cell": false,
   "toc_position": {},
   "toc_section_display": true,
   "toc_window_display": true
  }
 },
 "nbformat": 4,
 "nbformat_minor": 5
}
