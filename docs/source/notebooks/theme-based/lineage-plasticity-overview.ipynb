{
 "cells": [
  {
   "cell_type": "markdown",
   "id": "f9f8e07a",
   "metadata": {},
   "source": [
    "# lineage plasticity predition based on RNA-ATAC"
   ]
  },
  {
   "cell_type": "markdown",
   "id": "ca872efc",
   "metadata": {},
   "source": [
    "![](plasticity.jpeg)"
   ]
  },
  {
   "cell_type": "markdown",
   "id": "abacd9f2",
   "metadata": {},
   "source": [
    "## Definition\n",
    "- What is lineage plasticity? **adaptability, evolution, resistance!**\n",
    "- Why we study it?\n",
    "- Could it lead insight for potential targets?"
   ]
  },
  {
   "cell_type": "markdown",
   "id": "e708a70e",
   "metadata": {},
   "source": [
    "- In cancer biology, the term lineage plasticity denotes a process by which cancer cells change from one morphological and functional cell type to another (and back), under the influence of particular environmental pressures. [Targeting lineage plasticity in prostate cancer](https://doi.org/10.1016/S1470-2045(19)30497-8)\n",
    "- internal cause: abnormal gene program\n",
    "- external cause: simulation\n",
    "- Lineage plasticity, the ability of cells to transition from one committed developmental pathway to another, has been proposed as a source of intratumoural heterogeneity and of tumour adaptation to an adverse tumour microenvironment including exposure to targeted anticancer treatments. [Lineage plasticity in cancer: a shared pathway of therapeutic resistance](https://www.nature.com/articles/s41571-020-0340-z)"
   ]
  },
  {
   "cell_type": "markdown",
   "id": "db5a9124",
   "metadata": {},
   "source": [
    "## Dana-Pe'er\n",
    "- Lineage plasticity in prostate cancer depends on JAK/STAT inflammatory signaling\n",
    "- https://github.com/dpeerlab/Lineage_Plasticity_in_CRPC"
   ]
  },
  {
   "cell_type": "code",
   "execution_count": null,
   "id": "df4ffe8f",
   "metadata": {},
   "outputs": [],
   "source": []
  },
  {
   "cell_type": "markdown",
   "id": "414ce499",
   "metadata": {},
   "source": [
    "## Entropy-based"
   ]
  },
  {
   "cell_type": "code",
   "execution_count": null,
   "id": "9becff4f",
   "metadata": {},
   "outputs": [],
   "source": []
  },
  {
   "cell_type": "markdown",
   "id": "7a86dd49",
   "metadata": {},
   "source": [
    "## correlation with gene and peak number"
   ]
  },
  {
   "cell_type": "code",
   "execution_count": null,
   "id": "9b90b0a8",
   "metadata": {},
   "outputs": [],
   "source": []
  },
  {
   "cell_type": "markdown",
   "id": "237a797e",
   "metadata": {},
   "source": [
    "## lineage barcoding system\n",
    "- evolving barcode\n",
    "- static barcode"
   ]
  },
  {
   "cell_type": "markdown",
   "id": "961e4723",
   "metadata": {},
   "source": [
    "### Natural mitochondrial DNA (mtDNA)\n",
    "- [Massively parallel single-cell mitochondrial DNA genotyping and chromatin profiling](https://www.nature.com/articles/s41587-020-0645-6)"
   ]
  },
  {
   "cell_type": "markdown",
   "id": "a37e634e",
   "metadata": {},
   "source": [
    "### Arnav"
   ]
  },
  {
   "cell_type": "markdown",
   "id": "aaa9c0fa",
   "metadata": {},
   "source": [
    "### Jonathan\n",
    "- [New Tools for Lineage Tracing in Cancer In Vivo](https://www.annualreviews.org/doi/abs/10.1146/annurev-cancerbio-061421-123301)\n",
    "- [Lineage tracing on transcriptional landscapes links state to fate during differentiation](https://www.ncbi.nlm.nih.gov/pmc/articles/PMC7608074/)"
   ]
  },
  {
   "cell_type": "code",
   "execution_count": null,
   "id": "c4a6f10e",
   "metadata": {},
   "outputs": [],
   "source": []
  },
  {
   "cell_type": "markdown",
   "id": "4904e299",
   "metadata": {},
   "source": [
    "## References\n",
    "\n",
    "regulator of lineage plasticity in cancer\n",
    "- [Lineage Plasticity in Cancer Progression and Treatment](https://www.annualreviews.org/doi/10.1146/annurev-cancerbio-030617-050224)\n",
    "- [Lineage Plasticity in Cancer: The Tale of a Skin-Walker](https://doi.org/10.3390%2Fcancers13143602)\n",
    "- [Lineage plasticity in cancer: a shared pathway of therapeutic resistance](https://doi.org/10.1038%2Fs41571-020-0340-z)\n",
    "\n",
    "therapeutic resistance in CRC\n",
    "- [Drug resistance and new therapies in colorectal cancer](https://doi.org/10.3748%2Fwjg.v24.i34.3834)\n",
    "- [Pharmacologic resistance in colorectal cancer: a review](https://doi.org/10.1177%2F1758834015614530)\n",
    "\n",
    "reviews\n",
    "- [Impact of Lineage Plasticity to and from a Neuroendocrine Phenotype on Progression and Response in Prostate and Lung Cancers](https://doi.org/10.1016/j.molcel.2020.10.033)"
   ]
  },
  {
   "cell_type": "code",
   "execution_count": null,
   "id": "54a18ee2",
   "metadata": {},
   "outputs": [],
   "source": []
  }
 ],
 "metadata": {
  "kernelspec": {
   "display_name": "R 4.1",
   "language": "R",
   "name": "ir41"
  },
  "language_info": {
   "codemirror_mode": "r",
   "file_extension": ".r",
   "mimetype": "text/x-r-source",
   "name": "R",
   "pygments_lexer": "r",
   "version": "4.2.2"
  },
  "toc": {
   "base_numbering": 1,
   "nav_menu": {},
   "number_sections": true,
   "sideBar": true,
   "skip_h1_title": false,
   "title_cell": "Table of Contents",
   "title_sidebar": "Contents",
   "toc_cell": false,
   "toc_position": {
    "height": "calc(100% - 180px)",
    "left": "10px",
    "top": "150px",
    "width": "272.391px"
   },
   "toc_section_display": true,
   "toc_window_display": true
  }
 },
 "nbformat": 4,
 "nbformat_minor": 5
}
