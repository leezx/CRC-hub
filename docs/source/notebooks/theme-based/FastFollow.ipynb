{
 "cells": [
  {
   "cell_type": "markdown",
   "id": "d152fb6f",
   "metadata": {},
   "source": [
    "# Fast follow"
   ]
  },
  {
   "cell_type": "markdown",
   "id": "6d38d0e2",
   "metadata": {},
   "source": [
    "- Scenario planning\n",
    "- 沙盘推演，一篇paper摆在你面前，你能重复出来吗？能拓展到其他领域吗？"
   ]
  },
  {
   "cell_type": "markdown",
   "id": "65adcf64",
   "metadata": {},
   "source": [
    "## ChIP-seq & RNA-seq\n",
    "- Dynamic Chromatin States Coupling with Key Transcription Factors in Colitis-Associated Colorectal Cancer - Adv Sci - 2022 - https://onlinelibrary.wiley.com/doi/full/10.1002/advs.202200536"
   ]
  },
  {
   "cell_type": "code",
   "execution_count": null,
   "id": "0967699d",
   "metadata": {},
   "outputs": [],
   "source": []
  },
  {
   "cell_type": "markdown",
   "id": "d32a2b35",
   "metadata": {},
   "source": [
    "### RNA splicing\n",
    "- RBFOX2 modulates a metastatic signature of alternative splicing in pancreatic cancer - Nature - 2023"
   ]
  },
  {
   "cell_type": "markdown",
   "id": "093e6832",
   "metadata": {},
   "source": [
    "- Stepwise-edited, human melanoma models reveal mutations’ effect on tumor and microenvironment - 2022 - Science\n",
    "- why Stepwise? 不就是多个mouse model吗，有什么亮点？\n",
    "- "
   ]
  },
  {
   "cell_type": "markdown",
   "id": "edcb5d45",
   "metadata": {},
   "source": [
    "### M60\n",
    "- Drug screening approach combines epigenetic sensitization with immunochemotherapy in cancer"
   ]
  },
  {
   "cell_type": "markdown",
   "id": "1eb3d9ae",
   "metadata": {},
   "source": [
    "### Sox9 Gastro"
   ]
  },
  {
   "cell_type": "markdown",
   "id": "dee80de5",
   "metadata": {},
   "source": [
    "### Sox9 Sci Adv"
   ]
  },
  {
   "cell_type": "markdown",
   "id": "d84490c9",
   "metadata": {},
   "source": [
    "### Others\n",
    "- Collective regulation of chromatin modifications predicts replication timing during cell cycle"
   ]
  },
  {
   "cell_type": "markdown",
   "id": "b83f6214",
   "metadata": {},
   "source": [
    "## Screening and function\n",
    "- KAT6A and ENL Form an Epigenetic Transcriptional Control Module to Drive Critical Leukemogenic Gene-Expression Programs - https://doi.org/10.1158/2159-8290.CD-20-1459"
   ]
  },
  {
   "cell_type": "code",
   "execution_count": null,
   "id": "d4af2f38",
   "metadata": {},
   "outputs": [],
   "source": []
  },
  {
   "cell_type": "code",
   "execution_count": null,
   "id": "456de54b",
   "metadata": {},
   "outputs": [],
   "source": []
  },
  {
   "cell_type": "code",
   "execution_count": null,
   "id": "b49102ec",
   "metadata": {},
   "outputs": [],
   "source": []
  }
 ],
 "metadata": {
  "kernelspec": {
   "display_name": "R 4.1",
   "language": "R",
   "name": "ir41"
  },
  "language_info": {
   "codemirror_mode": "r",
   "file_extension": ".r",
   "mimetype": "text/x-r-source",
   "name": "R",
   "pygments_lexer": "r",
   "version": "4.2.2"
  },
  "toc": {
   "base_numbering": 1,
   "nav_menu": {},
   "number_sections": true,
   "sideBar": true,
   "skip_h1_title": false,
   "title_cell": "Table of Contents",
   "title_sidebar": "Contents",
   "toc_cell": false,
   "toc_position": {
    "height": "calc(100% - 180px)",
    "left": "10px",
    "top": "150px",
    "width": "278.188px"
   },
   "toc_section_display": true,
   "toc_window_display": true
  }
 },
 "nbformat": 4,
 "nbformat_minor": 5
}
