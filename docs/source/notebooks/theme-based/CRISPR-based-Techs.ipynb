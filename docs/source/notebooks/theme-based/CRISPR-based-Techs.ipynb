{
 "cells": [
  {
   "cell_type": "markdown",
   "id": "125ffe58",
   "metadata": {},
   "source": [
    "# CRISPR-based-Techs"
   ]
  },
  {
   "cell_type": "markdown",
   "id": "80dc321d",
   "metadata": {},
   "source": [
    "## CRISPR screening\n",
    "\n",
    "From Paul:\n",
    "- /Volumes/nsethi/CRISPR_Screens/Whole_Genome_CRISPR\n",
    "- addgene liu brown crispr\n",
    "- https://www.addgene.org/pooled-library/liu-crispr-knockout-h3/ [sgRNA library]\n",
    "- https://sourceforge.net/p/mageck/wiki/Home/\n",
    "\n",
    "Main cost:\n",
    "- cell sorting fee (5k)\n",
    "- gRNA (500)\n",
    "- 10 ~ 20k in total for a whole genome screening\n",
    "\n",
    "Main problem:\n",
    "- gRNA per cell is too low <100 (ideally > 500)\n",
    "\n",
    "Most important step:\n",
    "- cell sorting by phenotype (usually GFP or other labels)\n",
    "- count gRNA per sample\n",
    "- 900 genes associated with differentiation"
   ]
  },
  {
   "cell_type": "markdown",
   "id": "57153b41",
   "metadata": {},
   "source": [
    "- [Constructing Plasmids for Cas9/gRNA Expression and Knock Out Experiments - YT](https://youtu.be/W6yRCEXQSGk)\n",
    "\n",
    "steps:\n",
    "1. Cut/digest the plasmid with the restriction enzyme Bbsl to generate \"sticky\" ends (single stranded DNA)\n",
    "2. purify the digested plasmid on an agarose gel\n",
    "3. design oligos with sticky ends + gRNA\n",
    "4. mix oligos for form duplex (95 C, 5 min)\n",
    "5. mix the two fragments and use T4 DNA ligase to covalently bond them together"
   ]
  },
  {
   "cell_type": "markdown",
   "id": "cfe7fa0b",
   "metadata": {},
   "source": [
    "- [Designing gRNA Oligos to Clone into Cas9 Expression Plasmids for KO Experiments](https://youtu.be/bjuTrHaCxJ4)\n",
    "\n",
    "websites:\n",
    "1. https://chopchop.cbu.uib.no/\n",
    "2. https://www.synthego.com/products/bioinformatics/crispr-design-tool"
   ]
  },
  {
   "cell_type": "markdown",
   "id": "42a34108",
   "metadata": {},
   "source": [
    "- [Retrieving Gene & Promoter Sequences](https://youtu.be/83omZV8Bk3w)\n"
   ]
  },
  {
   "cell_type": "markdown",
   "id": "6bdb8cca",
   "metadata": {},
   "source": [
    "Examples:\n",
    "- [E07.2 Genome Wide CRISPR Cas9 Screening in Immune Cells](https://youtu.be/IlYVi149Sxg)\n",
    "- context-based regulation"
   ]
  },
  {
   "cell_type": "markdown",
   "id": "e7f7acc7",
   "metadata": {},
   "source": [
    "教程：\n",
    "- [CRISPR Screen 操作解析：Nature 高分文章你也可以写](https://mp.weixin.qq.com/s/Kulg5H8w4GZIw1F0u4J7Lg)\n",
    "- [Cancer Discov | 两项独立CRISPR screening研究揭示AML对SLC5A3的代谢依赖性](https://mp.weixin.qq.com/s/X4XbooLmaOEWoQgAVT_AjQ)\n",
    "- [【Nature Reviews Immunology】CRISPR基因编辑筛选在免疫学中的应用](https://mp.weixin.qq.com/s/wBL_xqAzA-k2bAd4NN2_Tg)\n",
    "- [使用MaGECK分析Crispr Screening数据](https://mp.weixin.qq.com/s/pBRtEl0StWMOy9WzTbU0SQ)\n",
    "- [CRISPR-Cas9基因编辑技术](https://mp.weixin.qq.com/s/lWZ_nleZW7dD6OWxongQUg)\n",
    "- [Cell | 空间 CRISPR 基因组学识别肿瘤微环境的调节因子](https://mp.weixin.qq.com/s/agR8vrBIR8Yyfui2f7fmNw)"
   ]
  },
  {
   "cell_type": "markdown",
   "id": "b18a78ba",
   "metadata": {},
   "source": [
    "## Perturb-seq\n",
    "From Paul:\n",
    "- 10x chromium v3.1 feature barcoding\n",
    "- [Chromium Single Cell 3' Reagent Kits User Guide (v3.1 Chemistry Dual Index) with Feature Barcoding technology for CRISPR Screening and Cell Multiplexing](https://www.10xgenomics.com/support/single-cell-gene-expression/documentation/steps/library-prep/chromium-single-cell-3-reagent-kits-user-guide-v-3-1-chemistry-dual-index-with-feature-barcoding-technology-for-crispr-screening-and-cell-multiplexing)\n",
    "- https://cdn.10xgenomics.com/image/upload/v1666737555/support-documents/CG000389_ChromiumNextGEMSingleCell3-v3.1_CRISPR_CellMultiplexing_RevC.pdf\n",
    "- Step 1: Paul design gRNA, plasmid, lentivirus, infect cell line, prepare cell suspensions\n",
    "- Step 2: the core with load the cells to 10x machine, build GEX and gRNA DNA libraries with different dilution\n",
    "- QC: see if there is a sharp peak, choose the 1:1 dilution for sequencing\n",
    "\n",
    "YT:\n",
    "- [Next generation CRISPR screens based on single-cell transcriptomics | Tilmann Buerckstuemmer](https://youtu.be/t3fk560-BTY)\n",
    "- [Anja Smith-How to identify key genes with CRISPR Cas9 and shRNA screens](https://youtu.be/GhMgdNgaMbY)"
   ]
  },
  {
   "cell_type": "markdown",
   "id": "a4c47433",
   "metadata": {},
   "source": [
    "缩减成本：\n",
    "- [Compressed Perturb-seq: highly efficient screens for regulatory circuits using random composite perturbations](https://www.biorxiv.org/content/10.1101/2023.01.23.525200v1.full)\n",
    "- Perturb seq need scRNA for 9000x 200 cells/guide = 1800000 cells \n",
    "- Perturb-seq按Droplet个数收费，所以要引入doublet，然后用计算的方法分开。"
   ]
  },
  {
   "cell_type": "markdown",
   "id": "61abaa9b",
   "metadata": {},
   "source": [
    "references:\n",
    "- Large-scale multiplexed mosaic CRISPR perturbation in the whole organism - 2022 - Cell\n",
    "- [Cell | 迎来新的里程碑！上海科技大学池天团队开发新的筛选系统，对于了解整个生物体的基因功能成为可能](https://mp.weixin.qq.com/s/8Os348-yy6aQ9RIVItpcrQ)\n",
    "\n",
    "- Genome-scale CRISPR screening in a single mouse liver - 2022 - cell genomics\n",
    "- Comparative optimization of combinatorial CRISPR screens - NC - 2022\n",
    "\n",
    "- In vivo Perturb-Seq reveals neuronal and glial abnormalities associated with autism risk genes - 2020 - Science\n",
    "- The phenotypic landscape of essential human genes - 2022 - Cell"
   ]
  },
  {
   "cell_type": "markdown",
   "id": "4b86a9c8",
   "metadata": {},
   "source": [
    "Labs\n",
    "- https://sellerslab.org/\n",
    "- Feng Zhang\n",
    "- Aviv Regev\n",
    "- https://marsonlab.org/"
   ]
  },
  {
   "cell_type": "markdown",
   "id": "e30ee9df",
   "metadata": {},
   "source": [
    "- 博后期间急需建立自己的core strength，我觉得可以从perturb-seq入手，单细胞门槛太低了，不好做，意义不够具体。\n",
    "\n",
    "- 但pertub-seq则不一样，无论是开发工具，还是后续的寻求合作，都有无限的拓展可能。\n",
    "\n",
    "主要任务：\n",
    "- 熟悉目前前沿的应用\n",
    "- 快速鉴定被perturbed的cells\n",
    "- 下游调控分析\n",
    "- 结合多组学数据，揭示最终调控架构\n",
    "\n",
    "疾病和正常模型，即可海量筛选target\n",
    "\n",
    "- 人的遗传数据很宝贵，但其内在机理却非常复杂，鉴定出来的hits如何解读是个大问题；\n",
    "\n",
    "- 如何构建合适的疾病模型才是关键，单个基因KO在人里不可能发生，得到的readout有可能是无法预料的，reference本来已经够复杂了，各种不同的perturbation就更复杂，如何分析和解读数据便成为了最核心的问题。\n",
    "\n",
    "- 来自病人的cell type specific的DEG也是关键，也是in vivo perturb-seq的关键，最好能找到能够矫正疾病的sgRNA，顺带可以把基因治疗也给做了。\n",
    "\n",
    "- 基因操纵的分辨率也应该到碱基级别，那这个工作量就大了，如何降低工作量，直接预测各种cell type下的结果。\n",
    "\n",
    "- 举一反三太难了，因为这个系统的调控过于复杂。\n",
    "\n",
    "- 目前基因治疗技术手段繁多，主要的瓶颈在于找到有价值有效果的靶点。"
   ]
  },
  {
   "cell_type": "markdown",
   "id": "5968aabe",
   "metadata": {},
   "source": [
    "我的一些核心思考：\n",
    "- 毕业前夕到来DFCI后的一段时间，我曾经有过很多灵感，开发属于自己的工具，但都没有继续，她们是高度关联的，现在我想串联一下；\n",
    "- bt2m/iterbi：解决异质性的问题，本质就是一个无偏的module identification工具，还可以做到多组学，类似WGCNA和MIRA；\n",
    "- CRAI：这是我对causal GRN最深层次的思考，这个仅能在perturb-seq上实现；\n",
    "- 尽管这段时间我接触了很多fancy的新工具，我还是觉得这两个工具有她们存在的价值；"
   ]
  },
  {
   "cell_type": "code",
   "execution_count": null,
   "id": "f84165c3",
   "metadata": {},
   "outputs": [],
   "source": []
  }
 ],
 "metadata": {
  "kernelspec": {
   "display_name": "R 4.1",
   "language": "R",
   "name": "ir41"
  },
  "language_info": {
   "codemirror_mode": "r",
   "file_extension": ".r",
   "mimetype": "text/x-r-source",
   "name": "R",
   "pygments_lexer": "r",
   "version": "4.2.2"
  },
  "toc": {
   "base_numbering": 1,
   "nav_menu": {},
   "number_sections": true,
   "sideBar": true,
   "skip_h1_title": false,
   "title_cell": "Table of Contents",
   "title_sidebar": "Contents",
   "toc_cell": false,
   "toc_position": {
    "height": "calc(100% - 180px)",
    "left": "10px",
    "top": "150px",
    "width": "331.391px"
   },
   "toc_section_display": true,
   "toc_window_display": true
  }
 },
 "nbformat": 4,
 "nbformat_minor": 5
}
