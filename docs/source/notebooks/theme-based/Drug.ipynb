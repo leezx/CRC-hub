{
 "cells": [
  {
   "cell_type": "markdown",
   "id": "85088dd1",
   "metadata": {},
   "source": [
    "# Drug screening"
   ]
  },
  {
   "cell_type": "markdown",
   "id": "ed8abe6f",
   "metadata": {},
   "source": [
    "ref:\n",
    "- [Multiplex single-cell chemical genomics reveals the kinase dependence of the response to targeted therapy](https://www.biorxiv.org/content/10.1101/2023.03.10.531983v1)"
   ]
  },
  {
   "cell_type": "code",
   "execution_count": null,
   "id": "1827f3c4",
   "metadata": {},
   "outputs": [],
   "source": []
  }
 ],
 "metadata": {
  "kernelspec": {
   "display_name": "R 4.1",
   "language": "R",
   "name": "ir41"
  },
  "language_info": {
   "codemirror_mode": "r",
   "file_extension": ".r",
   "mimetype": "text/x-r-source",
   "name": "R",
   "pygments_lexer": "r",
   "version": "4.2.2"
  },
  "toc": {
   "base_numbering": 1,
   "nav_menu": {},
   "number_sections": true,
   "sideBar": true,
   "skip_h1_title": false,
   "title_cell": "Table of Contents",
   "title_sidebar": "Contents",
   "toc_cell": false,
   "toc_position": {},
   "toc_section_display": true,
   "toc_window_display": true
  }
 },
 "nbformat": 4,
 "nbformat_minor": 5
}
