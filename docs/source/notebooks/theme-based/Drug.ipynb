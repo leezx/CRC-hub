{
 "cells": [
  {
   "cell_type": "markdown",
   "id": "85088dd1",
   "metadata": {},
   "source": [
    "# Drug screening"
   ]
  },
  {
   "cell_type": "markdown",
   "id": "fb43e0c5",
   "metadata": {},
   "source": [
    "## Current drugs for CRC\n",
    "- [Drugs Approved for Colon and Rectal Cancer](https://www.cancer.gov/about-cancer/treatment/drugs/colorectal)\n",
    "- [一文读懂结直肠癌的化疗、靶向和免疫治疗](https://zhuanlan.zhihu.com/p/69235411)\n",
    "- [22款治疗结直肠癌的化疗药/靶向药/免疫药物](http://www.100pei.com/4594.html)\n",
    "- [结直肠癌靶向及免疫药物大盘点，精准治疗时代来了！](https://www.medsci.cn/article/show_article.do?id=5546e280142e)\n",
    "- [按阶段划分的结直肠癌治疗](https://fightcolorectalcancer.org/zh/facing-colorectal-cancer/diagnosis-and-treatment/treatment-stage/)\n",
    "- 据估计，大约15％的结直肠癌患者的MSI指数高，因此可以用检查点抑制剂如派姆单抗（学名：pembrolizumab）来治疗。\n",
    "- [2022最新整理丨结直肠癌靶向免疫药物有哪些 效果如何](https://www.hopenoah.com/treat/cancer/jc/15236.html)"
   ]
  },
  {
   "cell_type": "markdown",
   "id": "94e89afb",
   "metadata": {},
   "source": [
    "免疫疗法如何用于治疗结直肠癌？\n",
    "\n",
    "免疫疗法（immunotherapy）对于结肠癌和直肠癌（cancers of the colon and rectum）治疗效果尚未像对于黑色素瘤和肺癌那样有效，但研究人员正在发现越来越多的从增强免疫药物中获益的患者，并且通过研究希望能将免疫疗法扩展到治疗结直肠癌的策略当中。\n",
    "\n",
    "使免疫疗法成为癌症治疗中一个让人兴奋和充满希望的工具的主要药物是检查点抑制剂（checkpoint blockers）。 例如这些可以阻断CTLA-4、PD-1和PD-L1的药物，可以动员免疫系统来攻击那些试图躲避免疫防御的癌细胞。在一些患有晚期黑色素瘤和肺癌的患者中，检查点抑制剂可以使免疫T细胞去缩小或消除肿瘤，具有长期的治疗效果。\n",
    "\n",
    "但在几年前，检查点抑制剂首次在晚期结直肠癌患者中进行检测时的结果令人失望；结果表明，检查点抑制剂在大多数患者中对抗肿瘤的活性很小。但这些研究确实揭示了有一小部分结直肠癌患者——他们的肿瘤对免疫治疗有反应。这些患者的癌细胞缺乏修复DNA蓝图特定类型损伤的能力。这类癌症被称为具有高度的“微卫星不稳定性” ，也称作MSI，并且缺乏修复遗传密码不匹配的化学字母。\n",
    "\n",
    "在一项研究中，MSI指数高的患者使用PD-1抑制剂派姆单抗（pembrolizumab）来接受治疗，响应率为40％ - 这意味着他们的肿瘤缩小了——相比之下，癌症中没有MSI的患者则没有反应。\n",
    "\n",
    "“这些患者中的大多数都具有持续而长久的反应” ，丹娜-法伯免疫肿瘤中心（Center for Immuno-Oncology）的医学博士Osama Rahma (Osama Rahma, MD) 说。\n",
    "\n",
    "据估计，大约15％的结直肠癌患者的MSI指数高，因此可以用检查点抑制剂如派姆单抗（学名：pembrolizumab）来治疗。\n",
    "\n",
    "人们认为免疫疗法可以更好地对抗DNA修复机制有缺陷的癌症，因为这些肿瘤携带更多的DNA突变，这些突变导致细胞产生异常蛋白质，刺激免疫系统来攻击这些缺陷细胞。但是，对于结直肠癌MSI指数不高的患者，如何才能改善免疫治疗这85%患者中的治疗效果？\n",
    "\n",
    "Rahma博士提出了一种策略——将派姆单抗（学名：pembrolizumab）与放射治疗（radiation therapy）结合用于结肠直肠癌。被辐射杀死的细胞会释放出能被T细胞识别的分子，然后T细胞会聚集到肿瘤环境中。这一概念将在一项由丹娜-法伯领导的全美大型直肠癌临床试验中进行测试。\n",
    "\n",
    "另一种策略是将免疫疗法检查点抑制剂与靶向疗法（targeted therapy）相结合——靶向药物指通过与癌细胞中特定分子缺陷结合来抑制癌症生长的药物。这种方法的临床试验正在进行中。\n",
    "\n",
    "研究也开始涉及不同的抗体，这些抗体可以阻断癌细胞用来逃避免疫攻击的多个免疫检查点，或在阻断一个检查点的同时用另一种分子药物刺激免疫系统。\n",
    "\n",
    "“现在，该领域正大放光彩，我们可以测试许多新的假设，旨在改变结直肠癌治疗的前景并改善其结果” ，Rahma博士说。"
   ]
  },
  {
   "cell_type": "markdown",
   "id": "ed8abe6f",
   "metadata": {},
   "source": [
    "ref:\n",
    "- [Multiplex single-cell chemical genomics reveals the kinase dependence of the response to targeted therapy](https://www.biorxiv.org/content/10.1101/2023.03.10.531983v1)"
   ]
  },
  {
   "cell_type": "markdown",
   "id": "ac9ae6e9",
   "metadata": {},
   "source": [
    "## MRK60"
   ]
  },
  {
   "cell_type": "markdown",
   "id": "b8ded214",
   "metadata": {},
   "source": [
    "### HDACi\n",
    "- [New and emerging HDAC inhibitors for cancer treatment](https://www.jci.org/articles/view/69738) - JCI - 2014"
   ]
  },
  {
   "cell_type": "markdown",
   "id": "5c451e92",
   "metadata": {},
   "source": [
    "analysis:\n",
    "- [Integrating ChIP-seq with other functional genomics data](https://www.ncbi.nlm.nih.gov/pmc/articles/PMC5888983/)\n",
    "- ChIPpeakAnno\n",
    "- https://bioconductor.org/packages/release/bioc/vignettes/ChIPpeakAnno/inst/doc/pipeline.html\n",
    "- ChIPseeker\n",
    "- http://bioconductor.org/packages/devel/bioc/vignettes/ChIPseeker/inst/doc/ChIPseeker.html\n",
    "- [Intro-to-ChIPseq](https://github.com/hbctraining/Intro-to-ChIPseq/blob/master/schedule/2-day.md) - course list\n",
    "- [Visualization of peaks - HBC](https://hbctraining.github.io/Intro-to-ChIPseq/lessons/10_data_visualization.html)\n",
    "- deepTools"
   ]
  },
  {
   "cell_type": "markdown",
   "id": "2eb98f1b",
   "metadata": {},
   "source": [
    "ref:\n",
    "- [KAT6A and ENL Form an Epigenetic Transcriptional Control Module to Drive Critical Leukemogenic Gene-Expression Programs](https://doi.org/10.1158/2159-8290.CD-20-1459)\n",
    "- \n",
    "\n",
    "- [The Roles of Histone Deacetylases and Their Inhibitors in Cancer Therapy](https://www.frontiersin.org/articles/10.3389/fcell.2020.576946/full)\n",
    "- [Erasers of Histone Acetylation: The Histone Deacetylase Enzymes](https://www.ncbi.nlm.nih.gov/pmc/articles/PMC3970420/)\n",
    "\n",
    "- [Pioneer factors as master regulators of the epigenome and cell fate](https://www.nature.com/articles/s41580-022-00464-z)"
   ]
  },
  {
   "cell_type": "markdown",
   "id": "0ea00084",
   "metadata": {},
   "source": [
    "Oncogenes\n",
    "- KRAS\n",
    "- [Role of oncogenic KRAS in the prognosis, diagnosis and treatment of colorectal cancer](https://molecular-cancer.biomedcentral.com/articles/10.1186/s12943-021-01441-4)\n",
    "\n",
    "TSG (Tumor Suppressor Gene)\n",
    "- APC\n",
    "- [Multiple Roles of APC and its Therapeutic Implications in Colorectal Cancer](https://www.ncbi.nlm.nih.gov/pmc/articles/PMC5963831/)"
   ]
  },
  {
   "cell_type": "markdown",
   "id": "1968d950",
   "metadata": {},
   "source": [
    "### \n",
    "- [Peak-valley-peak pattern of histone modifications delineates active regulatory elements and their directionality](https://www.ncbi.nlm.nih.gov/pmc/articles/PMC4872112/)\n",
    "- Histone mark enrichment distribution near TSS"
   ]
  },
  {
   "cell_type": "markdown",
   "id": "1842bead",
   "metadata": {},
   "source": [
    "## dTAG"
   ]
  },
  {
   "cell_type": "markdown",
   "id": "4a7114b0",
   "metadata": {},
   "source": [
    "- Rapid and direct control of target protein levels with VHL-recruiting dTAG molecules - NC - 2020"
   ]
  },
  {
   "cell_type": "markdown",
   "id": "540a0834",
   "metadata": {},
   "source": [
    "- [Precise modulation of transcription factor levels identifies features underlying dosage sensitivity - NG - 2023](https://www.nature.com/articles/s41588-023-01366-2)"
   ]
  },
  {
   "cell_type": "markdown",
   "id": "24bbce8f",
   "metadata": {},
   "source": [
    "- Stuti Mehta\n",
    "- Boston children's Hospital\n",
    "- Lessons from dTAG-mediated acute depletion of the \"undruggable\" transcription factor BCLIA \n",
    "- Stuti Mehta is a Scientist at the Boston Children's Hospital, and an Instructor at the Harvard Medical School. Stuti studied biochemistry and biotechnology at St. Xavier's college in India, before moving on to obtain an MSc and DPhil (PhD) working on epigenetic mechanisms of gene expression control at the Medical Research Council at Oxford University, UK. Stuti is broadly interested in understanding finer mechanistic details of gene expression control by transcription factors and epigenetic proteins, most recently by deploying targeted protein degradation approaches. At the BCH, she works with Stuart Orkin to use Targeted protein degradation strategies to deplete the repressive Zn-transcription factor BCL11A in service of inducing the curative fetal form of hemoglobin in b-hemoglobin disorders. Here, she also leads a large-scale screening effort to identify from diverse sources, glue-like chemicals that lead to the depletion of, or interference with the repressive function of BCL11A"
   ]
  },
  {
   "cell_type": "code",
   "execution_count": null,
   "id": "1ae4a7d7",
   "metadata": {},
   "outputs": [],
   "source": []
  }
 ],
 "metadata": {
  "kernelspec": {
   "display_name": "R 4.1",
   "language": "R",
   "name": "ir41"
  },
  "language_info": {
   "codemirror_mode": "r",
   "file_extension": ".r",
   "mimetype": "text/x-r-source",
   "name": "R",
   "pygments_lexer": "r",
   "version": "4.2.2"
  },
  "toc": {
   "base_numbering": 1,
   "nav_menu": {},
   "number_sections": true,
   "sideBar": true,
   "skip_h1_title": false,
   "title_cell": "Table of Contents",
   "title_sidebar": "Contents",
   "toc_cell": false,
   "toc_position": {
    "height": "calc(100% - 180px)",
    "left": "10px",
    "top": "150px",
    "width": "300.594px"
   },
   "toc_section_display": true,
   "toc_window_display": true
  }
 },
 "nbformat": 4,
 "nbformat_minor": 5
}
