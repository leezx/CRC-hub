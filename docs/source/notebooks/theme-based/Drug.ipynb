{
 "cells": [
  {
   "cell_type": "markdown",
   "id": "85088dd1",
   "metadata": {},
   "source": [
    "# Drug screening"
   ]
  },
  {
   "cell_type": "markdown",
   "id": "ed8abe6f",
   "metadata": {},
   "source": [
    "ref:\n",
    "- [Multiplex single-cell chemical genomics reveals the kinase dependence of the response to targeted therapy](https://www.biorxiv.org/content/10.1101/2023.03.10.531983v1)"
   ]
  },
  {
   "cell_type": "markdown",
   "id": "ac9ae6e9",
   "metadata": {},
   "source": [
    "## MRK60"
   ]
  },
  {
   "cell_type": "markdown",
   "id": "b8ded214",
   "metadata": {},
   "source": [
    "### HDACi\n",
    "- [New and emerging HDAC inhibitors for cancer treatment](https://www.jci.org/articles/view/69738) - JCI - 2014"
   ]
  },
  {
   "cell_type": "markdown",
   "id": "5c451e92",
   "metadata": {},
   "source": [
    "analysis:\n",
    "- [Integrating ChIP-seq with other functional genomics data](https://www.ncbi.nlm.nih.gov/pmc/articles/PMC5888983/)\n",
    "- ChIPpeakAnno\n",
    "- https://bioconductor.org/packages/release/bioc/vignettes/ChIPpeakAnno/inst/doc/pipeline.html\n",
    "- ChIPseeker\n",
    "- http://bioconductor.org/packages/devel/bioc/vignettes/ChIPseeker/inst/doc/ChIPseeker.html\n",
    "- [Intro-to-ChIPseq](https://github.com/hbctraining/Intro-to-ChIPseq/blob/master/schedule/2-day.md) - course list\n",
    "- [Visualization of peaks - HBC](https://hbctraining.github.io/Intro-to-ChIPseq/lessons/10_data_visualization.html)\n",
    "- deepTools"
   ]
  },
  {
   "cell_type": "markdown",
   "id": "2eb98f1b",
   "metadata": {},
   "source": [
    "ref:\n",
    "- [KAT6A and ENL Form an Epigenetic Transcriptional Control Module to Drive Critical Leukemogenic Gene-Expression Programs](https://doi.org/10.1158/2159-8290.CD-20-1459)\n",
    "- \n",
    "\n",
    "- [The Roles of Histone Deacetylases and Their Inhibitors in Cancer Therapy](https://www.frontiersin.org/articles/10.3389/fcell.2020.576946/full)\n",
    "- [Erasers of Histone Acetylation: The Histone Deacetylase Enzymes](https://www.ncbi.nlm.nih.gov/pmc/articles/PMC3970420/)\n",
    "\n",
    "- [Pioneer factors as master regulators of the epigenome and cell fate](https://www.nature.com/articles/s41580-022-00464-z)"
   ]
  },
  {
   "cell_type": "markdown",
   "id": "0ea00084",
   "metadata": {},
   "source": [
    "Oncogenes\n",
    "- KRAS\n",
    "- [Role of oncogenic KRAS in the prognosis, diagnosis and treatment of colorectal cancer](https://molecular-cancer.biomedcentral.com/articles/10.1186/s12943-021-01441-4)\n",
    "\n",
    "TSG (Tumor Suppressor Gene)\n",
    "- APC\n",
    "- [Multiple Roles of APC and its Therapeutic Implications in Colorectal Cancer](https://www.ncbi.nlm.nih.gov/pmc/articles/PMC5963831/)"
   ]
  },
  {
   "cell_type": "markdown",
   "id": "1968d950",
   "metadata": {},
   "source": [
    "### \n",
    "- [Peak-valley-peak pattern of histone modifications delineates active regulatory elements and their directionality](https://www.ncbi.nlm.nih.gov/pmc/articles/PMC4872112/)\n",
    "- Histone mark enrichment distribution near TSS"
   ]
  },
  {
   "cell_type": "markdown",
   "id": "1842bead",
   "metadata": {},
   "source": [
    "## dTAG"
   ]
  },
  {
   "cell_type": "markdown",
   "id": "540a0834",
   "metadata": {},
   "source": [
    "- [Precise modulation of transcription factor levels identifies features underlying dosage sensitivity - NG - 2023](https://www.nature.com/articles/s41588-023-01366-2)"
   ]
  },
  {
   "cell_type": "markdown",
   "id": "24bbce8f",
   "metadata": {},
   "source": [
    "- Stuti Mehta\n",
    "- Boston children's Hospital\n",
    "- Lessons from dTAG-mediated acute depletion of the \"undruggable\" transcription factor BCLIA \n",
    "- Stuti Mehta is a Scientist at the Boston Children's Hospital, and an Instructor at the Harvard Medical School. Stuti studied biochemistry and biotechnology at St. Xavier's college in India, before moving on to obtain an MSc and DPhil (PhD) working on epigenetic mechanisms of gene expression control at the Medical Research Council at Oxford University, UK. Stuti is broadly interested in understanding finer mechanistic details of gene expression control by transcription factors and epigenetic proteins, most recently by deploying targeted protein degradation approaches. At the BCH, she works with Stuart Orkin to use Targeted protein degradation strategies to deplete the repressive Zn-transcription factor BCL11A in service of inducing the curative fetal form of hemoglobin in b-hemoglobin disorders. Here, she also leads a large-scale screening effort to identify from diverse sources, glue-like chemicals that lead to the depletion of, or interference with the repressive function of BCL11A"
   ]
  },
  {
   "cell_type": "code",
   "execution_count": null,
   "id": "1ae4a7d7",
   "metadata": {},
   "outputs": [],
   "source": []
  }
 ],
 "metadata": {
  "kernelspec": {
   "display_name": "R 4.1",
   "language": "R",
   "name": "ir41"
  },
  "language_info": {
   "codemirror_mode": "r",
   "file_extension": ".r",
   "mimetype": "text/x-r-source",
   "name": "R",
   "pygments_lexer": "r",
   "version": "4.2.2"
  },
  "toc": {
   "base_numbering": 1,
   "nav_menu": {},
   "number_sections": true,
   "sideBar": true,
   "skip_h1_title": false,
   "title_cell": "Table of Contents",
   "title_sidebar": "Contents",
   "toc_cell": false,
   "toc_position": {
    "height": "calc(100% - 180px)",
    "left": "10px",
    "top": "150px",
    "width": "300.594px"
   },
   "toc_section_display": true,
   "toc_window_display": true
  }
 },
 "nbformat": 4,
 "nbformat_minor": 5
}
