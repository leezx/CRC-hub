{
 "cells": [
  {
   "cell_type": "markdown",
   "id": "d152fb6f",
   "metadata": {},
   "source": [
    "# Projects"
   ]
  },
  {
   "cell_type": "markdown",
   "id": "6d38d0e2",
   "metadata": {},
   "source": [
    "- Scenario planning\n",
    "- 沙盘推演，一篇paper摆在你面前，你能重复出来吗？能拓展到其他领域吗？"
   ]
  },
  {
   "cell_type": "markdown",
   "id": "e8c8080c",
   "metadata": {},
   "source": [
    "## M60\n",
    "- Drug screening approach combines epigenetic sensitization with immunochemotherapy in cancer\n",
    "- [Histone deacetylase function in CD4+ T cells - 2018 - Review](https://www.nature.com/articles/s41577-018-0037-z)"
   ]
  },
  {
   "cell_type": "markdown",
   "id": "0c3a5fdc",
   "metadata": {},
   "source": [
    "## epigenetic transcriptional and differentiation/plasiticity\n",
    "- [BLANCO LAB](https://blancolab.com/publications)\n",
    "- Pubmed - [site](https://pubmed.ncbi.nlm.nih.gov/?term=(blanco+MA%5Bauthor%5D+(children%27s%5Baffil%5D+OR+(molecular+princeton%5Baffil%5D)+or+leroy))+OR+Andres+Blanco+M%5BAuthor%5D+OR+(24813610%5BUID%5D+OR+26659182%5BUID%5D+OR+15754025%5BUID%5D+))\n",
    "- [Yang Shi lab](https://www.ludwig.ox.ac.uk/team/yang-shi)\n",
    "- PRC2.1- and PRC2.2-specific accessory proteins drive recruitment of different forms of canonical PRC1\n",
    "- TGF-β signaling promotes cervical cancer metastasis via CDR1as\n",
    "- Mutant NPM1 Directly Regulates Oncogenic Transcription in Acute Myeloid Leukemia\n",
    "- The CDK inhibitor CR8 acts as a molecular glue degrader that depletes cyclin K"
   ]
  },
  {
   "cell_type": "markdown",
   "id": "e676f60d",
   "metadata": {},
   "source": [
    "## integration of 1M gut - differentiation\n",
    "- Benchmarking atlas-level data integration in single-cell genomics - NM"
   ]
  },
  {
   "cell_type": "code",
   "execution_count": null,
   "id": "48ee8f05",
   "metadata": {},
   "outputs": [],
   "source": []
  },
  {
   "cell_type": "markdown",
   "id": "65adcf64",
   "metadata": {},
   "source": [
    "## ChIP-seq & RNA-seq\n",
    "- Dynamic Chromatin States Coupling with Key Transcription Factors in Colitis-Associated Colorectal Cancer - Adv Sci - 2022 - https://onlinelibrary.wiley.com/doi/full/10.1002/advs.202200536"
   ]
  },
  {
   "cell_type": "code",
   "execution_count": null,
   "id": "0967699d",
   "metadata": {},
   "outputs": [],
   "source": []
  },
  {
   "cell_type": "markdown",
   "id": "d32a2b35",
   "metadata": {},
   "source": [
    "### RNA splicing\n",
    "- RBFOX2 modulates a metastatic signature of alternative splicing in pancreatic cancer - Nature - 2023"
   ]
  },
  {
   "cell_type": "markdown",
   "id": "093e6832",
   "metadata": {},
   "source": [
    "- Stepwise-edited, human melanoma models reveal mutations’ effect on tumor and microenvironment - 2022 - Science\n",
    "- why Stepwise? 不就是多个mouse model吗，有什么亮点？\n",
    "- "
   ]
  },
  {
   "cell_type": "markdown",
   "id": "1eb3d9ae",
   "metadata": {},
   "source": [
    "### Sox9 Gastro"
   ]
  },
  {
   "cell_type": "markdown",
   "id": "dee80de5",
   "metadata": {},
   "source": [
    "### Sox9 Sci Adv"
   ]
  },
  {
   "cell_type": "markdown",
   "id": "d84490c9",
   "metadata": {},
   "source": [
    "### Others\n",
    "- Collective regulation of chromatin modifications predicts replication timing during cell cycle"
   ]
  },
  {
   "cell_type": "markdown",
   "id": "0ca2f227",
   "metadata": {},
   "source": [
    "## Screening and function\n",
    "- Re-programing Chromatin with a Bifunctional LSD1/HDAC Inhibitor Induces Therapeutic Differentiation in DIPG - https://doi.org/10.1016/j.ccell.2019.09.005\n",
    "- KAT6A and ENL Form an Epigenetic Transcriptional Control Module to Drive Critical Leukemogenic Gene-Expression Programs - https://doi.org/10.1158/2159-8290.CD-20-1459"
   ]
  },
  {
   "cell_type": "markdown",
   "id": "085c4727",
   "metadata": {},
   "source": [
    "## 3D genome\n",
    "- Structural elements promote architectural stripe formation and facilitate ultra-long-range gene regulation at a human disease locus - MC - 2023"
   ]
  },
  {
   "cell_type": "markdown",
   "id": "47001e09",
   "metadata": {},
   "source": [
    "## Human TF footprint DB\n",
    "- saturation curve\n",
    "- motif groups\n",
    "- co-localization\n",
    "- Atlas of Transcription Factor Binding Sites from ENCODE DNase Hypersensitivity Data across 27 Tissue Types - CR - 2020\n",
    "- footprintDB: a database of transcription factors with annotated cis elements and binding interfaces - Bioinfo - 2014"
   ]
  },
  {
   "cell_type": "markdown",
   "id": "92388830",
   "metadata": {},
   "source": [
    "## single-cell style peak/motif UMAP plot\n",
    "- peak motif UMAP\n",
    "- Factorbook: an updated catalog of transcription factor motifs and candidate regulatory motif sites - NAR - 2022\n",
    "- BindVAE: Dirichlet variational autoencoders for de novo motif discovery from accessible chromatin - GB - 2022"
   ]
  },
  {
   "cell_type": "markdown",
   "id": "80ace54d",
   "metadata": {},
   "source": [
    "## CRC Atlas\n",
    "- NCBI paper: https://pubmed.ncbi.nlm.nih.gov/?term=single+cell+AND+colorectal+cancer&filter=years.2017-2023"
   ]
  },
  {
   "cell_type": "markdown",
   "id": "7e6c07b6",
   "metadata": {},
   "source": [
    "## Single cell cancer epigenetics\n",
    "- https://www.sciencedirect.com/science/article/pii/S2405803322001339\n",
    "- https://mp.weixin.qq.com/s/7NGunjUnjO4MndmdRK0tvw"
   ]
  },
  {
   "cell_type": "markdown",
   "id": "d9138e82",
   "metadata": {},
   "source": [
    "## apoptotic\n",
    "- The TRAIL apoptotic pathway in cancer onset, progression and therapy"
   ]
  },
  {
   "cell_type": "markdown",
   "id": "028b4754",
   "metadata": {},
   "source": [
    "## AI\n",
    "- [AI Tool Predicts Colon Cancer Survival, Treatment Response](https://hms.harvard.edu/news/ai-tool-predicts-colon-cancer-survival-treatment-response?utm_source=SilverpopMailing&utm_medium=email&utm_campaign=Daily%20Gazette%2020230414%20(1))\n",
    "- https://github.com/hms-dbmi/MOMA"
   ]
  },
  {
   "cell_type": "code",
   "execution_count": null,
   "id": "1fbb4eaf",
   "metadata": {},
   "outputs": [],
   "source": []
  },
  {
   "cell_type": "markdown",
   "id": "5aed826d",
   "metadata": {},
   "source": [
    "## scPeak2Gene\n",
    "- 目前还没有很好用的工具，单细胞多组学数据高度可信\n",
    "- 这个功能非常重要，最好了引用量会非常大，可以一战成名\n",
    "- 可以给出非常量化的线性关系，可以问出非常高质量的问题，突破3D genome的界限，直接用association链接\n",
    "- 对一个特定的genome，peak是可以被穷尽的，应该有自己的gtf文件\n",
    "- 能否找到一个特定的CRC distal enhancer能驱动关键stem或diff gene的表达，比如SOX9或KRT20，实验验证一下\n",
    "- 学习一下MIRA，这应该是nature method和genome biology水平的文章\n",
    "- tissue specific scPeak2Gene"
   ]
  },
  {
   "cell_type": "code",
   "execution_count": null,
   "id": "d187c26f",
   "metadata": {},
   "outputs": [],
   "source": []
  },
  {
   "cell_type": "code",
   "execution_count": null,
   "id": "9b04b7a2",
   "metadata": {},
   "outputs": [],
   "source": []
  }
 ],
 "metadata": {
  "kernelspec": {
   "display_name": "R 4.1",
   "language": "R",
   "name": "ir41"
  },
  "language_info": {
   "codemirror_mode": "r",
   "file_extension": ".r",
   "mimetype": "text/x-r-source",
   "name": "R",
   "pygments_lexer": "r",
   "version": "4.2.2"
  },
  "toc": {
   "base_numbering": 1,
   "nav_menu": {},
   "number_sections": true,
   "sideBar": true,
   "skip_h1_title": false,
   "title_cell": "Table of Contents",
   "title_sidebar": "Contents",
   "toc_cell": false,
   "toc_position": {
    "height": "calc(100% - 180px)",
    "left": "10px",
    "top": "150px",
    "width": "278.188px"
   },
   "toc_section_display": true,
   "toc_window_display": true
  }
 },
 "nbformat": 4,
 "nbformat_minor": 5
}
