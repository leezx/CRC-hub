{
 "cells": [
  {
   "cell_type": "markdown",
   "id": "102433fd",
   "metadata": {},
   "source": [
    "# lineage tracing\n",
    "- for our project, we hypothesize the diffed cells many turn back to AbSc, we want mtDNA evidence!"
   ]
  },
  {
   "cell_type": "markdown",
   "id": "7b661bea",
   "metadata": {},
   "source": [
    "## ref\n",
    "- Massively parallel single-cell mitochondrial DNA genotyping and chromatin profiling\n",
    "- Lineage tracing on transcriptional landscapes links state to fate during differentiation"
   ]
  },
  {
   "cell_type": "code",
   "execution_count": null,
   "id": "d597a192",
   "metadata": {},
   "outputs": [],
   "source": []
  },
  {
   "cell_type": "markdown",
   "id": "522e03c4",
   "metadata": {},
   "source": [
    "## mgatk\n",
    "- https://github.com/caleblareau/mgatk/wiki/Installation\n",
    "- https://github.com/caleblareau/mgatk/wiki"
   ]
  },
  {
   "cell_type": "markdown",
   "id": "3cc122f4",
   "metadata": {},
   "source": [
    "```\n",
    "conda create -n mgatk\n",
    "conda activate mgatk\n",
    "pip3 install mgatk\n",
    "mgatk --version\n",
    "```"
   ]
  },
  {
   "cell_type": "markdown",
   "id": "86cbaa04",
   "metadata": {},
   "source": [
    "## snplite"
   ]
  },
  {
   "cell_type": "code",
   "execution_count": null,
   "id": "79c746a6",
   "metadata": {},
   "outputs": [],
   "source": []
  },
  {
   "cell_type": "code",
   "execution_count": null,
   "id": "31bdcd2f",
   "metadata": {},
   "outputs": [],
   "source": []
  }
 ],
 "metadata": {
  "kernelspec": {
   "display_name": "R 4.1",
   "language": "R",
   "name": "ir41"
  },
  "language_info": {
   "codemirror_mode": "r",
   "file_extension": ".r",
   "mimetype": "text/x-r-source",
   "name": "R",
   "pygments_lexer": "r",
   "version": "4.2.2"
  },
  "toc": {
   "base_numbering": 1,
   "nav_menu": {},
   "number_sections": true,
   "sideBar": true,
   "skip_h1_title": false,
   "title_cell": "Table of Contents",
   "title_sidebar": "Contents",
   "toc_cell": false,
   "toc_position": {},
   "toc_section_display": true,
   "toc_window_display": true
  }
 },
 "nbformat": 4,
 "nbformat_minor": 5
}
