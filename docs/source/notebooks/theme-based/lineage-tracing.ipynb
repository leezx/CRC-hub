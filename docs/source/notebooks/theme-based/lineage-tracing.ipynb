{
 "cells": [
  {
   "cell_type": "markdown",
   "id": "102433fd",
   "metadata": {},
   "source": [
    "# lineage tracing\n",
    "- for our project, we hypothesize the diffed cells many turn back to AbSc, we want mtDNA evidence!"
   ]
  },
  {
   "cell_type": "markdown",
   "id": "4194e6c6",
   "metadata": {},
   "source": [
    "## lineage\n",
    "\n",
    "### lineage inference\n",
    "- reconstruct lineage tree by somatic mutation in cancer\n",
    "- [Reconstructing the Lineage Histories and Differentiation Trajectories of Individual Cancer Cells in Myeloproliferative Neoplasms](https://www.sciencedirect.com/science/article/pii/S1934590921000515)\n",
    "- [Reconstructing mutational lineages in breast cancer by multi-patient-targeted single-cell DNA sequencing](https://www.sciencedirect.com/science/article/pii/S2666979X22001689)\n",
    "- [A practical guide to cancer subclonal reconstruction from DNA sequencing](https://www.nature.com/articles/s41592-020-01013-2)\n",
    "- [Somatic Mutations Reveal Lineage Relationships and Age-Related Mutagenesis in Human Hematopoiesis](https://www.sciencedirect.com/science/article/pii/S2211124718317601?via%3Dihub)\n",
    "\n",
    "### Tools\n",
    "- [Fast and scalable inference of multi-sample cancer lineages](https://genomebiology.biomedcentral.com/articles/10.1186/s13059-015-0647-8#Abs1)\n",
    "\n",
    "### Cancer evolution\n",
    "- [Spatial biology of cancer evolution](https://www.nature.com/articles/s41576-022-00553-x)\n",
    "- [Cancer evolution: Darwin and beyond](https://www.embopress.org/doi/full/10.15252/embj.2021108389)\n",
    "- [How cancer shapes evolution, and how evolution shapes cancer](https://www.ncbi.nlm.nih.gov/pmc/articles/PMC3660034/)\n",
    "- "
   ]
  },
  {
   "cell_type": "markdown",
   "id": "7b661bea",
   "metadata": {},
   "source": [
    "## ref\n",
    "- Massively parallel single-cell mitochondrial DNA genotyping and chromatin profiling\n",
    "- Lineage tracing on transcriptional landscapes links state to fate during differentiation - Science - 2020 - Paul"
   ]
  },
  {
   "cell_type": "markdown",
   "id": "45061611",
   "metadata": {},
   "source": [
    "## lineage tracing\n",
    "- in silico lineage tracing\n",
    "- Single-cell multi-omics and lineage tracing to dissect cell fate decision-making - 2023 - Stem Cell Reports\n",
    "- Lineage tracing meets single-cell omics: opportunities and challenges - review - 2020 - Nature Reviews Genetics\n",
    "- Connecting past and present: single-cell lineage tracing - PC - 2022"
   ]
  },
  {
   "cell_type": "markdown",
   "id": "522e03c4",
   "metadata": {},
   "source": [
    "## mgatk\n",
    "- https://github.com/caleblareau/mgatk/wiki/Installation\n",
    "- https://github.com/caleblareau/mgatk/wiki"
   ]
  },
  {
   "cell_type": "markdown",
   "id": "3cc122f4",
   "metadata": {},
   "source": [
    "```\n",
    "conda create -n mgatk\n",
    "conda activate mgatk\n",
    "pip3 install mgatk\n",
    "mgatk --version\n",
    "```"
   ]
  },
  {
   "cell_type": "markdown",
   "id": "86cbaa04",
   "metadata": {},
   "source": [
    "## snplite"
   ]
  },
  {
   "cell_type": "code",
   "execution_count": null,
   "id": "79c746a6",
   "metadata": {},
   "outputs": [],
   "source": []
  },
  {
   "cell_type": "markdown",
   "id": "3482bb03",
   "metadata": {},
   "source": [
    "## intestinal regeneration\n",
    "- Single-cell transcriptomes of the regenerating intestine reveal a revival stem cell - Nature - 2019\n",
    "- Single-Cell Studies of Intestinal Stem Cell Heterogeneity During Homeostasis and Regeneration - 2020\n",
    "- Regenerative Intestinal Stem Cells Induced by Acute and Chronic Injury: The Saving Grace of the Epithelium? - review - 2020"
   ]
  },
  {
   "cell_type": "code",
   "execution_count": null,
   "id": "398c1d49",
   "metadata": {},
   "outputs": [],
   "source": []
  },
  {
   "cell_type": "code",
   "execution_count": null,
   "id": "31bdcd2f",
   "metadata": {},
   "outputs": [],
   "source": []
  }
 ],
 "metadata": {
  "kernelspec": {
   "display_name": "R 4.1",
   "language": "R",
   "name": "ir41"
  },
  "language_info": {
   "codemirror_mode": "r",
   "file_extension": ".r",
   "mimetype": "text/x-r-source",
   "name": "R",
   "pygments_lexer": "r",
   "version": "4.2.2"
  },
  "toc": {
   "base_numbering": 1,
   "nav_menu": {},
   "number_sections": true,
   "sideBar": true,
   "skip_h1_title": false,
   "title_cell": "Table of Contents",
   "title_sidebar": "Contents",
   "toc_cell": false,
   "toc_position": {},
   "toc_section_display": true,
   "toc_window_display": true
  }
 },
 "nbformat": 4,
 "nbformat_minor": 5
}
