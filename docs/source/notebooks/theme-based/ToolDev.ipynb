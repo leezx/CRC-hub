{
 "cells": [
  {
   "cell_type": "markdown",
   "id": "3eb1e038",
   "metadata": {},
   "source": [
    "# ToolDev"
   ]
  },
  {
   "cell_type": "markdown",
   "id": "b2958df6",
   "metadata": {},
   "source": [
    "## BT2M\n",
    "- A tool about feature module identification in single-cell data"
   ]
  },
  {
   "cell_type": "markdown",
   "id": "83900270",
   "metadata": {},
   "source": [
    "## CRAIP\n",
    "- A tool about causal GRN inference"
   ]
  },
  {
   "cell_type": "markdown",
   "id": "1d6eb87a",
   "metadata": {},
   "source": [
    "## inferGEX\n",
    "- A tool about gene expression prediction based on epigenetic and DNA-binding protein\n",
    "- Working model: transcription is a key stop, it's determined by epigenetic features and DBP function\n",
    "- GEX是无法绕开的层级，也是表观层级的体现，GEX能解释大部分的phenotype的variation，其下游的也很重要，但目前我们暂时忽略\n",
    "\n",
    "Current findings:\n",
    "- loss of peaks (scATAC-seq) can well predict gene down-expression\n",
    "- while the activation of gene expression is much more complex, it needs both gain of peaks and DBP function\n",
    "\n",
    "基本假设：\n",
    "- 在单细胞的数据里，一些feature module是受共同factors来驱使的，gene是存在功能上的冗余的，所以研究主体应该是module；\n",
    "- 我的假设是：在single-cell multi-omics数据里，我们可以根据一些核心数据来predict一些module的表达，这种可解释的model非常重要；\n",
    "\n",
    "目的：\n",
    "- 基因转录表达是一个非常可靠的、有价值的层级，所有长期的反应都依赖于alter gene expression；\n",
    "- 想要操纵gene expression，细胞就必须开启两方面的功能：chromatin modeling和DBP的招募；\n",
    "- 有了一个非常可靠的预测模型后，我们就可以做一些其他的工作，继续拓展我们的预测，来寻找关键的regulator；\n",
    "- 预测GEX不是目的，而是构建一种关系，寻找核心驱动因子；【因为GEX大部分都被观测了】\n",
    "\n",
    "灵感来源：\n",
    "- M60的HDAC，虽然作用于DNA，但也分direct和indirect两种方式，最好还是做实验来区分，计算方法很难区分，除非知道准确的motif；\n",
    "- multi-omics项目，我们可以根据peak来预测基因表达，但我的研究发现loss peak能很好预测down，而gain peak则比较复杂；\n",
    "- 于是我就想，能不能建立一个更加完整的工作模型，来预测GEX，通过引入已知的DBP和表观因子；"
   ]
  },
  {
   "cell_type": "code",
   "execution_count": null,
   "id": "78428cbc",
   "metadata": {},
   "outputs": [],
   "source": []
  }
 ],
 "metadata": {
  "kernelspec": {
   "display_name": "R 4.1",
   "language": "R",
   "name": "ir41"
  },
  "language_info": {
   "codemirror_mode": "r",
   "file_extension": ".r",
   "mimetype": "text/x-r-source",
   "name": "R",
   "pygments_lexer": "r",
   "version": "4.2.2"
  },
  "toc": {
   "base_numbering": 1,
   "nav_menu": {},
   "number_sections": true,
   "sideBar": true,
   "skip_h1_title": false,
   "title_cell": "Table of Contents",
   "title_sidebar": "Contents",
   "toc_cell": false,
   "toc_position": {},
   "toc_section_display": true,
   "toc_window_display": true
  }
 },
 "nbformat": 4,
 "nbformat_minor": 5
}
