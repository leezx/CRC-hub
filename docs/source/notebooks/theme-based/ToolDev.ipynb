{
 "cells": [
  {
   "cell_type": "markdown",
   "id": "3f05ada2",
   "metadata": {},
   "source": [
    "# ToolDev"
   ]
  },
  {
   "cell_type": "markdown",
   "id": "d338101b",
   "metadata": {},
   "source": [
    "## Comp tools"
   ]
  },
  {
   "cell_type": "markdown",
   "id": "0ee43734",
   "metadata": {},
   "source": [
    "### BT2M\n",
    "- A tool about feature module identification in single-cell data"
   ]
  },
  {
   "cell_type": "markdown",
   "id": "2fa135fe",
   "metadata": {},
   "source": [
    "### CRAIP\n",
    "- A tool about causal GRN inference"
   ]
  },
  {
   "cell_type": "markdown",
   "id": "2f03194c",
   "metadata": {},
   "source": [
    "### inferGEX\n",
    "- A tool about gene expression prediction based on epigenetic and DNA-binding protein\n",
    "- Working model: transcription is a key stop, it's determined by epigenetic features and DBP function\n",
    "- GEX是无法绕开的层级，也是表观层级的体现，GEX能解释大部分的phenotype的variation，其下游的也很重要，但目前我们暂时忽略\n",
    "\n",
    "Current findings:\n",
    "- loss of peaks (scATAC-seq) can well predict gene down-expression\n",
    "- while the activation of gene expression is much more complex, it needs both gain of peaks and DBP function\n",
    "\n",
    "基本假设：\n",
    "- 在单细胞的数据里，一些feature module是受共同factors来驱使的，gene是存在功能上的冗余的，所以研究主体应该是module；\n",
    "- 我的假设是：在single-cell multi-omics数据里，我们可以根据一些核心数据来predict一些module的表达，这种可解释的model非常重要；\n",
    "\n",
    "目的：\n",
    "- 基因转录表达是一个非常可靠的、有价值的层级，所有长期的反应都依赖于alter gene expression；\n",
    "- 想要操纵gene expression，细胞就必须开启两方面的功能：chromatin modeling和DBP的招募；\n",
    "- 有了一个非常可靠的预测模型后，我们就可以做一些其他的工作，继续拓展我们的预测，来寻找关键的regulator；\n",
    "- 预测GEX不是目的，而是构建一种关系，寻找核心驱动因子；【因为GEX大部分都被观测了】\n",
    "\n",
    "灵感来源：\n",
    "- M60的HDAC，虽然作用于DNA，但也分direct和indirect两种方式，最好还是做实验来区分，计算方法很难区分，除非知道准确的motif；\n",
    "- multi-omics项目，我们可以根据peak来预测基因表达，但我的研究发现loss peak能很好预测down，而gain peak则比较复杂；\n",
    "- 于是我就想，能不能建立一个更加完整的工作模型，来预测GEX，通过引入已知的DBP和表观因子；"
   ]
  },
  {
   "cell_type": "markdown",
   "id": "9e974746",
   "metadata": {},
   "source": [
    "#### Deep learning\n",
    "\n",
    "序列预测chromatin state：\n",
    "- 非常简单的想法，模型也非常简单！\n",
    "- DeepSEA: Predicting effects of noncoding variants with deep learning–based sequence model - NM - 2015\n",
    "- [Deep Learning & Computational Biology: DeepSEA](https://mp.weixin.qq.com/s/_5l-pj-aaBSyHdOY2eyJfA)\n",
    "- PlantDeepSEA: PlantDeepSEA, a deep learning-based web service to predict the regulatory effects of genomic variants in plants - NAR - 2021\n",
    "- Selene: a PyTorch-based deep learning library for sequence data - NM - 2019\n",
    "\n",
    "自选的一些特征预测基因相对表达量：\n",
    "- ATAC的划分\n",
    "- motif的出现\n",
    "- co-factor\n",
    "- 预测基因的相对表达量\n",
    "\n",
    "参考：\n",
    "- Joint profiling of chromatin accessibility and gene expression in thousands of single cells\n",
    "- Prediction of single-cell gene expression for transcription factor analysis\n",
    "- Predicting cell-type–specific gene expression from regions of open chromatin\n",
    "- A deep generative model for multi-view profiling of single-cell RNA-seq and ATAC-seq data\n",
    "- Single cell transcriptional and chromatin accessibility profiling redefine cellular heterogeneity in the adult human kidney\n",
    "- CoRE-ATAC: A deep learning model for the functional classification of regulatory elements from single cell and bulk ATAC-seq data\n",
    "- DeepCpG: accurate prediction of single-cell DNA methylation states using deep learning\n",
    "- https://deepcpg.readthedocs.io/en/latest/\n",
    "- [Google发布DeepVariant开源版本，准确性提升50% | 八款基因组学AI工具解读](https://mp.weixin.qq.com/s/dtu0n7zckgCgwh6AdUPm6g)"
   ]
  },
  {
   "cell_type": "markdown",
   "id": "a1187d7b",
   "metadata": {},
   "source": [
    "文献：\n",
    "- Computational inference of cancer-specific vulnerabilities in clinical samples - 2020 - GB"
   ]
  },
  {
   "cell_type": "markdown",
   "id": "c0f4c31f",
   "metadata": {},
   "source": [
    "### deepGEX"
   ]
  },
  {
   "cell_type": "markdown",
   "id": "a18e099a",
   "metadata": {},
   "source": [
    "#### cell type specific GRN and in silico perturbation\n",
    "References看有没有人已经做了：\n",
    "- DeepDRIM: a deep neural network to reconstruct cell-type-specific gene regulatory network using single-cell RNA-seq data - BIB - 2021\n",
    "- scBERT as a large-scale pretrained deep language model for cell type annotation of single-cell RNA-seq data - NMI - 2022\n",
    "- scGNN is a novel graph neural network framework for single-cell RNA-Seq analyses - NC - 2021\n",
    "- Learning Cell-Type-Specific Gene Regulation Mechanisms by Multi-Attention Based Deep Learning With Regulatory Latent Space - 2020 - frontier\n",
    "- Applications of deep learning in understanding gene regulation - reivew - 2023\n",
    "- scGRNom: a computational pipeline of integrative multi-omics analyses for predicting cell-type disease genes and regulatory networks - GM - 2021\n",
    "- Deep learning for inferring gene relationships from single-cell expression data - PNAS - 2019\n",
    "- **Applications of deep learning in understanding gene regulation - CRM - 2023**\n",
    "- **Machine learning for perturbational single-cell omics - cell systems - 2021**\n",
    "- **Deep transfer learning of cancer drug responses by integrating bulk and single-cell RNA-seq data - NC - 2022**\n",
    "- https://github.com/theislab/sc-pert"
   ]
  },
  {
   "cell_type": "markdown",
   "id": "d3244478",
   "metadata": {},
   "source": [
    "key steps:\n",
    "- [How to choose the number of hidden layers and nodes in a feedforward neural network?](https://stats.stackexchange.com/questions/181/how-to-choose-the-number-of-hidden-layers-and-nodes-in-a-feedforward-neural-netw)\n",
    "- [How to Configure the Number of Layers and Nodes in a Neural Network](https://machinelearningmastery.com/how-to-configure-the-number-of-layers-and-nodes-in-a-neural-network/)"
   ]
  },
  {
   "cell_type": "code",
   "execution_count": null,
   "id": "55b54950",
   "metadata": {},
   "outputs": [],
   "source": []
  },
  {
   "cell_type": "code",
   "execution_count": null,
   "id": "5cfd2267",
   "metadata": {},
   "outputs": [],
   "source": []
  },
  {
   "cell_type": "markdown",
   "id": "c61f9048",
   "metadata": {},
   "source": [
    "### Epigenetic\n",
    "- Epigenetic tools (The Writers, The Readers and The Erasers) and their implications in cancer therapy - European Journal of Pharmacology - 2018\n",
    "- Writing, erasing and reading histone lysine methylations - 2017\n",
    "- Regulation of chromatin by histone modifications - review - 2011\n",
    "- Collective regulation of chromatin modifications predicts replication timing during cell cycle - Cell Reports - 2021\n",
    "\n",
    "\n",
    "- HDAC是什么角色？Erasers？\n",
    "- HDACs are erasers — they remove acetyl groups from histone proteins, resulting in increased expression of associated genes.\n",
    "- [EPIGENETICS: WRITING, READING, & ERASING](https://weekly.biotechprimer.com/epigenetics-writing-reading-erasing/)"
   ]
  },
  {
   "cell_type": "markdown",
   "id": "f993c851",
   "metadata": {},
   "source": [
    "### epi tools\n",
    "- Readers, Writers, and Erasers Chromatin as the Whiteboard of Heart Disease - 2015\n",
    "- Epigenetic tools (The Writers, The Readers and The Erasers) and their implications in cancer therapy - 2018\n",
    "- Writing, erasing and reading histone lysine methylations - 2017"
   ]
  },
  {
   "cell_type": "code",
   "execution_count": null,
   "id": "6bfd5212",
   "metadata": {},
   "outputs": [],
   "source": []
  },
  {
   "cell_type": "markdown",
   "id": "c04c81cb",
   "metadata": {},
   "source": [
    "## Exp tools"
   ]
  },
  {
   "cell_type": "markdown",
   "id": "d56b9cac",
   "metadata": {},
   "source": [
    "### Direct cut&run\n",
    "- Method 1: keep DNA-protein, exclude protein-protein interactions [diffcult to remove PPI]\n",
    "- Method 2: Predict candidate PPI, using other antibody to filter [much easy]\n",
    "- Method 3: Using general histone antibody to pull down indirect interaction [much easy]\n",
    "- An optimized two-step chromatin immunoprecipitation protocol to quantify the associations of two separate proteins and their common target DNA - STAR Protoc - 2021\n",
    "- [Any suggestions on how to break protein aggregation?](https://www.researchgate.net/post/Any-suggestions-on-how-to-break-protein-aggregation#:~:text=Adding%20salt%20so%20prevent%20protein,or%20glutamate%20in%20mM%20concentrations.)\n",
    "- 原则：直接抓会比global block简单很多，cross-link比unlink简单；"
   ]
  },
  {
   "cell_type": "code",
   "execution_count": null,
   "id": "7bb13797",
   "metadata": {},
   "outputs": [],
   "source": []
  },
  {
   "cell_type": "code",
   "execution_count": null,
   "id": "d45815ee",
   "metadata": {},
   "outputs": [],
   "source": []
  }
 ],
 "metadata": {
  "kernelspec": {
   "display_name": "R 4.1",
   "language": "R",
   "name": "ir41"
  },
  "language_info": {
   "codemirror_mode": "r",
   "file_extension": ".r",
   "mimetype": "text/x-r-source",
   "name": "R",
   "pygments_lexer": "r",
   "version": "4.2.2"
  },
  "toc": {
   "base_numbering": 1,
   "nav_menu": {},
   "number_sections": true,
   "sideBar": true,
   "skip_h1_title": false,
   "title_cell": "Table of Contents",
   "title_sidebar": "Contents",
   "toc_cell": false,
   "toc_position": {
    "height": "calc(100% - 180px)",
    "left": "10px",
    "top": "150px",
    "width": "278.188px"
   },
   "toc_section_display": true,
   "toc_window_display": true
  }
 },
 "nbformat": 4,
 "nbformat_minor": 5
}
