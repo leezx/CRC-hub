{
 "cells": [
  {
   "cell_type": "markdown",
   "id": "d077d9aa",
   "metadata": {},
   "source": [
    "# NGS-Multiomics"
   ]
  },
  {
   "cell_type": "markdown",
   "id": "ffd89c92",
   "metadata": {},
   "source": [
    "## DNA"
   ]
  },
  {
   "cell_type": "markdown",
   "id": "ce9170e1",
   "metadata": {},
   "source": [
    "### cfDNA\n",
    "- [Epigenetic analysis for early cancer detection](https://www.nature.com/articles/d42473-020-00273-y#ref-CR2)"
   ]
  },
  {
   "cell_type": "code",
   "execution_count": null,
   "id": "a1358866",
   "metadata": {},
   "outputs": [],
   "source": []
  },
  {
   "cell_type": "markdown",
   "id": "50cc04fd",
   "metadata": {},
   "source": [
    "## Epigenetic\n",
    "- [Transcriptional enhancers: from properties to genome-wide predictions](https://www.nature.com/articles/nrg3682) - Nature Reviews Genetics - 2014"
   ]
  },
  {
   "cell_type": "markdown",
   "id": "29f920ae",
   "metadata": {},
   "source": [
    "### ChIP-seq"
   ]
  },
  {
   "cell_type": "markdown",
   "id": "6665a8ad",
   "metadata": {},
   "source": [
    "### ATAC-seq"
   ]
  },
  {
   "cell_type": "markdown",
   "id": "c870e2a6",
   "metadata": {},
   "source": [
    "### CUT&RUN\n",
    "- Experiment: Genome wide binding of SOX9 in Normal and Adenoma organoids\n",
    "- Kit: EpiCypher CUTANA ChIC/CUT&RUN Kit\n",
    "- https://www.epicypher.com/products/epigenetics-reagents-and-assays/cutana-chic-cut-and-run-kit\n",
    "- Library preparation: NEB Ultra DNA library preparation Kit\n",
    "- https://www.neb.com/products/e7370-nebnext-ultra-dna-library-prep-kit-for-illumina#Product%20Information\n",
    "- Sequencing: Illumina 3M reads/sample\n",
    "\n",
    "#### Type\n",
    "- IgG\n",
    "- Spike-In\n",
    "- TF\n",
    "- Histone\n",
    "\n",
    "#### Main problem\n",
    "- quality of TF, evaluated by mapping rate\n",
    "- quality of replicate"
   ]
  },
  {
   "cell_type": "markdown",
   "id": "a25da762",
   "metadata": {},
   "source": [
    "### Chem-seq"
   ]
  },
  {
   "cell_type": "code",
   "execution_count": null,
   "id": "d4ee48c1",
   "metadata": {},
   "outputs": [],
   "source": []
  },
  {
   "cell_type": "markdown",
   "id": "01547a19",
   "metadata": {},
   "source": [
    "## Transcription"
   ]
  },
  {
   "cell_type": "markdown",
   "id": "6b80c87d",
   "metadata": {},
   "source": [
    "### Bulk RNA-seq"
   ]
  },
  {
   "cell_type": "markdown",
   "id": "f18b34b4",
   "metadata": {},
   "source": [
    "### 10x single-cell RNA-seq"
   ]
  },
  {
   "cell_type": "code",
   "execution_count": null,
   "id": "5c44f40b",
   "metadata": {},
   "outputs": [],
   "source": []
  },
  {
   "cell_type": "markdown",
   "id": "bddf9360",
   "metadata": {},
   "source": [
    "## Protein"
   ]
  },
  {
   "cell_type": "code",
   "execution_count": null,
   "id": "97bdc04c",
   "metadata": {},
   "outputs": [],
   "source": []
  },
  {
   "cell_type": "markdown",
   "id": "6ec0199f",
   "metadata": {},
   "source": [
    "## Metabolite"
   ]
  },
  {
   "cell_type": "code",
   "execution_count": null,
   "id": "9eca589d",
   "metadata": {},
   "outputs": [],
   "source": []
  },
  {
   "cell_type": "markdown",
   "id": "b70338df",
   "metadata": {},
   "source": [
    "## multi-omics"
   ]
  },
  {
   "cell_type": "markdown",
   "id": "028d37fc",
   "metadata": {},
   "source": [
    "### 10x multi-omics seq"
   ]
  },
  {
   "cell_type": "code",
   "execution_count": null,
   "id": "5d0c57c4",
   "metadata": {},
   "outputs": [],
   "source": []
  },
  {
   "cell_type": "markdown",
   "id": "e85f4154",
   "metadata": {},
   "source": [
    "## 10x spatial transcriptome"
   ]
  },
  {
   "cell_type": "markdown",
   "id": "1461c995",
   "metadata": {},
   "source": [
    "- 4 slices - $17k (~4k for each slice)\n",
    "- 3 other backup slices for each (thickness: 1 cell ~ 2 slices)\n",
    "- https://www.10xgenomics.com/spatial-transcriptomics\n",
    "- FFPE fixed\n",
    "- key QC: 对切片中的RNA进行RIN值检测，保证其质量\n",
    "- key problem: low attachment\n",
    "\n",
    "参考：\n",
    "- [什么样的组织样本可以开展10x Visium空间转录组研究？| 空间转录组专题](https://mp.weixin.qq.com/s/yrkW0EAmLCKIqf2rYxjoVQ)\n",
    "- [技术介绍| 空间转录组-动植物样品采集](https://mp.weixin.qq.com/s/YQKGfAVUPL80wkCjGykFfw)\n",
    "- [技术介绍| 空间转录组-实验细则](https://mp.weixin.qq.com/s/Kl3RT9wjjpgq3z_8HXBadg)"
   ]
  },
  {
   "cell_type": "code",
   "execution_count": null,
   "id": "e20b8367",
   "metadata": {},
   "outputs": [],
   "source": []
  },
  {
   "cell_type": "code",
   "execution_count": null,
   "id": "f7cba9c5",
   "metadata": {},
   "outputs": [],
   "source": []
  },
  {
   "cell_type": "code",
   "execution_count": null,
   "id": "e9f855e9",
   "metadata": {},
   "outputs": [],
   "source": []
  },
  {
   "cell_type": "code",
   "execution_count": null,
   "id": "bbe784ca",
   "metadata": {},
   "outputs": [],
   "source": []
  },
  {
   "cell_type": "code",
   "execution_count": null,
   "id": "d8113f46",
   "metadata": {},
   "outputs": [],
   "source": []
  },
  {
   "cell_type": "code",
   "execution_count": null,
   "id": "d0a7ed09",
   "metadata": {},
   "outputs": [],
   "source": []
  },
  {
   "cell_type": "code",
   "execution_count": null,
   "id": "cb986a7f",
   "metadata": {},
   "outputs": [],
   "source": []
  },
  {
   "cell_type": "code",
   "execution_count": null,
   "id": "5c59e409",
   "metadata": {},
   "outputs": [],
   "source": []
  }
 ],
 "metadata": {
  "kernelspec": {
   "display_name": "R 4.1",
   "language": "R",
   "name": "ir41"
  },
  "language_info": {
   "codemirror_mode": "r",
   "file_extension": ".r",
   "mimetype": "text/x-r-source",
   "name": "R",
   "pygments_lexer": "r",
   "version": "4.2.2"
  },
  "toc": {
   "base_numbering": 1,
   "nav_menu": {},
   "number_sections": true,
   "sideBar": true,
   "skip_h1_title": false,
   "title_cell": "Table of Contents",
   "title_sidebar": "Contents",
   "toc_cell": false,
   "toc_position": {
    "height": "calc(100% - 180px)",
    "left": "10px",
    "top": "150px",
    "width": "278.188px"
   },
   "toc_section_display": true,
   "toc_window_display": true
  }
 },
 "nbformat": 4,
 "nbformat_minor": 5
}
