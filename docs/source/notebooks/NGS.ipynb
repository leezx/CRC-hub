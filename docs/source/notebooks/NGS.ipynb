{
 "cells": [
  {
   "cell_type": "markdown",
   "id": "d077d9aa",
   "metadata": {},
   "source": [
    "# NGS"
   ]
  },
  {
   "cell_type": "code",
   "execution_count": null,
   "id": "9eca589d",
   "metadata": {},
   "outputs": [],
   "source": []
  },
  {
   "cell_type": "markdown",
   "id": "64bd5559",
   "metadata": {},
   "source": [
    "## 10x single-cell RNA-seq"
   ]
  },
  {
   "cell_type": "code",
   "execution_count": null,
   "id": "49a7cbb8",
   "metadata": {},
   "outputs": [],
   "source": []
  },
  {
   "cell_type": "markdown",
   "id": "028d37fc",
   "metadata": {},
   "source": [
    "## 10x multi-omics seq"
   ]
  },
  {
   "cell_type": "code",
   "execution_count": null,
   "id": "5d0c57c4",
   "metadata": {},
   "outputs": [],
   "source": []
  },
  {
   "cell_type": "markdown",
   "id": "e85f4154",
   "metadata": {},
   "source": [
    "## 10x spatial transcriptome"
   ]
  },
  {
   "cell_type": "code",
   "execution_count": null,
   "id": "730703f0",
   "metadata": {},
   "outputs": [],
   "source": []
  },
  {
   "cell_type": "markdown",
   "id": "0ef668a1",
   "metadata": {},
   "source": [
    "## Bulk RNA-seq"
   ]
  },
  {
   "cell_type": "code",
   "execution_count": null,
   "id": "e20b8367",
   "metadata": {},
   "outputs": [],
   "source": []
  },
  {
   "cell_type": "code",
   "execution_count": null,
   "id": "f7cba9c5",
   "metadata": {},
   "outputs": [],
   "source": []
  },
  {
   "cell_type": "markdown",
   "id": "8ac5d644",
   "metadata": {},
   "source": [
    "## CUT&RUN\n",
    "- Experiment: Genome wide binding of SOX9 in Normal and Adenoma organoids\n",
    "- Kit: EpiCypher CUTANA ChIC/CUT&RUN Kit\n",
    "- https://www.epicypher.com/products/epigenetics-reagents-and-assays/cutana-chic-cut-and-run-kit\n",
    "- Library preparation: NEB Ultra DNA library preparation Kit\n",
    "- https://www.neb.com/products/e7370-nebnext-ultra-dna-library-prep-kit-for-illumina#Product%20Information\n",
    "- Sequencing: Illumina 3M reads/sample\n",
    "\n",
    "### Type\n",
    "- IgG\n",
    "- Spike-In\n",
    "- TF\n",
    "- Histone\n",
    "\n",
    "### Main problem\n",
    "- quality of TF, evaluated by mapping rate\n",
    "- quality of replicate"
   ]
  },
  {
   "cell_type": "code",
   "execution_count": null,
   "id": "e9f855e9",
   "metadata": {},
   "outputs": [],
   "source": []
  },
  {
   "cell_type": "markdown",
   "id": "0a262976",
   "metadata": {},
   "source": [
    "## Bulk ATAC-seq"
   ]
  },
  {
   "cell_type": "code",
   "execution_count": null,
   "id": "bbe784ca",
   "metadata": {},
   "outputs": [],
   "source": []
  },
  {
   "cell_type": "markdown",
   "id": "f5ccde41",
   "metadata": {},
   "source": [
    "## ChIP-seq"
   ]
  },
  {
   "cell_type": "code",
   "execution_count": null,
   "id": "d8113f46",
   "metadata": {},
   "outputs": [],
   "source": []
  },
  {
   "cell_type": "code",
   "execution_count": null,
   "id": "5c59e409",
   "metadata": {},
   "outputs": [],
   "source": []
  }
 ],
 "metadata": {
  "kernelspec": {
   "display_name": "R 4.1",
   "language": "R",
   "name": "ir41"
  },
  "language_info": {
   "codemirror_mode": "r",
   "file_extension": ".r",
   "mimetype": "text/x-r-source",
   "name": "R",
   "pygments_lexer": "r",
   "version": "4.2.2"
  },
  "toc": {
   "base_numbering": 1,
   "nav_menu": {},
   "number_sections": true,
   "sideBar": true,
   "skip_h1_title": false,
   "title_cell": "Table of Contents",
   "title_sidebar": "Contents",
   "toc_cell": false,
   "toc_position": {
    "height": "calc(100% - 180px)",
    "left": "10px",
    "top": "150px",
    "width": "278.188px"
   },
   "toc_section_display": true,
   "toc_window_display": true
  }
 },
 "nbformat": 4,
 "nbformat_minor": 5
}
