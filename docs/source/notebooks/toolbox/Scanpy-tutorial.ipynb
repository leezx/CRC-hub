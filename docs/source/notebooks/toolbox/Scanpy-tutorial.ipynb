{
 "cells": [
  {
   "cell_type": "markdown",
   "id": "a5229c0a",
   "metadata": {},
   "source": [
    "# Scanpy tutorial"
   ]
  },
  {
   "cell_type": "markdown",
   "id": "22e1faec",
   "metadata": {},
   "source": [
    "## load example"
   ]
  },
  {
   "cell_type": "code",
   "execution_count": null,
   "id": "47e3d2b5",
   "metadata": {},
   "outputs": [],
   "source": []
  },
  {
   "cell_type": "code",
   "execution_count": null,
   "id": "fa0cf2c3",
   "metadata": {},
   "outputs": [],
   "source": []
  },
  {
   "cell_type": "markdown",
   "id": "e2d6a1d7",
   "metadata": {},
   "source": [
    "## Python skills"
   ]
  },
  {
   "cell_type": "markdown",
   "id": "729ee07c",
   "metadata": {},
   "source": [
    "### list intersection"
   ]
  },
  {
   "cell_type": "code",
   "execution_count": null,
   "id": "3528303d",
   "metadata": {},
   "outputs": [],
   "source": [
    "rp_genes = [value for value in rp_genes if value in atac_data.uns['distance_to_TSS_genes']]"
   ]
  },
  {
   "cell_type": "markdown",
   "id": "53e0d31b",
   "metadata": {},
   "source": [
    "### pandas index"
   ]
  },
  {
   "cell_type": "code",
   "execution_count": null,
   "id": "ae2c924b",
   "metadata": {},
   "outputs": [],
   "source": [
    "rna_data.var_names = pd.Index([x.upper() for x in rna_data.var_names])"
   ]
  },
  {
   "cell_type": "markdown",
   "id": "94cf9d56",
   "metadata": {},
   "source": [
    "### split a string (ATAC peak)"
   ]
  },
  {
   "cell_type": "code",
   "execution_count": null,
   "id": "72122f98",
   "metadata": {},
   "outputs": [],
   "source": [
    "atac_data.var[\"chr\"] = [x.split(\"-\")[0] for x in atac_data.var.index]\n",
    "atac_data.var[\"start\"] = [x.split(\"-\")[1] for x in atac_data.var.index]\n",
    "atac_data.var[\"end\"] = [x.split(\"-\")[2] for x in atac_data.var.index]"
   ]
  },
  {
   "cell_type": "markdown",
   "id": "b2851fa9",
   "metadata": {},
   "source": [
    "### add new coloums"
   ]
  },
  {
   "cell_type": "code",
   "execution_count": null,
   "id": "b85dd210",
   "metadata": {},
   "outputs": [],
   "source": [
    "# Using 'Address' as the column name and equating it to the list\n",
    "df['Address'] = address"
   ]
  },
  {
   "cell_type": "code",
   "execution_count": null,
   "id": "509c04f7",
   "metadata": {},
   "outputs": [],
   "source": [
    "# rowname\n",
    "df.index"
   ]
  },
  {
   "cell_type": "markdown",
   "id": "c942aaaa",
   "metadata": {},
   "source": [
    "### check csc or csr elements"
   ]
  },
  {
   "cell_type": "code",
   "execution_count": null,
   "id": "f6b7cf65",
   "metadata": {},
   "outputs": [],
   "source": [
    "y = atac_data.X.data\n",
    "not np.all(np.isfinite(y))"
   ]
  },
  {
   "cell_type": "markdown",
   "id": "c968ecdd",
   "metadata": {},
   "source": [
    "### csc replace elements"
   ]
  },
  {
   "cell_type": "code",
   "execution_count": 5,
   "id": "c457a9c0",
   "metadata": {},
   "outputs": [],
   "source": [
    "from scipy import sparse\n",
    "import numpy as np"
   ]
  },
  {
   "cell_type": "code",
   "execution_count": 6,
   "id": "c36beb66",
   "metadata": {},
   "outputs": [],
   "source": [
    "x = sparse.csr_matrix(np.array([[1, 0.1, -2, 0, 3],  \n",
    "                          [0, -4, -1, 5, 0]]))"
   ]
  },
  {
   "cell_type": "code",
   "execution_count": 7,
   "id": "8e86ee5c",
   "metadata": {},
   "outputs": [
    {
     "data": {
      "text/plain": [
       "array([ 1. ,  0.1, -2. ,  3. , -4. , -1. ,  5. ])"
      ]
     },
     "execution_count": 7,
     "metadata": {},
     "output_type": "execute_result"
    }
   ],
   "source": [
    "x.data "
   ]
  },
  {
   "cell_type": "code",
   "execution_count": 8,
   "id": "d7085997",
   "metadata": {},
   "outputs": [],
   "source": [
    "mask = np.abs(x.data)<3"
   ]
  },
  {
   "cell_type": "code",
   "execution_count": 9,
   "id": "423f29a6",
   "metadata": {},
   "outputs": [],
   "source": [
    "x.data[mask]=0 "
   ]
  },
  {
   "cell_type": "code",
   "execution_count": 10,
   "id": "43edb274",
   "metadata": {},
   "outputs": [
    {
     "data": {
      "text/plain": [
       "array([[ 0.,  0.,  0.,  0.,  3.],\n",
       "       [ 0., -4.,  0.,  5.,  0.]])"
      ]
     },
     "execution_count": 10,
     "metadata": {},
     "output_type": "execute_result"
    }
   ],
   "source": [
    "x.A"
   ]
  },
  {
   "cell_type": "code",
   "execution_count": null,
   "id": "b53ea816",
   "metadata": {},
   "outputs": [],
   "source": []
  },
  {
   "cell_type": "markdown",
   "id": "a2f72803",
   "metadata": {},
   "source": [
    "### format: csc to csr\n",
    "- CSC is more efficient at accessing column-vectors or column operations, generally, as it is stored as arrays of columns and their value at each row. CSR matrices are the opposite; stored as arrays of rows and their values at each column, and are more efficient at accessing row-vectors or row operations."
   ]
  },
  {
   "cell_type": "code",
   "execution_count": null,
   "id": "6af922cb",
   "metadata": {},
   "outputs": [],
   "source": [
    "atac_data.X = atac_data.X.tocsr()"
   ]
  },
  {
   "cell_type": "code",
   "execution_count": null,
   "id": "b295d5ce",
   "metadata": {},
   "outputs": [],
   "source": [
    "atac_data.X = atac_data.X.tocsr()"
   ]
  },
  {
   "cell_type": "markdown",
   "id": "ea122bb6",
   "metadata": {},
   "source": [
    "### data type transform"
   ]
  },
  {
   "cell_type": "code",
   "execution_count": null,
   "id": "13093f08",
   "metadata": {},
   "outputs": [],
   "source": [
    "atac_data.layers['counts'] = atac_data.layers['counts'].astype(np.int64)"
   ]
  },
  {
   "cell_type": "code",
   "execution_count": null,
   "id": "603e7169",
   "metadata": {},
   "outputs": [],
   "source": []
  }
 ],
 "metadata": {
  "kernelspec": {
   "display_name": "Python 3 (ipykernel)",
   "language": "python",
   "name": "python3"
  },
  "language_info": {
   "codemirror_mode": {
    "name": "ipython",
    "version": 3
   },
   "file_extension": ".py",
   "mimetype": "text/x-python",
   "name": "python",
   "nbconvert_exporter": "python",
   "pygments_lexer": "ipython3",
   "version": "3.9.15"
  },
  "toc": {
   "base_numbering": 1,
   "nav_menu": {},
   "number_sections": true,
   "sideBar": true,
   "skip_h1_title": false,
   "title_cell": "Table of Contents",
   "title_sidebar": "Contents",
   "toc_cell": false,
   "toc_position": {},
   "toc_section_display": true,
   "toc_window_display": true
  }
 },
 "nbformat": 4,
 "nbformat_minor": 5
}
