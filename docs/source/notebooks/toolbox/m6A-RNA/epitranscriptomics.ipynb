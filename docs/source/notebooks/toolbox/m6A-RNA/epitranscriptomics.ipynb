{
 "cells": [
  {
   "cell_type": "markdown",
   "id": "0363eb94",
   "metadata": {},
   "source": [
    "# epitranscriptomics"
   ]
  },
  {
   "cell_type": "markdown",
   "id": "b81f9d8b",
   "metadata": {},
   "source": [
    "## Questions\n",
    "- it's possible to estimate the diff of epiRNA at different levels (regulator and mRNA)?"
   ]
  },
  {
   "cell_type": "markdown",
   "id": "664cdb5c",
   "metadata": {},
   "source": [
    "![m6A RNA dynamics](m6A-RNA-dynamics.jpg)"
   ]
  },
  {
   "cell_type": "markdown",
   "id": "7b5fe803",
   "metadata": {},
   "source": [
    "Writer - m6A is added to mRNAs by a core writer complex consisting of a methyltransferase\n",
    "- Mettl3 (METTL3)\n",
    "- Mettl14 (METTL14)\n",
    "- Wtap (WTAP)\n",
    "- KIAA1429, RBM15/15B, and ZC3H13. (other associated proteins)\n",
    "\n",
    "Erasers - m6A can be removed from mRNAs via m6A erasers\n",
    "- FTO\n",
    "- Alkbh5 (ALKBH5)\n",
    "\n",
    "Readers\n",
    "\n",
    "YTH (YT521-B homology) domain\n",
    "- YTHDF1\n",
    "- YTHDF3\n",
    "- YTHDF2\n",
    "- YTHDC1\n",
    "- YTHDC2\n",
    "\n",
    "others\n",
    "- eIF3 (EIF3A)\n",
    "- HNRNPC\n",
    "- HNRNPG\n",
    "- IGF2BPs"
   ]
  },
  {
   "cell_type": "code",
   "execution_count": 6,
   "id": "8cde7a4a",
   "metadata": {},
   "outputs": [],
   "source": [
    "# devtools::install_github(\"leezx/bt2m\", dependencies = F)"
   ]
  },
  {
   "cell_type": "code",
   "execution_count": 1,
   "id": "d6f2a418",
   "metadata": {},
   "outputs": [],
   "source": [
    "library(bt2m)"
   ]
  },
  {
   "cell_type": "code",
   "execution_count": 10,
   "id": "f1604559",
   "metadata": {},
   "outputs": [],
   "source": [
    "writer <- c(\"METTL3\",\"METTL14\",\"WTAP\",\"VIRMA\",\"RBM15\",\"RBM15B\",\"ZC3H13\")\n",
    "eraser <- c(\"FTO\",\"ALKBH5\")\n",
    "reader <- c(\"YTHDF1\",\"YTHDF2\",\"YTHDF3\",\"YTHDC1\",\"YTHDC2\",\"EIF3A\",\"HNRNPC\",\"RBMX\",\"IGF2BP1\",\"IGF2BP2\",\"IGF2BP3\")"
   ]
  },
  {
   "cell_type": "code",
   "execution_count": 11,
   "id": "a803b5f2",
   "metadata": {},
   "outputs": [
    {
     "data": {
      "text/html": [],
      "text/latex": [],
      "text/markdown": [],
      "text/plain": [
       "character(0)"
      ]
     },
     "metadata": {},
     "output_type": "display_data"
    }
   ],
   "source": [
    "writer[!writer %in% HGNC.gene.pairs$HGNC.symbol]"
   ]
  },
  {
   "cell_type": "code",
   "execution_count": 12,
   "id": "5f2a849b",
   "metadata": {},
   "outputs": [
    {
     "data": {
      "text/html": [],
      "text/latex": [],
      "text/markdown": [],
      "text/plain": [
       "character(0)"
      ]
     },
     "metadata": {},
     "output_type": "display_data"
    }
   ],
   "source": [
    "eraser[!eraser %in% HGNC.gene.pairs$HGNC.symbol]"
   ]
  },
  {
   "cell_type": "code",
   "execution_count": 13,
   "id": "836cdf52",
   "metadata": {},
   "outputs": [
    {
     "data": {
      "text/html": [],
      "text/latex": [],
      "text/markdown": [],
      "text/plain": [
       "character(0)"
      ]
     },
     "metadata": {},
     "output_type": "display_data"
    }
   ],
   "source": [
    "reader[!reader %in% HGNC.gene.pairs$HGNC.symbol]"
   ]
  },
  {
   "cell_type": "code",
   "execution_count": 16,
   "id": "25ea8179",
   "metadata": {},
   "outputs": [],
   "source": [
    "m6A.regulators <- subset(HGNC.gene.pairs, HGNC.symbol %in% c(writer, eraser, reader))"
   ]
  },
  {
   "cell_type": "code",
   "execution_count": 17,
   "id": "ddca9305",
   "metadata": {},
   "outputs": [],
   "source": [
    "m6A.regulators$type <- \"\""
   ]
  },
  {
   "cell_type": "code",
   "execution_count": 18,
   "id": "3c6e7df1",
   "metadata": {},
   "outputs": [],
   "source": [
    "rownames(m6A.regulators) <- m6A.regulators$HGNC.symbol"
   ]
  },
  {
   "cell_type": "code",
   "execution_count": 22,
   "id": "e9c75dd4",
   "metadata": {},
   "outputs": [],
   "source": [
    "m6A.regulators[writer,]$type <- \"writer\""
   ]
  },
  {
   "cell_type": "code",
   "execution_count": 23,
   "id": "79b3be8a",
   "metadata": {},
   "outputs": [],
   "source": [
    "m6A.regulators[eraser,]$type <- \"eraser\""
   ]
  },
  {
   "cell_type": "code",
   "execution_count": 24,
   "id": "c3caa855",
   "metadata": {},
   "outputs": [],
   "source": [
    "m6A.regulators[reader,]$type <- \"reader\""
   ]
  },
  {
   "cell_type": "code",
   "execution_count": 27,
   "id": "0605224c",
   "metadata": {},
   "outputs": [],
   "source": [
    "m6A.regulators <- m6A.regulators[order(m6A.regulators$type),]"
   ]
  },
  {
   "cell_type": "code",
   "execution_count": 28,
   "id": "f7e1ba12",
   "metadata": {},
   "outputs": [],
   "source": [
    "save(m6A.regulators, file = \"m6A.regulators.rda\")"
   ]
  },
  {
   "cell_type": "markdown",
   "id": "9aa47e78",
   "metadata": {},
   "source": [
    "## m6A sequencing methods\n",
    "- immunoprecipitation methods with highly specific m6A antibodies followed by next-generation sequencing\n",
    "- MeRIP-seq\n",
    "- miCLIP (m6A individual-nucleotide-resolution-crosslinking and immunoprecipitation)\n",
    "- "
   ]
  },
  {
   "cell_type": "markdown",
   "id": "d006f37a",
   "metadata": {},
   "source": [
    "## References\n",
    "- [m6A writers, erasers and readers and their functions in RNA metabolism](https://www.abcam.com/epigenetics/m6a-functions-and-distribution#Writers)"
   ]
  },
  {
   "cell_type": "code",
   "execution_count": null,
   "id": "50c7f0c0",
   "metadata": {},
   "outputs": [],
   "source": []
  }
 ],
 "metadata": {
  "kernelspec": {
   "display_name": "R 4.1",
   "language": "R",
   "name": "ir41"
  },
  "language_info": {
   "codemirror_mode": "r",
   "file_extension": ".r",
   "mimetype": "text/x-r-source",
   "name": "R",
   "pygments_lexer": "r",
   "version": "4.2.2"
  },
  "toc": {
   "base_numbering": 1,
   "nav_menu": {},
   "number_sections": true,
   "sideBar": true,
   "skip_h1_title": false,
   "title_cell": "Table of Contents",
   "title_sidebar": "Contents",
   "toc_cell": false,
   "toc_position": {
    "height": "calc(100% - 180px)",
    "left": "10px",
    "top": "150px",
    "width": "272.391px"
   },
   "toc_section_display": true,
   "toc_window_display": true
  }
 },
 "nbformat": 4,
 "nbformat_minor": 5
}
