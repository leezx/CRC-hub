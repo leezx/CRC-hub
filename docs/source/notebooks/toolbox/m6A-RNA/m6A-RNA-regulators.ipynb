{
 "cells": [
  {
   "cell_type": "markdown",
   "id": "e02311f8",
   "metadata": {},
   "source": [
    "# epitranscriptomics"
   ]
  },
  {
   "cell_type": "markdown",
   "id": "08741ab2",
   "metadata": {},
   "source": [
    "## Questions\n",
    "- it's possible to estimate the diff of epiRNA at different levels (regulator and mRNA)?"
   ]
  },
  {
   "cell_type": "markdown",
   "id": "5858f2a8",
   "metadata": {},
   "source": [
    "![m6A RNA dynamics](m6A-RNA-dynamics.jpg)"
   ]
  },
  {
   "cell_type": "markdown",
   "id": "a7535345",
   "metadata": {},
   "source": [
    "Writer - m6A is added to mRNAs by a core writer complex consisting of a methyltransferase\n",
    "- Mettl3 (METTL3)\n",
    "- Mettl14 (METTL14)\n",
    "- Wtap (WTAP)\n",
    "- KIAA1429, RBM15/15B, and ZC3H13. (other associated proteins)\n",
    "\n",
    "Erasers - m6A can be removed from mRNAs via m6A erasers\n",
    "- FTO\n",
    "- Alkbh5 (ALKBH5)\n",
    "\n",
    "Readers\n",
    "\n",
    "YTH (YT521-B homology) domain\n",
    "- YTHDF1\n",
    "- YTHDF3\n",
    "- YTHDF2\n",
    "- YTHDC1\n",
    "- YTHDC2\n",
    "\n",
    "others\n",
    "- eIF3 (EIF3A)\n",
    "- HNRNPC\n",
    "- HNRNPG\n",
    "- IGF2BPs"
   ]
  },
  {
   "cell_type": "code",
   "execution_count": 6,
   "id": "1dd2ae46",
   "metadata": {},
   "outputs": [],
   "source": [
    "# devtools::install_github(\"leezx/bt2m\", dependencies = F)"
   ]
  },
  {
   "cell_type": "code",
   "execution_count": 1,
   "id": "f2dc2ebb",
   "metadata": {},
   "outputs": [],
   "source": [
    "library(bt2m)"
   ]
  },
  {
   "cell_type": "code",
   "execution_count": 10,
   "id": "2417ff81",
   "metadata": {},
   "outputs": [],
   "source": [
    "writer <- c(\"METTL3\",\"METTL14\",\"WTAP\",\"VIRMA\",\"RBM15\",\"RBM15B\",\"ZC3H13\")\n",
    "eraser <- c(\"FTO\",\"ALKBH5\")\n",
    "reader <- c(\"YTHDF1\",\"YTHDF2\",\"YTHDF3\",\"YTHDC1\",\"YTHDC2\",\"EIF3A\",\"HNRNPC\",\"RBMX\",\"IGF2BP1\",\"IGF2BP2\",\"IGF2BP3\")"
   ]
  },
  {
   "cell_type": "code",
   "execution_count": 11,
   "id": "4bb83c84",
   "metadata": {},
   "outputs": [
    {
     "data": {
      "text/html": [],
      "text/latex": [],
      "text/markdown": [],
      "text/plain": [
       "character(0)"
      ]
     },
     "metadata": {},
     "output_type": "display_data"
    }
   ],
   "source": [
    "writer[!writer %in% HGNC.gene.pairs$HGNC.symbol]"
   ]
  },
  {
   "cell_type": "code",
   "execution_count": 12,
   "id": "2ece2305",
   "metadata": {},
   "outputs": [
    {
     "data": {
      "text/html": [],
      "text/latex": [],
      "text/markdown": [],
      "text/plain": [
       "character(0)"
      ]
     },
     "metadata": {},
     "output_type": "display_data"
    }
   ],
   "source": [
    "eraser[!eraser %in% HGNC.gene.pairs$HGNC.symbol]"
   ]
  },
  {
   "cell_type": "code",
   "execution_count": 13,
   "id": "df2eeb17",
   "metadata": {},
   "outputs": [
    {
     "data": {
      "text/html": [],
      "text/latex": [],
      "text/markdown": [],
      "text/plain": [
       "character(0)"
      ]
     },
     "metadata": {},
     "output_type": "display_data"
    }
   ],
   "source": [
    "reader[!reader %in% HGNC.gene.pairs$HGNC.symbol]"
   ]
  },
  {
   "cell_type": "code",
   "execution_count": 16,
   "id": "f23a152d",
   "metadata": {},
   "outputs": [],
   "source": [
    "m6A.regulators <- subset(HGNC.gene.pairs, HGNC.symbol %in% c(writer, eraser, reader))"
   ]
  },
  {
   "cell_type": "code",
   "execution_count": 17,
   "id": "fcec9077",
   "metadata": {},
   "outputs": [],
   "source": [
    "m6A.regulators$type <- \"\""
   ]
  },
  {
   "cell_type": "code",
   "execution_count": 18,
   "id": "a491e2dc",
   "metadata": {},
   "outputs": [],
   "source": [
    "rownames(m6A.regulators) <- m6A.regulators$HGNC.symbol"
   ]
  },
  {
   "cell_type": "code",
   "execution_count": 22,
   "id": "67064981",
   "metadata": {},
   "outputs": [],
   "source": [
    "m6A.regulators[writer,]$type <- \"writer\""
   ]
  },
  {
   "cell_type": "code",
   "execution_count": 23,
   "id": "76c594fd",
   "metadata": {},
   "outputs": [],
   "source": [
    "m6A.regulators[eraser,]$type <- \"eraser\""
   ]
  },
  {
   "cell_type": "code",
   "execution_count": 24,
   "id": "e69e8cd5",
   "metadata": {},
   "outputs": [],
   "source": [
    "m6A.regulators[reader,]$type <- \"reader\""
   ]
  },
  {
   "cell_type": "code",
   "execution_count": 27,
   "id": "62ae719c",
   "metadata": {},
   "outputs": [],
   "source": [
    "m6A.regulators <- m6A.regulators[order(m6A.regulators$type),]"
   ]
  },
  {
   "cell_type": "code",
   "execution_count": 28,
   "id": "aff24d72",
   "metadata": {},
   "outputs": [],
   "source": [
    "save(m6A.regulators, file = \"m6A.regulators.rda\")"
   ]
  },
  {
   "cell_type": "markdown",
   "id": "248febc7",
   "metadata": {},
   "source": [
    "## m6A sequencing methods\n",
    "- immunoprecipitation methods with highly specific m6A antibodies followed by next-generation sequencing\n",
    "- MeRIP-seq\n",
    "- miCLIP (m6A individual-nucleotide-resolution-crosslinking and immunoprecipitation)\n",
    "- "
   ]
  },
  {
   "cell_type": "markdown",
   "id": "6b482047",
   "metadata": {},
   "source": [
    "## computational tools for prediction"
   ]
  },
  {
   "cell_type": "markdown",
   "id": "b0895121",
   "metadata": {},
   "source": [
    "- Deep learning modeling m6A deposition reveals the importance of downstream cis-element sequences\n",
    "- EDLm6APred: ensemble deep learning approach for mRNA m6A site prediction\n",
    "- DeepM6ASeq: prediction and characterization of m6A-containing sequences using deep learning\n",
    "- Deep and accurate detection of m6A RNA modifications using miCLIP2 and m6Aboost machine learning"
   ]
  },
  {
   "cell_type": "markdown",
   "id": "6a6c13f5",
   "metadata": {},
   "source": [
    "## References\n",
    "- [m6A writers, erasers and readers and their functions in RNA metabolism](https://www.abcam.com/epigenetics/m6a-functions-and-distribution#Writers)"
   ]
  },
  {
   "cell_type": "code",
   "execution_count": null,
   "id": "740955de",
   "metadata": {},
   "outputs": [],
   "source": []
  }
 ],
 "metadata": {
  "kernelspec": {
   "display_name": "R 4.1",
   "language": "R",
   "name": "ir41"
  },
  "language_info": {
   "codemirror_mode": "r",
   "file_extension": ".r",
   "mimetype": "text/x-r-source",
   "name": "R",
   "pygments_lexer": "r",
   "version": "4.2.2"
  },
  "toc": {
   "base_numbering": 1,
   "nav_menu": {},
   "number_sections": true,
   "sideBar": true,
   "skip_h1_title": false,
   "title_cell": "Table of Contents",
   "title_sidebar": "Contents",
   "toc_cell": false,
   "toc_position": {
    "height": "calc(100% - 180px)",
    "left": "10px",
    "top": "150px",
    "width": "272.391px"
   },
   "toc_section_display": true,
   "toc_window_display": true
  }
 },
 "nbformat": 4,
 "nbformat_minor": 5
}
