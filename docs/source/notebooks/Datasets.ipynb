{
 "cells": [
  {
   "cell_type": "markdown",
   "id": "8e4e27e1",
   "metadata": {},
   "source": [
    "# Datasets"
   ]
  },
  {
   "cell_type": "code",
   "execution_count": null,
   "id": "d2bb7760",
   "metadata": {},
   "outputs": [],
   "source": []
  },
  {
   "cell_type": "markdown",
   "id": "af921ce8",
   "metadata": {},
   "source": [
    "## Sethi lab"
   ]
  },
  {
   "cell_type": "markdown",
   "id": "18ba28a9",
   "metadata": {},
   "source": [
    "### Sox9\n",
    "- An Enhancer-Driven Stem Cell–Like Program Mediated by SOX9 Blocks Intestinal Differentiation in Colorectal Cancer Liang, Xiaoyan et al. Gastroenterology, Volume 162, Issue 1, 209 - 222 https://www.gastrojournal.org/article/S0016-5085(21)03547-2/fulltext\n",
    "- SOX9 over expression RNA-seq and ATAC-seq"
   ]
  },
  {
   "cell_type": "markdown",
   "id": "8a36f226",
   "metadata": {},
   "source": [
    "### M60"
   ]
  },
  {
   "cell_type": "markdown",
   "id": "e50f3142",
   "metadata": {},
   "source": [
    "## Big datasets"
   ]
  },
  {
   "cell_type": "markdown",
   "id": "1fd1a4bc",
   "metadata": {},
   "source": [
    "### CRC ST\n",
    "- 2023_Kerstin_Hahn_CRC_CMS_ST\n",
    "\n",
    "* [2023_Kerstin_Hahn_CRC_CMS_ST](datasets/2023_Kerstin_Hahn_CRC_CMS_ST.ipynb)\n",
    "* [test](datasets/2023_Kerstin_Hahn_CRC_CMS_ST.ipynb)"
   ]
  },
  {
   "cell_type": "markdown",
   "id": "4c7fb3b5",
   "metadata": {},
   "source": [
    "### HTAN Stanford Atlas CRC\n",
    "- Becker, W.R., Nevins, S.A., Chen, D.C. et al. Single-cell analyses define a continuum of cell state and composition changes in the malignant transformation of polyps to colorectal cancer. Nat Genet 54, 985–995 (2022). https://doi.org/10.1038/s41588-022-01088-x\n",
    "- dataset\n",
    "\n",
    "- Rozenblatt-Rosen O, Regev A, Oberdoerffer P, et al. The Human Tumor Atlas Network: Charting Tumor Transitions across Space and Time at Single-Cell Resolution. Cell. 2020;181(2):236-249. https://doi.org/10.1016/j.cell.2020.03.053"
   ]
  },
  {
   "cell_type": "markdown",
   "id": "8988975d",
   "metadata": {},
   "source": [
    "spatial + single-cell\n",
    "- Integrative single cell and spatial transcriptomics of colorectal cancer reveals multicellular functional units that support tumor progression。 Aviv Regev bioRxiv 2022.10.02.508492; doi: https://doi.org/10.1101/2022.10.02.508492\n",
    "\n",
    "spatial\n",
    "- Spatially organized multicellular immune hubs in human colorectal cancer. Pelka, Karin et al. Cell, Volume 184, Issue 18, 4734 - 4752.e20\n",
    "\n",
    "polyps to colorectal cancer\n",
    "- Becker, W.R., Nevins, S.A., Chen, D.C. et al. Single-cell analyses define a continuum of cell state and composition changes in the malignant transformation of polyps to colorectal cancer. Nat Genet 54, 985–995 (2022). https://doi.org/10.1038/s41588-022-01088-x\n",
    "\n",
    "primary and metastatic colorectal cancer tumors\n",
    "- Wang, R., Li, J., Zhou, X. et al. Single-cell genomic and transcriptomic landscapes of primary and metastatic colorectal cancer tumors. Genome Med 14, 93 (2022). https://doi.org/10.1186/s13073-022-01093-z\n",
    "\n",
    "immune CRC\n",
    "- Immune phenotypic linkage between colorectal cancer and liver metastasis\n",
    "\n",
    "Single-cell and bulk CMS\n",
    "- Joanito, I., Wirapati, P., Zhao, N. et al. Single-cell and bulk transcriptome sequencing identifies two epithelial tumor cell states and refines the consensus molecular classification of colorectal cancer. Nat Genet 54, 963–975 (2022). https://doi.org/10.1038/s41588-022-01100-4\n",
    "- \n"
   ]
  },
  {
   "cell_type": "markdown",
   "id": "325c8af7",
   "metadata": {},
   "source": [
    "## Big projects"
   ]
  },
  {
   "cell_type": "markdown",
   "id": "af92b1e3",
   "metadata": {},
   "source": [
    "### TCGA"
   ]
  },
  {
   "cell_type": "code",
   "execution_count": null,
   "id": "68781dc0",
   "metadata": {},
   "outputs": [],
   "source": []
  },
  {
   "cell_type": "markdown",
   "id": "95b5fb51",
   "metadata": {},
   "source": [
    "### DepMap"
   ]
  },
  {
   "cell_type": "code",
   "execution_count": null,
   "id": "efde2a5e",
   "metadata": {},
   "outputs": [],
   "source": []
  },
  {
   "cell_type": "markdown",
   "id": "b29792c5",
   "metadata": {},
   "source": [
    "### Human Proteome Map\n",
    "- Kim, MS., Pinto, S., Getnet, D. et al. A draft map of the human proteome. Nature 509, 575–581 (2014). https://doi.org/10.1038/nature13302\n",
    "- http://www.humanproteomemap.org/"
   ]
  },
  {
   "cell_type": "code",
   "execution_count": null,
   "id": "63984d0a",
   "metadata": {},
   "outputs": [],
   "source": []
  },
  {
   "cell_type": "markdown",
   "id": "0082fd36",
   "metadata": {},
   "source": [
    "#### Genomics of Drug Sensitivity in Cancer\n",
    "- https://www.cancerrxgene.org/\n",
    "- \n",
    "\n",
    "#### Cancer Cell Line Encyclopedia (CCLE)\n",
    "- https://sites.broadinstitute.org/ccle/\n",
    "- "
   ]
  },
  {
   "cell_type": "code",
   "execution_count": null,
   "id": "49265099",
   "metadata": {},
   "outputs": [],
   "source": []
  },
  {
   "cell_type": "code",
   "execution_count": null,
   "id": "a0796b04",
   "metadata": {},
   "outputs": [],
   "source": []
  },
  {
   "cell_type": "markdown",
   "id": "d0b4056b",
   "metadata": {},
   "source": [
    "## References"
   ]
  },
  {
   "cell_type": "markdown",
   "id": "33f32fc6",
   "metadata": {},
   "source": [
    "### motif\n",
    "- https://meme-suite.org/meme/db/motifs"
   ]
  },
  {
   "cell_type": "code",
   "execution_count": null,
   "id": "12a8b518",
   "metadata": {},
   "outputs": [],
   "source": []
  }
 ],
 "metadata": {
  "kernelspec": {
   "display_name": "R 4.1",
   "language": "R",
   "name": "ir41"
  },
  "language_info": {
   "codemirror_mode": "r",
   "file_extension": ".r",
   "mimetype": "text/x-r-source",
   "name": "R",
   "pygments_lexer": "r",
   "version": "4.2.2"
  },
  "toc": {
   "base_numbering": 1,
   "nav_menu": {},
   "number_sections": true,
   "sideBar": true,
   "skip_h1_title": false,
   "title_cell": "Table of Contents",
   "title_sidebar": "Contents",
   "toc_cell": false,
   "toc_position": {
    "height": "calc(100% - 180px)",
    "left": "10px",
    "top": "150px",
    "width": "359.594px"
   },
   "toc_section_display": true,
   "toc_window_display": true
  }
 },
 "nbformat": 4,
 "nbformat_minor": 5
}
