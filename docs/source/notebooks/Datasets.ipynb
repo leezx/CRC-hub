{
 "cells": [
  {
   "cell_type": "markdown",
   "id": "8d300343",
   "metadata": {
    "toc": true
   },
   "source": [
    "<h1>Table of Contents<span class=\"tocSkip\"></span></h1>\n",
    "<div class=\"toc\"><ul class=\"toc-item\"><li><span><a href=\"#Sethi-lab\" data-toc-modified-id=\"Sethi-lab-1\"><span class=\"toc-item-num\">1&nbsp;&nbsp;</span>Sethi lab</a></span><ul class=\"toc-item\"><li><span><a href=\"#Sox9\" data-toc-modified-id=\"Sox9-1.1\"><span class=\"toc-item-num\">1.1&nbsp;&nbsp;</span>Sox9</a></span></li><li><span><a href=\"#M60\" data-toc-modified-id=\"M60-1.2\"><span class=\"toc-item-num\">1.2&nbsp;&nbsp;</span>M60</a></span></li></ul></li><li><span><a href=\"#Public-datasets\" data-toc-modified-id=\"Public-datasets-2\"><span class=\"toc-item-num\">2&nbsp;&nbsp;</span>Public datasets</a></span><ul class=\"toc-item\"><li><span><a href=\"#References\" data-toc-modified-id=\"References-2.1\"><span class=\"toc-item-num\">2.1&nbsp;&nbsp;</span>References</a></span></li></ul></li><li><span><a href=\"#motif\" data-toc-modified-id=\"motif-3\"><span class=\"toc-item-num\">3&nbsp;&nbsp;</span>motif</a></span></li></ul></div>"
   ]
  },
  {
   "cell_type": "markdown",
   "id": "8003af0e",
   "metadata": {},
   "source": [
    "# Sethi lab"
   ]
  },
  {
   "cell_type": "markdown",
   "id": "72fbdb18",
   "metadata": {},
   "source": [
    "## Sox9"
   ]
  },
  {
   "cell_type": "code",
   "execution_count": null,
   "id": "7bd69db6",
   "metadata": {},
   "outputs": [],
   "source": []
  },
  {
   "cell_type": "markdown",
   "id": "6b24257d",
   "metadata": {},
   "source": [
    "## M60"
   ]
  },
  {
   "cell_type": "code",
   "execution_count": null,
   "id": "24893b7a",
   "metadata": {},
   "outputs": [],
   "source": []
  },
  {
   "cell_type": "markdown",
   "id": "83604bec",
   "metadata": {},
   "source": [
    "# Public datasets"
   ]
  },
  {
   "cell_type": "code",
   "execution_count": null,
   "id": "5992161e",
   "metadata": {},
   "outputs": [],
   "source": []
  },
  {
   "cell_type": "code",
   "execution_count": null,
   "id": "cd28a128",
   "metadata": {},
   "outputs": [],
   "source": []
  },
  {
   "cell_type": "markdown",
   "id": "6cb780e4",
   "metadata": {},
   "source": [
    "# References"
   ]
  },
  {
   "cell_type": "markdown",
   "id": "e9650eea",
   "metadata": {},
   "source": [
    "# motif\n",
    "- https://meme-suite.org/meme/db/motifs"
   ]
  },
  {
   "cell_type": "code",
   "execution_count": null,
   "id": "e10733e9",
   "metadata": {},
   "outputs": [],
   "source": []
  },
  {
   "cell_type": "code",
   "execution_count": null,
   "id": "02283af8",
   "metadata": {},
   "outputs": [],
   "source": []
  }
 ],
 "metadata": {
  "kernelspec": {
   "display_name": "R 4.1",
   "language": "R",
   "name": "ir41"
  },
  "language_info": {
   "codemirror_mode": "r",
   "file_extension": ".r",
   "mimetype": "text/x-r-source",
   "name": "R",
   "pygments_lexer": "r",
   "version": "4.2.2"
  },
  "toc": {
   "base_numbering": 1,
   "nav_menu": {},
   "number_sections": true,
   "sideBar": true,
   "skip_h1_title": false,
   "title_cell": "Table of Contents",
   "title_sidebar": "Contents",
   "toc_cell": true,
   "toc_position": {},
   "toc_section_display": true,
   "toc_window_display": true
  }
 },
 "nbformat": 4,
 "nbformat_minor": 5
}
