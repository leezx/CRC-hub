{
 "cells": [
  {
   "cell_type": "markdown",
   "id": "8e4e27e1",
   "metadata": {},
   "source": [
    "# Datasets"
   ]
  },
  {
   "cell_type": "code",
   "execution_count": null,
   "id": "d2bb7760",
   "metadata": {},
   "outputs": [],
   "source": []
  },
  {
   "cell_type": "markdown",
   "id": "af921ce8",
   "metadata": {},
   "source": [
    "## Sethi lab"
   ]
  },
  {
   "cell_type": "markdown",
   "id": "18ba28a9",
   "metadata": {},
   "source": [
    "### Sox9"
   ]
  },
  {
   "cell_type": "markdown",
   "id": "8a36f226",
   "metadata": {},
   "source": [
    "### M60"
   ]
  },
  {
   "cell_type": "markdown",
   "id": "e50f3142",
   "metadata": {},
   "source": [
    "## Public datasets"
   ]
  },
  {
   "cell_type": "code",
   "execution_count": null,
   "id": "efde2a5e",
   "metadata": {},
   "outputs": [],
   "source": []
  },
  {
   "cell_type": "markdown",
   "id": "d0b4056b",
   "metadata": {},
   "source": [
    "## References"
   ]
  },
  {
   "cell_type": "markdown",
   "id": "33f32fc6",
   "metadata": {},
   "source": [
    "### motif\n",
    "- https://meme-suite.org/meme/db/motifs"
   ]
  },
  {
   "cell_type": "code",
   "execution_count": null,
   "id": "12a8b518",
   "metadata": {},
   "outputs": [],
   "source": []
  }
 ],
 "metadata": {
  "kernelspec": {
   "display_name": "R 4.1",
   "language": "R",
   "name": "ir41"
  },
  "language_info": {
   "codemirror_mode": "r",
   "file_extension": ".r",
   "mimetype": "text/x-r-source",
   "name": "R",
   "pygments_lexer": "r",
   "version": "4.2.2"
  },
  "toc": {
   "base_numbering": 1,
   "nav_menu": {},
   "number_sections": true,
   "sideBar": true,
   "skip_h1_title": false,
   "title_cell": "Table of Contents",
   "title_sidebar": "Contents",
   "toc_cell": false,
   "toc_position": {
    "height": "calc(100% - 180px)",
    "left": "10px",
    "top": "150px",
    "width": "359.594px"
   },
   "toc_section_display": true,
   "toc_window_display": true
  }
 },
 "nbformat": 4,
 "nbformat_minor": 5
}
