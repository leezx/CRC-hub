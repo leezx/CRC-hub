{
 "cells": [
  {
   "cell_type": "markdown",
   "id": "de62a529",
   "metadata": {},
   "source": [
    "# Toolbox"
   ]
  },
  {
   "cell_type": "markdown",
   "id": "172f12c0",
   "metadata": {},
   "source": [
    "## Organization of this page\n",
    "- Based on data type (DNA, RNA, ATAC, ST, protein)\n",
    "- Based on purpose (differentiation, plasticity)"
   ]
  },
  {
   "cell_type": "markdown",
   "id": "83cdcbec",
   "metadata": {},
   "source": [
    "## Tool need to try\n",
    "- Metacell/SuperCell\n",
    "- SEACells\n",
    "- SCENIC+\n",
    "- CellOracle\n",
    "- dynamo\n",
    "- Cicero\n",
    "- HGC (Hierarchical Graph-based Clustering)\n",
    "\n",
    "\n",
    "- SCENT (https://mp.weixin.qq.com/s/VvxExACrvWYyjClT2ajldw)\n",
    "- FitDevo (https://mp.weixin.qq.com/s/pFrl54QkV_p-swzYKYY1HA)\n",
    "\n",
    "- GSVA\n",
    "- AddModuleScore -Seurat\n",
    "- chromVAR\n",
    "\n",
    "## Tools tested\n",
    "- Signac"
   ]
  },
  {
   "cell_type": "markdown",
   "id": "083c53a3",
   "metadata": {},
   "source": [
    "## DNA\n",
    "- SNV\n",
    "- CNV\n",
    "- SV\n",
    "- cancer mutations"
   ]
  },
  {
   "cell_type": "markdown",
   "id": "034ce379",
   "metadata": {},
   "source": [
    "### mutations\n",
    "- Identification of Somatic Mutations From Bulk and Single-Cell Sequencing Data\n",
    "- SCmut: A method to detect cell-level mutation from single-cell RNA-sequencing\n",
    "- Somatic mutation landscapes at single-molecule resolution - 2021 - Nature"
   ]
  },
  {
   "cell_type": "markdown",
   "id": "b9c83c24",
   "metadata": {},
   "source": [
    "### Phastcons Conservation"
   ]
  },
  {
   "cell_type": "code",
   "execution_count": null,
   "id": "39f4eab0",
   "metadata": {},
   "outputs": [],
   "source": []
  },
  {
   "cell_type": "markdown",
   "id": "c9fed1ba",
   "metadata": {},
   "source": [
    "## Epigenetic"
   ]
  },
  {
   "cell_type": "markdown",
   "id": "51870c00",
   "metadata": {},
   "source": [
    "### Tools"
   ]
  },
  {
   "cell_type": "markdown",
   "id": "07f0f2e4",
   "metadata": {},
   "source": [
    "#### Cistrome\n",
    "- http://cistrome.org/"
   ]
  },
  {
   "cell_type": "markdown",
   "id": "8c2ca44e",
   "metadata": {},
   "source": [
    "#### LISA\n",
    "- http://lisa.cistrome.org/"
   ]
  },
  {
   "cell_type": "markdown",
   "id": "9565db83",
   "metadata": {},
   "source": [
    "#### MEME\n",
    "- https://meme-suite.org/meme/db/motifs"
   ]
  },
  {
   "cell_type": "code",
   "execution_count": null,
   "id": "31cd3bbf",
   "metadata": {},
   "outputs": [],
   "source": []
  },
  {
   "cell_type": "markdown",
   "id": "1f016608",
   "metadata": {},
   "source": [
    "### scATAC-seq"
   ]
  },
  {
   "cell_type": "markdown",
   "id": "ce42c5f3",
   "metadata": {},
   "source": [
    "#### macs call peak\n",
    "- https://github.com/stuart-lab/signac/issues/1091"
   ]
  },
  {
   "cell_type": "markdown",
   "id": "2d8019ad",
   "metadata": {},
   "source": [
    "#### Footprint\n",
    "- http://localhost:17435/notebooks/projects/ApcKO_multiomics/4.exclude_WT2.ipynb\n",
    "- https://stuartlab.org/signac/articles/footprint.html"
   ]
  },
  {
   "cell_type": "markdown",
   "id": "e6cb9610",
   "metadata": {},
   "source": [
    "#### update atac_fragments.tsv.gz\n",
    "- http://localhost:17435/notebooks/projects/ApcKO_multiomics/4.exclude_WT2.ipynb\n",
    "- Subset does not take Motif positions with it\n",
    "- https://github.com/stuart-lab/signac/issues/364"
   ]
  },
  {
   "cell_type": "code",
   "execution_count": null,
   "id": "da467aba",
   "metadata": {},
   "outputs": [],
   "source": []
  },
  {
   "cell_type": "markdown",
   "id": "54a17dac",
   "metadata": {},
   "source": [
    "### Cut&Run"
   ]
  },
  {
   "cell_type": "code",
   "execution_count": null,
   "id": "f6c89493",
   "metadata": {},
   "outputs": [],
   "source": []
  },
  {
   "cell_type": "markdown",
   "id": "70e628be",
   "metadata": {},
   "source": [
    "### epitranscriptomics\n",
    "- [m6A-RNA-regulators.ipynb](toolbox/m6A-RNA/m6A-RNA-regulators.ipynb)"
   ]
  },
  {
   "cell_type": "markdown",
   "id": "b497cf3e",
   "metadata": {},
   "source": [
    "## RNA"
   ]
  },
  {
   "cell_type": "markdown",
   "id": "c123bfbb",
   "metadata": {},
   "source": [
    "### bulk RNA-seq"
   ]
  },
  {
   "cell_type": "markdown",
   "id": "81631fed",
   "metadata": {},
   "source": [
    "#### DESeq2\n",
    "- [Time course analysis with DESeq2](https://hbctraining.github.io/DGE_workshop_salmon_online/lessons/08b_time_course_analyses.html)\n",
    "- [DEseq2 time-series design](https://support.bioconductor.org/p/62684/)\n",
    "- [Introduction to DGE - ARCHIVED](https://hbctraining.github.io/DGE_workshop/lessons/08_DGE_LRT.html)"
   ]
  },
  {
   "cell_type": "markdown",
   "id": "3a5542f0",
   "metadata": {},
   "source": [
    "### scRNA-seq"
   ]
  },
  {
   "cell_type": "markdown",
   "id": "56306de7",
   "metadata": {},
   "source": [
    "#### Annotation"
   ]
  },
  {
   "cell_type": "markdown",
   "id": "ca0df0da",
   "metadata": {},
   "source": [
    "#### RNA velocity"
   ]
  },
  {
   "cell_type": "markdown",
   "id": "bbc85a69",
   "metadata": {},
   "source": [
    "#### CNV"
   ]
  },
  {
   "cell_type": "markdown",
   "id": "a57eeb50",
   "metadata": {},
   "source": [
    "#### CCI"
   ]
  },
  {
   "cell_type": "code",
   "execution_count": null,
   "id": "1ed222de",
   "metadata": {},
   "outputs": [],
   "source": []
  },
  {
   "cell_type": "markdown",
   "id": "8cd14ba3",
   "metadata": {},
   "source": [
    "### Tools"
   ]
  },
  {
   "cell_type": "markdown",
   "id": "44a37748",
   "metadata": {},
   "source": [
    "#### gene signature scoring\n",
    "- non-redundant gene signature (estimate key functions of cells, take hub terms)\n",
    "- annotation of signature\n",
    "- topics and modules are important signatures (how many topics in human or mouse?)\n",
    "- https://github.com/carmonalab/UCell"
   ]
  },
  {
   "cell_type": "code",
   "execution_count": null,
   "id": "17819c3f",
   "metadata": {},
   "outputs": [],
   "source": []
  },
  {
   "cell_type": "markdown",
   "id": "c6b976a0",
   "metadata": {},
   "source": [
    "## Protein\n",
    "\n",
    "courses:\n",
    "- https://www.khanacademy.org/science/biology/macromolecules/proteins-and-amino-acids/a/orders-of-protein-structure\n",
    "\n",
    "cryo-EM:\n",
    "- [蛋白质结构生物学服务（冷冻电镜）](https://www.novopro.cn/service/cryoem/)"
   ]
  },
  {
   "cell_type": "markdown",
   "id": "d06ae0f8",
   "metadata": {},
   "source": [
    "### Tools"
   ]
  },
  {
   "cell_type": "markdown",
   "id": "b6bafb19",
   "metadata": {},
   "source": [
    "#### AlphaFold2\n",
    "- https://alphafold.ebi.ac.uk/\n",
    "\n",
    "#### RoseTTAFold\n",
    "- https://github.com/RosettaCommons/RoseTTAFold\n",
    "\n",
    "#### DMPfold2\n",
    "- https://github.com/psipred/DMPfold2\n",
    "\n",
    "#### EVcouplings\n",
    "- https://github.com/debbiemarkslab/EVcouplings\n",
    "\n",
    "#### FoldDock\n",
    "- https://gitlab.com/ElofssonLab/FoldDock\n"
   ]
  },
  {
   "cell_type": "markdown",
   "id": "61a05e28",
   "metadata": {},
   "source": [
    "#### ConSurf\n",
    "- https://consurf.tau.ac.il/consurf_index.php"
   ]
  },
  {
   "cell_type": "code",
   "execution_count": null,
   "id": "102f863d",
   "metadata": {},
   "outputs": [],
   "source": []
  },
  {
   "cell_type": "markdown",
   "id": "6ba27529",
   "metadata": {},
   "source": [
    "## PPI\n",
    "\n",
    "reviews:\n",
    "- Protein–DNA/RNA Interactions: An Overview of Investigation Methods in the -Omics Era Flora Cozzolino, Ilaria Iacobucci, Vittoria Monaco, and Maria Monti Journal of Proteome Research 2021 20 (6), 3018-3030 https://doi.org/10.1021/acs.jproteome.1c00074\n",
    "- Göös, H., Kinnunen, M., Salokas, K. et al. Human transcription factor protein interaction networks. Nat Commun 13, 766 (2022). https://doi.org/10.1038/s41467-022-28341-5\n",
    "- Unraveling transcription regulatory networks by protein–DNA and protein–protein interaction mapping https://genome.cshlp.org/content/16/12/1445.full.html\n",
    "- \n",
    "\n",
    "in silico tools:\n",
    "- Bryant, P., Pozzati, G. & Elofsson, A. Improved prediction of protein-protein interactions using AlphaFold2. Nat Commun 13, 1265 (2022). https://doi.org/10.1038/s41467-022-28865-w\n",
    "- Sun, T., Zhou, B., Lai, L. et al. Sequence-based prediction of protein protein interaction using a deep-learning algorithm. BMC Bioinformatics 18, 277 (2017). https://doi.org/10.1186/s12859-017-1700-2\n",
    "- Abbasi, W.A., Yaseen, A., Hassan, F.U. et al. ISLAND: in-silico proteins binding affinity prediction using sequence information. BioData Mining 13, 20 (2020). https://doi.org/10.1186/s13040-020-00231-w\n",
    "- Li X, Yang L, Zhang X, Jiao X. Prediction of Protein-Protein Interactions Based on Domain. Comput Math Methods Med. 2019 Aug 21;2019:5238406. https://www.ncbi.nlm.nih.gov/pmc/articles/PMC6720845/\n",
    "- "
   ]
  },
  {
   "cell_type": "code",
   "execution_count": null,
   "id": "f0c6ee37",
   "metadata": {},
   "outputs": [],
   "source": []
  },
  {
   "cell_type": "markdown",
   "id": "5b3b4ecb",
   "metadata": {},
   "source": [
    "## multi-omics"
   ]
  },
  {
   "cell_type": "markdown",
   "id": "c8c5d8a7",
   "metadata": {},
   "source": [
    "### Integration"
   ]
  },
  {
   "cell_type": "markdown",
   "id": "c68d73f5",
   "metadata": {},
   "source": [
    "#### MIRA"
   ]
  },
  {
   "cell_type": "markdown",
   "id": "ac87cc61",
   "metadata": {},
   "source": [
    "## GRN"
   ]
  },
  {
   "cell_type": "markdown",
   "id": "b8e07478",
   "metadata": {},
   "source": [
    "#### STREAM"
   ]
  },
  {
   "cell_type": "markdown",
   "id": "87612e7a",
   "metadata": {},
   "source": [
    "- STREAM-eGRN.pdf\n",
    "- https://www.biorxiv.org/content/biorxiv/early/2022/12/15/2022.12.15.520582.full.pdf?%3Fcollection=\n",
    "- https://github.com/YangLi-Bio/stream_core"
   ]
  },
  {
   "cell_type": "markdown",
   "id": "e26da3ce",
   "metadata": {},
   "source": [
    "#### SCENIC+\n",
    "- https://scenicplus.readthedocs.io/en/latest/\n",
    "- `conda install -c bioconda macs2` # pip install has error\n",
    "\n",
    "```\n",
    "git clone https://github.com/aertslab/scenicplus\n",
    "cd scenicplus\n",
    "pip install .\n",
    "```"
   ]
  },
  {
   "cell_type": "markdown",
   "id": "1e8ea5d8",
   "metadata": {},
   "source": [
    "#### cistrome toolbox\n",
    "- http://cistrome.org/BETA/\n",
    "- https://bioconductor.org/packages/devel/bioc/html/FindIT2.html\n",
    "- "
   ]
  },
  {
   "cell_type": "code",
   "execution_count": null,
   "id": "59a21ad7",
   "metadata": {},
   "outputs": [],
   "source": []
  },
  {
   "cell_type": "markdown",
   "id": "27223a43",
   "metadata": {},
   "source": []
  },
  {
   "cell_type": "markdown",
   "id": "ff554732",
   "metadata": {},
   "source": []
  },
  {
   "cell_type": "code",
   "execution_count": null,
   "id": "45528117",
   "metadata": {},
   "outputs": [],
   "source": []
  },
  {
   "cell_type": "code",
   "execution_count": null,
   "id": "1b263d19",
   "metadata": {},
   "outputs": [],
   "source": []
  },
  {
   "cell_type": "markdown",
   "id": "fe868df6",
   "metadata": {},
   "source": [
    "## New data types"
   ]
  },
  {
   "cell_type": "markdown",
   "id": "e94a0077",
   "metadata": {},
   "source": [
    "### Perturb-seq"
   ]
  },
  {
   "cell_type": "markdown",
   "id": "61dfedb9",
   "metadata": {},
   "source": [
    "### CRISPR screening"
   ]
  },
  {
   "cell_type": "markdown",
   "id": "1439ffb4",
   "metadata": {},
   "source": [
    "### Spatial transcriptomics"
   ]
  },
  {
   "cell_type": "code",
   "execution_count": null,
   "id": "7074cda5",
   "metadata": {},
   "outputs": [],
   "source": []
  },
  {
   "cell_type": "markdown",
   "id": "d071f7de",
   "metadata": {},
   "source": [
    "## Drug screening\n",
    "- https://virtual-flow.org/"
   ]
  },
  {
   "cell_type": "markdown",
   "id": "3933f222",
   "metadata": {},
   "source": [
    "### virtual screening\n",
    "- Beroza, P., Crawford, J.J., Ganichkin, O. et al. Chemical space docking enables large-scale structure-based virtual screening to discover ROCK1 kinase inhibitors. Nat Commun 13, 6447 (2022). https://doi.org/10.1038/s41467-022-33981-8\n",
    "- https://mp.weixin.qq.com/s/wl67tifjAEWhNeRKM47IyQ"
   ]
  },
  {
   "cell_type": "markdown",
   "id": "acd60064",
   "metadata": {},
   "source": [
    "### Drug response\n",
    "- https://github.com/OSU-BMBL/scDEAL\n",
    "- Chen, J., Wang, X., Ma, A. et al. Deep transfer learning of cancer drug responses by integrating bulk and single-cell RNA-seq data. Nat Commun 13, 6494 (2022). https://doi.org/10.1038/s41467-022-34277-7"
   ]
  },
  {
   "cell_type": "code",
   "execution_count": null,
   "id": "0ef07a44",
   "metadata": {},
   "outputs": [],
   "source": []
  },
  {
   "cell_type": "code",
   "execution_count": null,
   "id": "b9cc23c1",
   "metadata": {},
   "outputs": [],
   "source": []
  },
  {
   "cell_type": "markdown",
   "id": "8101478b",
   "metadata": {},
   "source": [
    "## Tutorial"
   ]
  },
  {
   "cell_type": "markdown",
   "id": "85d2e462",
   "metadata": {},
   "source": [
    "### Common tools"
   ]
  },
  {
   "cell_type": "markdown",
   "id": "4dbc1853",
   "metadata": {
    "tags": [
     "nbsphinx-link-gallery"
    ]
   },
   "source": [
    "- [Scanpy-tutorial](toolbox/Scanpy-tutorial.ipynb)\n",
    "- [MetaCell](MetaCell) hdWGCNA tutorial"
   ]
  },
  {
   "cell_type": "code",
   "execution_count": 6,
   "id": "12726dee",
   "metadata": {},
   "outputs": [
    {
     "data": {
      "text/html": [
       "0.004747561509943"
      ],
      "text/latex": [
       "0.004747561509943"
      ],
      "text/markdown": [
       "0.004747561509943"
      ],
      "text/plain": [
       "[1] 0.004747562"
      ]
     },
     "metadata": {},
     "output_type": "display_data"
    }
   ],
   "source": [
    "0.7^15"
   ]
  },
  {
   "cell_type": "markdown",
   "id": "26b35b41",
   "metadata": {},
   "source": [
    "## Advanced tools\n",
    "\n",
    "protein degradation system\n",
    "- Rapid and direct control of target protein levels with VHL-recruiting dTAG molecules - NC - 2020\n",
    "- Definition of a small core transcriptional circuit regulated by AML1-ETO - MC - 2021\n",
    "- Generation of locus-specific degradable tag knock-ins in mouse and human cell lines\n",
    "- Targeted Protein Acetylation in Cells Using Heterobifunctional Molecules"
   ]
  },
  {
   "cell_type": "code",
   "execution_count": null,
   "id": "a47a9634",
   "metadata": {},
   "outputs": [],
   "source": []
  },
  {
   "cell_type": "markdown",
   "id": "21cfafca",
   "metadata": {},
   "source": [
    "## Others"
   ]
  },
  {
   "cell_type": "code",
   "execution_count": null,
   "id": "2db501ff",
   "metadata": {},
   "outputs": [],
   "source": [
    "# format transform among seurat, scanpy, loom\n",
    "library(sceasy)"
   ]
  },
  {
   "cell_type": "markdown",
   "id": "ef969c58",
   "metadata": {},
   "source": [
    "- http://localhost:17435/notebooks/projects/ApcKO_multiomics/4.exclude_WT2.ipynb\n",
    "- http://localhost:17435/notebooks/projects/ApcKO_multiomics/Seurat2Scanpy.ipynb"
   ]
  },
  {
   "cell_type": "markdown",
   "id": "034717d8",
   "metadata": {},
   "source": [
    "## Pipelines\n",
    "- https://github.com/crazyhottommy/ChIP-seq-analysis\n",
    "- Cut&Run\n",
    "- RNA-seq\n",
    "- ATAC-seq"
   ]
  },
  {
   "cell_type": "code",
   "execution_count": null,
   "id": "a3ec37ba",
   "metadata": {},
   "outputs": [],
   "source": []
  }
 ],
 "metadata": {
  "kernelspec": {
   "display_name": "R",
   "language": "R",
   "name": "ir"
  },
  "language_info": {
   "codemirror_mode": "r",
   "file_extension": ".r",
   "mimetype": "text/x-r-source",
   "name": "R",
   "pygments_lexer": "r",
   "version": "4.2.2"
  },
  "toc": {
   "base_numbering": 1,
   "nav_menu": {},
   "number_sections": true,
   "sideBar": true,
   "skip_h1_title": true,
   "title_cell": "Table of Contents",
   "title_sidebar": "Contents",
   "toc_cell": false,
   "toc_position": {
    "height": "calc(100% - 180px)",
    "left": "10px",
    "top": "150px",
    "width": "359.594px"
   },
   "toc_section_display": true,
   "toc_window_display": true
  }
 },
 "nbformat": 4,
 "nbformat_minor": 5
}
