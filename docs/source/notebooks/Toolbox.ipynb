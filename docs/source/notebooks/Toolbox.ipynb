{
 "cells": [
  {
   "cell_type": "markdown",
   "id": "de62a529",
   "metadata": {},
   "source": [
    "# Toolbox"
   ]
  },
  {
   "cell_type": "markdown",
   "id": "32b31031",
   "metadata": {},
   "source": [
    "## Excellent tools"
   ]
  },
  {
   "cell_type": "code",
   "execution_count": null,
   "id": "0343345c",
   "metadata": {},
   "outputs": [],
   "source": [
    "# format transform among seurat, scanpy, loom\n",
    "library(sceasy)"
   ]
  },
  {
   "cell_type": "markdown",
   "id": "c7707529",
   "metadata": {},
   "source": [
    "- http://localhost:17435/notebooks/projects/ApcKO_multiomics/4.exclude_WT2.ipynb\n",
    "- http://localhost:17435/notebooks/projects/ApcKO_multiomics/Seurat2Scanpy.ipynb"
   ]
  },
  {
   "cell_type": "markdown",
   "id": "b8c3c5ec",
   "metadata": {},
   "source": [
    "## Tool to try\n",
    "- Metacell\n",
    "- SEACells\n",
    "- SCENIC+"
   ]
  },
  {
   "cell_type": "markdown",
   "id": "3a5542f0",
   "metadata": {},
   "source": [
    "## sc RNA-seq"
   ]
  },
  {
   "cell_type": "markdown",
   "id": "56306de7",
   "metadata": {},
   "source": [
    "### Annotation"
   ]
  },
  {
   "cell_type": "markdown",
   "id": "ca0df0da",
   "metadata": {},
   "source": [
    "### RNA velocity"
   ]
  },
  {
   "cell_type": "markdown",
   "id": "bbc85a69",
   "metadata": {},
   "source": [
    "### CNV"
   ]
  },
  {
   "cell_type": "markdown",
   "id": "a57eeb50",
   "metadata": {},
   "source": [
    "### CCI"
   ]
  },
  {
   "cell_type": "markdown",
   "id": "5b3b4ecb",
   "metadata": {},
   "source": [
    "## sc multi-omics"
   ]
  },
  {
   "cell_type": "markdown",
   "id": "83673e6d",
   "metadata": {},
   "source": [
    "### scATAC-seq"
   ]
  },
  {
   "cell_type": "markdown",
   "id": "1fb3f08a",
   "metadata": {},
   "source": [
    "#### macs call peak\n",
    "- https://github.com/stuart-lab/signac/issues/1091"
   ]
  },
  {
   "cell_type": "markdown",
   "id": "ca0e3e5c",
   "metadata": {},
   "source": [
    "#### Footprint\n",
    "- http://localhost:17435/notebooks/projects/ApcKO_multiomics/4.exclude_WT2.ipynb\n",
    "- https://stuartlab.org/signac/articles/footprint.html"
   ]
  },
  {
   "cell_type": "markdown",
   "id": "1d46bff4",
   "metadata": {},
   "source": [
    "#### update atac_fragments.tsv.gz\n",
    "- http://localhost:17435/notebooks/projects/ApcKO_multiomics/4.exclude_WT2.ipynb\n",
    "- Subset does not take Motif positions with it\n",
    "- https://github.com/stuart-lab/signac/issues/364"
   ]
  },
  {
   "cell_type": "markdown",
   "id": "91767c7b",
   "metadata": {},
   "source": [
    "### MIRA"
   ]
  },
  {
   "cell_type": "markdown",
   "id": "446e215f",
   "metadata": {},
   "source": [
    "### GRN"
   ]
  },
  {
   "cell_type": "markdown",
   "id": "87612e7a",
   "metadata": {},
   "source": [
    "#### eGRN\n",
    "- STREAM-eGRN.pdf\n",
    "- https://www.biorxiv.org/content/biorxiv/early/2022/12/15/2022.12.15.520582.full.pdf?%3Fcollection=\n",
    "- https://github.com/YangLi-Bio/stream_core"
   ]
  },
  {
   "cell_type": "markdown",
   "id": "e94a0077",
   "metadata": {},
   "source": [
    "### Perturb-seq"
   ]
  },
  {
   "cell_type": "markdown",
   "id": "61dfedb9",
   "metadata": {},
   "source": [
    "### CRISPR screening"
   ]
  },
  {
   "cell_type": "markdown",
   "id": "1439ffb4",
   "metadata": {},
   "source": [
    "## Spatial transcriptomics"
   ]
  },
  {
   "cell_type": "markdown",
   "id": "db1da25b",
   "metadata": {},
   "source": [
    "## NGS"
   ]
  },
  {
   "cell_type": "markdown",
   "id": "4454cdd0",
   "metadata": {},
   "source": [
    "### Cut&Run"
   ]
  },
  {
   "cell_type": "markdown",
   "id": "c850481c",
   "metadata": {},
   "source": [
    "### Cistrome\n",
    "- http://cistrome.org/"
   ]
  },
  {
   "cell_type": "markdown",
   "id": "88fb14f0",
   "metadata": {},
   "source": [
    "#### LISA\n",
    "- http://lisa.cistrome.org/"
   ]
  },
  {
   "cell_type": "markdown",
   "id": "a2030263",
   "metadata": {},
   "source": [
    "### ConSurf\n",
    "- https://consurf.tau.ac.il/consurf_index.php"
   ]
  },
  {
   "cell_type": "markdown",
   "id": "bae2a235",
   "metadata": {},
   "source": [
    "### Phastcons Conservation"
   ]
  },
  {
   "cell_type": "markdown",
   "id": "6e5e679b",
   "metadata": {},
   "source": [
    "### MEME\n",
    "- https://meme-suite.org/meme/db/motifs"
   ]
  },
  {
   "cell_type": "markdown",
   "id": "d071f7de",
   "metadata": {},
   "source": [
    "## Drug screening\n",
    "- https://virtual-flow.org/"
   ]
  },
  {
   "cell_type": "code",
   "execution_count": null,
   "id": "915bd046",
   "metadata": {},
   "outputs": [],
   "source": []
  },
  {
   "cell_type": "markdown",
   "id": "59ed25a6",
   "metadata": {},
   "source": [
    "## Websites"
   ]
  },
  {
   "cell_type": "markdown",
   "id": "e9f66fee",
   "metadata": {},
   "source": [
    "### Read the Docs"
   ]
  },
  {
   "cell_type": "markdown",
   "id": "897d5ccb",
   "metadata": {},
   "source": [
    "### pkgdown"
   ]
  },
  {
   "cell_type": "markdown",
   "id": "3de97257",
   "metadata": {},
   "source": [
    "### genexcell"
   ]
  },
  {
   "cell_type": "code",
   "execution_count": null,
   "id": "824712ad",
   "metadata": {},
   "outputs": [],
   "source": []
  }
 ],
 "metadata": {
  "kernelspec": {
   "display_name": "R",
   "language": "R",
   "name": "ir"
  },
  "language_info": {
   "codemirror_mode": "r",
   "file_extension": ".r",
   "mimetype": "text/x-r-source",
   "name": "R",
   "pygments_lexer": "r",
   "version": "4.2.2"
  },
  "toc": {
   "base_numbering": 1,
   "nav_menu": {},
   "number_sections": true,
   "sideBar": true,
   "skip_h1_title": false,
   "title_cell": "Table of Contents",
   "title_sidebar": "Contents",
   "toc_cell": false,
   "toc_position": {
    "height": "calc(100% - 180px)",
    "left": "10px",
    "top": "150px",
    "width": "359.594px"
   },
   "toc_section_display": true,
   "toc_window_display": true
  }
 },
 "nbformat": 4,
 "nbformat_minor": 5
}
