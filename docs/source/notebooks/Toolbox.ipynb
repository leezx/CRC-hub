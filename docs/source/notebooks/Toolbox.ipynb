{
 "cells": [
  {
   "cell_type": "markdown",
   "id": "61e3836a",
   "metadata": {
    "toc": true
   },
   "source": [
    "<h1>Table of Contents<span class=\"tocSkip\"></span></h1>\n",
    "<div class=\"toc\"><ul class=\"toc-item\"><li><span><a href=\"#single-cell\" data-toc-modified-id=\"single-cell-1\"><span class=\"toc-item-num\">1&nbsp;&nbsp;</span>single-cell</a></span><ul class=\"toc-item\"><li><span><a href=\"#multi-omics\" data-toc-modified-id=\"multi-omics-1.1\"><span class=\"toc-item-num\">1.1&nbsp;&nbsp;</span>multi-omics</a></span><ul class=\"toc-item\"><li><span><a href=\"#macs-call-peak\" data-toc-modified-id=\"macs-call-peak-1.1.1\"><span class=\"toc-item-num\">1.1.1&nbsp;&nbsp;</span>macs call peak</a></span></li><li><span><a href=\"#Footprint\" data-toc-modified-id=\"Footprint-1.1.2\"><span class=\"toc-item-num\">1.1.2&nbsp;&nbsp;</span>Footprint</a></span></li><li><span><a href=\"#update-atac_fragments.tsv.gz\" data-toc-modified-id=\"update-atac_fragments.tsv.gz-1.1.3\"><span class=\"toc-item-num\">1.1.3&nbsp;&nbsp;</span>update atac_fragments.tsv.gz</a></span></li></ul></li><li><span><a href=\"#scATAC-seq\" data-toc-modified-id=\"scATAC-seq-1.2\"><span class=\"toc-item-num\">1.2&nbsp;&nbsp;</span>scATAC-seq</a></span></li><li><span><a href=\"#Perturb-seq\" data-toc-modified-id=\"Perturb-seq-1.3\"><span class=\"toc-item-num\">1.3&nbsp;&nbsp;</span>Perturb-seq</a></span></li><li><span><a href=\"#CRISPR-screening\" data-toc-modified-id=\"CRISPR-screening-1.4\"><span class=\"toc-item-num\">1.4&nbsp;&nbsp;</span>CRISPR screening</a></span></li></ul></li><li><span><a href=\"#Spatial-transcriptomics\" data-toc-modified-id=\"Spatial-transcriptomics-2\"><span class=\"toc-item-num\">2&nbsp;&nbsp;</span>Spatial transcriptomics</a></span></li><li><span><a href=\"#NGS\" data-toc-modified-id=\"NGS-3\"><span class=\"toc-item-num\">3&nbsp;&nbsp;</span>NGS</a></span><ul class=\"toc-item\"><li><span><a href=\"#Cut&amp;Run\" data-toc-modified-id=\"Cut&amp;Run-3.1\"><span class=\"toc-item-num\">3.1&nbsp;&nbsp;</span>Cut&amp;Run</a></span></li><li><span><a href=\"#Cistrome\" data-toc-modified-id=\"Cistrome-3.2\"><span class=\"toc-item-num\">3.2&nbsp;&nbsp;</span>Cistrome</a></span></li><li><span><a href=\"#ConSurf\" data-toc-modified-id=\"ConSurf-3.3\"><span class=\"toc-item-num\">3.3&nbsp;&nbsp;</span>ConSurf</a></span></li><li><span><a href=\"#Phastcons-Conservation\" data-toc-modified-id=\"Phastcons-Conservation-3.4\"><span class=\"toc-item-num\">3.4&nbsp;&nbsp;</span>Phastcons Conservation</a></span></li><li><span><a href=\"#MEME\" data-toc-modified-id=\"MEME-3.5\"><span class=\"toc-item-num\">3.5&nbsp;&nbsp;</span>MEME</a></span></li></ul></li></ul></div>"
   ]
  },
  {
   "cell_type": "code",
   "execution_count": null,
   "id": "201a68aa",
   "metadata": {},
   "outputs": [],
   "source": []
  },
  {
   "cell_type": "markdown",
   "id": "9236a6a7",
   "metadata": {},
   "source": [
    "# single-cell"
   ]
  },
  {
   "cell_type": "code",
   "execution_count": null,
   "id": "b76c569b",
   "metadata": {},
   "outputs": [],
   "source": []
  },
  {
   "cell_type": "markdown",
   "id": "3e7a84cc",
   "metadata": {},
   "source": [
    "## multi-omics"
   ]
  },
  {
   "cell_type": "code",
   "execution_count": null,
   "id": "4bc77269",
   "metadata": {},
   "outputs": [],
   "source": []
  },
  {
   "cell_type": "code",
   "execution_count": null,
   "id": "9b910717",
   "metadata": {},
   "outputs": [],
   "source": []
  },
  {
   "cell_type": "markdown",
   "id": "6de4cd83",
   "metadata": {},
   "source": [
    "### macs call peak\n",
    "- https://github.com/stuart-lab/signac/issues/1091"
   ]
  },
  {
   "cell_type": "markdown",
   "id": "58f1bf57",
   "metadata": {},
   "source": [
    "### Footprint\n",
    "- http://localhost:17435/notebooks/projects/ApcKO_multiomics/4.exclude_WT2.ipynb\n",
    "- https://stuartlab.org/signac/articles/footprint.html"
   ]
  },
  {
   "cell_type": "markdown",
   "id": "5e28c3f1",
   "metadata": {},
   "source": [
    "### update atac_fragments.tsv.gz\n",
    "- http://localhost:17435/notebooks/projects/ApcKO_multiomics/4.exclude_WT2.ipynb"
   ]
  },
  {
   "cell_type": "code",
   "execution_count": null,
   "id": "a942f049",
   "metadata": {},
   "outputs": [],
   "source": []
  },
  {
   "cell_type": "markdown",
   "id": "f001917b",
   "metadata": {},
   "source": [
    "## scATAC-seq"
   ]
  },
  {
   "cell_type": "code",
   "execution_count": null,
   "id": "2cfd333c",
   "metadata": {},
   "outputs": [],
   "source": []
  },
  {
   "cell_type": "code",
   "execution_count": null,
   "id": "f2ddc60e",
   "metadata": {},
   "outputs": [],
   "source": []
  },
  {
   "cell_type": "markdown",
   "id": "3729bea6",
   "metadata": {},
   "source": [
    "## Perturb-seq"
   ]
  },
  {
   "cell_type": "code",
   "execution_count": null,
   "id": "e2857cfe",
   "metadata": {},
   "outputs": [],
   "source": []
  },
  {
   "cell_type": "markdown",
   "id": "17074cc8",
   "metadata": {},
   "source": [
    "## CRISPR screening"
   ]
  },
  {
   "cell_type": "code",
   "execution_count": null,
   "id": "0e8563d7",
   "metadata": {},
   "outputs": [],
   "source": []
  },
  {
   "cell_type": "markdown",
   "id": "26d2812c",
   "metadata": {},
   "source": [
    "# Spatial transcriptomics"
   ]
  },
  {
   "cell_type": "code",
   "execution_count": null,
   "id": "4754b5fd",
   "metadata": {},
   "outputs": [],
   "source": []
  },
  {
   "cell_type": "markdown",
   "id": "9b6c6dd4",
   "metadata": {},
   "source": [
    "# NGS"
   ]
  },
  {
   "cell_type": "markdown",
   "id": "567fa435",
   "metadata": {},
   "source": [
    "## Cut&Run"
   ]
  },
  {
   "cell_type": "code",
   "execution_count": null,
   "id": "5df94af2",
   "metadata": {},
   "outputs": [],
   "source": []
  },
  {
   "cell_type": "markdown",
   "id": "fab2cd6f",
   "metadata": {},
   "source": [
    "## Cistrome\n",
    "- http://cistrome.org/"
   ]
  },
  {
   "cell_type": "markdown",
   "id": "453df1b2",
   "metadata": {},
   "source": [
    "## ConSurf\n",
    "- https://consurf.tau.ac.il/consurf_index.php"
   ]
  },
  {
   "cell_type": "markdown",
   "id": "f4ace2c5",
   "metadata": {},
   "source": [
    "## Phastcons Conservation"
   ]
  },
  {
   "cell_type": "code",
   "execution_count": null,
   "id": "72a94cfd",
   "metadata": {},
   "outputs": [],
   "source": []
  },
  {
   "cell_type": "markdown",
   "id": "e1469bd9",
   "metadata": {},
   "source": [
    "## MEME\n",
    "- https://meme-suite.org/meme/db/motifs"
   ]
  },
  {
   "cell_type": "code",
   "execution_count": null,
   "id": "f107c2d7",
   "metadata": {},
   "outputs": [],
   "source": []
  }
 ],
 "metadata": {
  "kernelspec": {
   "display_name": "R 4.1",
   "language": "R",
   "name": "ir41"
  },
  "language_info": {
   "codemirror_mode": "r",
   "file_extension": ".r",
   "mimetype": "text/x-r-source",
   "name": "R",
   "pygments_lexer": "r",
   "version": "4.2.2"
  },
  "toc": {
   "base_numbering": 1,
   "nav_menu": {},
   "number_sections": true,
   "sideBar": true,
   "skip_h1_title": false,
   "title_cell": "Table of Contents",
   "title_sidebar": "Contents",
   "toc_cell": true,
   "toc_position": {
    "height": "calc(100% - 180px)",
    "left": "10px",
    "top": "150px",
    "width": "261.594px"
   },
   "toc_section_display": true,
   "toc_window_display": true
  }
 },
 "nbformat": 4,
 "nbformat_minor": 5
}
