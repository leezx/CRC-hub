{
 "cells": [
  {
   "cell_type": "markdown",
   "id": "de62a529",
   "metadata": {},
   "source": [
    "# Toolbox"
   ]
  },
  {
   "cell_type": "markdown",
   "id": "c19814b0",
   "metadata": {},
   "source": [
    "## Best categorization methods\n",
    "- Based on data type (DNA, RNA, ATAC, ST, protein)\n",
    "- Based on purpose (differentiation, plasticity)"
   ]
  },
  {
   "cell_type": "markdown",
   "id": "486495ea",
   "metadata": {},
   "source": [
    "## Tool need to try\n",
    "- Metacell\n",
    "- SEACells\n",
    "- SCENIC+"
   ]
  },
  {
   "cell_type": "markdown",
   "id": "5304dc1c",
   "metadata": {},
   "source": [
    "## DNA\n",
    "- SNV\n",
    "- CNV\n",
    "- SV\n",
    "- cancer mutations"
   ]
  },
  {
   "cell_type": "markdown",
   "id": "9329d30e",
   "metadata": {},
   "source": [
    "### Phastcons Conservation"
   ]
  },
  {
   "cell_type": "code",
   "execution_count": null,
   "id": "8f1114cc",
   "metadata": {},
   "outputs": [],
   "source": []
  },
  {
   "cell_type": "markdown",
   "id": "650ebd22",
   "metadata": {},
   "source": [
    "## Epigenetic"
   ]
  },
  {
   "cell_type": "markdown",
   "id": "c1ef4ee4",
   "metadata": {},
   "source": [
    "### scATAC-seq"
   ]
  },
  {
   "cell_type": "markdown",
   "id": "0d131a49",
   "metadata": {},
   "source": [
    "#### macs call peak\n",
    "- https://github.com/stuart-lab/signac/issues/1091"
   ]
  },
  {
   "cell_type": "markdown",
   "id": "78ed980b",
   "metadata": {},
   "source": [
    "#### Footprint\n",
    "- http://localhost:17435/notebooks/projects/ApcKO_multiomics/4.exclude_WT2.ipynb\n",
    "- https://stuartlab.org/signac/articles/footprint.html"
   ]
  },
  {
   "cell_type": "markdown",
   "id": "99451d4f",
   "metadata": {},
   "source": [
    "#### update atac_fragments.tsv.gz\n",
    "- http://localhost:17435/notebooks/projects/ApcKO_multiomics/4.exclude_WT2.ipynb\n",
    "- Subset does not take Motif positions with it\n",
    "- https://github.com/stuart-lab/signac/issues/364"
   ]
  },
  {
   "cell_type": "code",
   "execution_count": null,
   "id": "8e22868e",
   "metadata": {},
   "outputs": [],
   "source": []
  },
  {
   "cell_type": "markdown",
   "id": "8a897c6d",
   "metadata": {},
   "source": [
    "### Cut&Run"
   ]
  },
  {
   "cell_type": "code",
   "execution_count": null,
   "id": "45acba33",
   "metadata": {},
   "outputs": [],
   "source": []
  },
  {
   "cell_type": "markdown",
   "id": "a5898c09",
   "metadata": {},
   "source": [
    "### epitranscriptomics\n",
    "- [m6A-RNA-regulators.ipynb](toolbox/m6A-RNA/m6A-RNA-regulators.ipynb)"
   ]
  },
  {
   "cell_type": "markdown",
   "id": "69f6a2f8",
   "metadata": {},
   "source": [
    "## RNA"
   ]
  },
  {
   "cell_type": "markdown",
   "id": "df460b8a",
   "metadata": {},
   "source": [
    "### bulk RNA-seq"
   ]
  },
  {
   "cell_type": "code",
   "execution_count": null,
   "id": "492a161f",
   "metadata": {},
   "outputs": [],
   "source": []
  },
  {
   "cell_type": "markdown",
   "id": "3a5542f0",
   "metadata": {},
   "source": [
    "### scRNA-seq"
   ]
  },
  {
   "cell_type": "markdown",
   "id": "56306de7",
   "metadata": {},
   "source": [
    "#### Annotation"
   ]
  },
  {
   "cell_type": "markdown",
   "id": "ca0df0da",
   "metadata": {},
   "source": [
    "#### RNA velocity"
   ]
  },
  {
   "cell_type": "markdown",
   "id": "bbc85a69",
   "metadata": {},
   "source": [
    "#### CNV"
   ]
  },
  {
   "cell_type": "markdown",
   "id": "a57eeb50",
   "metadata": {},
   "source": [
    "#### CCI"
   ]
  },
  {
   "cell_type": "code",
   "execution_count": null,
   "id": "c532ffc9",
   "metadata": {},
   "outputs": [],
   "source": []
  },
  {
   "cell_type": "markdown",
   "id": "b3a7ffa4",
   "metadata": {},
   "source": [
    "## Protein"
   ]
  },
  {
   "cell_type": "markdown",
   "id": "348315ab",
   "metadata": {},
   "source": [
    "### ConSurf\n",
    "- https://consurf.tau.ac.il/consurf_index.php"
   ]
  },
  {
   "cell_type": "code",
   "execution_count": null,
   "id": "8c05628c",
   "metadata": {},
   "outputs": [],
   "source": []
  },
  {
   "cell_type": "markdown",
   "id": "5b3b4ecb",
   "metadata": {},
   "source": [
    "## multi-omics"
   ]
  },
  {
   "cell_type": "markdown",
   "id": "446e215f",
   "metadata": {},
   "source": [
    "### GRN"
   ]
  },
  {
   "cell_type": "markdown",
   "id": "87612e7a",
   "metadata": {},
   "source": [
    "#### eGRN\n",
    "- STREAM-eGRN.pdf\n",
    "- https://www.biorxiv.org/content/biorxiv/early/2022/12/15/2022.12.15.520582.full.pdf?%3Fcollection=\n",
    "- https://github.com/YangLi-Bio/stream_core"
   ]
  },
  {
   "cell_type": "code",
   "execution_count": null,
   "id": "904e8cf6",
   "metadata": {},
   "outputs": [],
   "source": []
  },
  {
   "cell_type": "markdown",
   "id": "5c5db4a9",
   "metadata": {},
   "source": [
    "## New data types"
   ]
  },
  {
   "cell_type": "markdown",
   "id": "e94a0077",
   "metadata": {},
   "source": [
    "### Perturb-seq"
   ]
  },
  {
   "cell_type": "markdown",
   "id": "61dfedb9",
   "metadata": {},
   "source": [
    "### CRISPR screening"
   ]
  },
  {
   "cell_type": "markdown",
   "id": "1439ffb4",
   "metadata": {},
   "source": [
    "### Spatial transcriptomics"
   ]
  },
  {
   "cell_type": "code",
   "execution_count": null,
   "id": "d89a6e74",
   "metadata": {},
   "outputs": [],
   "source": []
  },
  {
   "cell_type": "markdown",
   "id": "d071f7de",
   "metadata": {},
   "source": [
    "### Drug screening\n",
    "- https://virtual-flow.org/"
   ]
  },
  {
   "cell_type": "code",
   "execution_count": null,
   "id": "40443641",
   "metadata": {},
   "outputs": [],
   "source": []
  },
  {
   "cell_type": "markdown",
   "id": "42443555",
   "metadata": {},
   "source": [
    "## Others"
   ]
  },
  {
   "cell_type": "code",
   "execution_count": null,
   "id": "3b7f8069",
   "metadata": {},
   "outputs": [],
   "source": [
    "# format transform among seurat, scanpy, loom\n",
    "library(sceasy)"
   ]
  },
  {
   "cell_type": "markdown",
   "id": "a2079fb6",
   "metadata": {},
   "source": [
    "- http://localhost:17435/notebooks/projects/ApcKO_multiomics/4.exclude_WT2.ipynb\n",
    "- http://localhost:17435/notebooks/projects/ApcKO_multiomics/Seurat2Scanpy.ipynb"
   ]
  },
  {
   "cell_type": "code",
   "execution_count": null,
   "id": "915bd046",
   "metadata": {},
   "outputs": [],
   "source": []
  },
  {
   "cell_type": "markdown",
   "id": "59ed25a6",
   "metadata": {},
   "source": [
    "## Websites"
   ]
  },
  {
   "cell_type": "markdown",
   "id": "e9f66fee",
   "metadata": {},
   "source": [
    "### Read the Docs\n",
    "- add tag: \n",
    "- nbsphinx-gallery [include section toc on the left]\n",
    "- nbsphinx-link-gallery [for gallery]\n",
    "- nbsphinx-thumbnail [for thumbnail]\n",
    "- https://docs.readthedocs.io/en/stable/guides/jupyter.html#creating-galleries-of-examples-using-notebooks\n",
    "- https://nbsphinx.readthedocs.io/en/latest/gallery/gallery-with-nested-documents.html\n",
    "- https://sphinx-gallery.github.io/stable/index.html [could solve the problem]\n",
    "- https://sphinx-book-theme.readthedocs.io/en/stable/customize/custom-css.html\n",
    "\n",
    "```\n",
    "# requirements.txt\n",
    "\n",
    "# conf.py\n",
    "extensions = [\n",
    "    #\"myst_nb\", # pip install myst_nb\n",
    "    \"nbsphinx\", # pip install nbsphinx\n",
    "    \"myst_parser\", # pip install myst-parser\n",
    "    \"sphinx_gallery.load_style\",\n",
    "    'sphinx.ext.autodoc',\n",
    "    'sphinx.ext.autosummary',\n",
    "    'sphinx_copybutton',\n",
    "    'sphinx_panels',\n",
    "    'sphinx.ext.viewcode',\n",
    "    # theme\n",
    "    'sphinx_rtd_size',\n",
    "    'ipykernel', # for kernels\n",
    "]\n",
    "\n",
    "nbsphinx_kernel_name = 'python'\n",
    "nbsphinx_execute = 'never' # don't check R code\n",
    "```"
   ]
  },
  {
   "cell_type": "markdown",
   "id": "897d5ccb",
   "metadata": {},
   "source": [
    "### pkgdown"
   ]
  },
  {
   "cell_type": "markdown",
   "id": "3de97257",
   "metadata": {},
   "source": [
    "### genexcell"
   ]
  },
  {
   "cell_type": "code",
   "execution_count": null,
   "id": "824712ad",
   "metadata": {},
   "outputs": [],
   "source": []
  },
  {
   "cell_type": "markdown",
   "id": "62572c83",
   "metadata": {},
   "source": [
    "## Theme-based"
   ]
  },
  {
   "cell_type": "markdown",
   "id": "662ab185",
   "metadata": {},
   "source": [
    "### lineage plasticity"
   ]
  },
  {
   "cell_type": "code",
   "execution_count": null,
   "id": "f4f8e195",
   "metadata": {},
   "outputs": [],
   "source": []
  },
  {
   "cell_type": "markdown",
   "id": "ae210607",
   "metadata": {},
   "source": [
    "### MIRA"
   ]
  },
  {
   "cell_type": "code",
   "execution_count": null,
   "id": "66f97044",
   "metadata": {},
   "outputs": [],
   "source": []
  },
  {
   "cell_type": "markdown",
   "id": "859b2d27",
   "metadata": {},
   "source": [
    "### Cistrome\n",
    "- http://cistrome.org/"
   ]
  },
  {
   "cell_type": "markdown",
   "id": "076906f4",
   "metadata": {},
   "source": [
    "### LISA\n",
    "- http://lisa.cistrome.org/"
   ]
  },
  {
   "cell_type": "markdown",
   "id": "ee1ca56c",
   "metadata": {},
   "source": [
    "### MEME\n",
    "- https://meme-suite.org/meme/db/motifs"
   ]
  },
  {
   "cell_type": "code",
   "execution_count": null,
   "id": "8cb4de92",
   "metadata": {},
   "outputs": [],
   "source": []
  }
 ],
 "metadata": {
  "kernelspec": {
   "display_name": "R",
   "language": "R",
   "name": "ir"
  },
  "language_info": {
   "codemirror_mode": "r",
   "file_extension": ".r",
   "mimetype": "text/x-r-source",
   "name": "R",
   "pygments_lexer": "r",
   "version": "4.2.2"
  },
  "toc": {
   "base_numbering": 1,
   "nav_menu": {},
   "number_sections": true,
   "sideBar": true,
   "skip_h1_title": true,
   "title_cell": "Table of Contents",
   "title_sidebar": "Contents",
   "toc_cell": false,
   "toc_position": {
    "height": "calc(100% - 180px)",
    "left": "10px",
    "top": "150px",
    "width": "359.594px"
   },
   "toc_section_display": true,
   "toc_window_display": true
  }
 },
 "nbformat": 4,
 "nbformat_minor": 5
}
