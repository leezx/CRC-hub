{
 "cells": [
  {
   "cell_type": "markdown",
   "id": "de62a529",
   "metadata": {},
   "source": [
    "# Toolbox"
   ]
  },
  {
   "cell_type": "markdown",
   "id": "172f12c0",
   "metadata": {},
   "source": [
    "## Organization of this page\n",
    "- Based on data type (DNA, RNA, ATAC, ST, protein)\n",
    "- Based on purpose (differentiation, plasticity)"
   ]
  },
  {
   "cell_type": "markdown",
   "id": "83cdcbec",
   "metadata": {},
   "source": [
    "## Tool need to try\n",
    "- Metacell/SuperCell\n",
    "- SEACells\n",
    "- SCENIC+\n",
    "- CellOracle\n",
    "- dynamo\n",
    "- Cicero\n",
    "- HGC (Hierarchical Graph-based Clustering)\n",
    "\n",
    "\n",
    "- SCENT (https://mp.weixin.qq.com/s/VvxExACrvWYyjClT2ajldw)\n",
    "- FitDevo (https://mp.weixin.qq.com/s/pFrl54QkV_p-swzYKYY1HA)\n",
    "\n",
    "- GSVA\n",
    "- AddModuleScore -Seurat\n",
    "- chromVAR\n",
    "\n",
    "## Tools tested\n",
    "- Signac"
   ]
  },
  {
   "cell_type": "markdown",
   "id": "083c53a3",
   "metadata": {},
   "source": [
    "## DNA\n",
    "- SNV\n",
    "- CNV\n",
    "- SV\n",
    "- cancer mutations"
   ]
  },
  {
   "cell_type": "markdown",
   "id": "b9c83c24",
   "metadata": {},
   "source": [
    "### Phastcons Conservation"
   ]
  },
  {
   "cell_type": "code",
   "execution_count": null,
   "id": "39f4eab0",
   "metadata": {},
   "outputs": [],
   "source": []
  },
  {
   "cell_type": "markdown",
   "id": "c9fed1ba",
   "metadata": {},
   "source": [
    "## Epigenetic"
   ]
  },
  {
   "cell_type": "markdown",
   "id": "51870c00",
   "metadata": {},
   "source": [
    "### Tools"
   ]
  },
  {
   "cell_type": "markdown",
   "id": "07f0f2e4",
   "metadata": {},
   "source": [
    "#### Cistrome\n",
    "- http://cistrome.org/"
   ]
  },
  {
   "cell_type": "markdown",
   "id": "8c2ca44e",
   "metadata": {},
   "source": [
    "#### LISA\n",
    "- http://lisa.cistrome.org/"
   ]
  },
  {
   "cell_type": "markdown",
   "id": "9565db83",
   "metadata": {},
   "source": [
    "#### MEME\n",
    "- https://meme-suite.org/meme/db/motifs"
   ]
  },
  {
   "cell_type": "code",
   "execution_count": null,
   "id": "31cd3bbf",
   "metadata": {},
   "outputs": [],
   "source": []
  },
  {
   "cell_type": "markdown",
   "id": "1f016608",
   "metadata": {},
   "source": [
    "### scATAC-seq"
   ]
  },
  {
   "cell_type": "markdown",
   "id": "ce42c5f3",
   "metadata": {},
   "source": [
    "#### macs call peak\n",
    "- https://github.com/stuart-lab/signac/issues/1091"
   ]
  },
  {
   "cell_type": "markdown",
   "id": "2d8019ad",
   "metadata": {},
   "source": [
    "#### Footprint\n",
    "- http://localhost:17435/notebooks/projects/ApcKO_multiomics/4.exclude_WT2.ipynb\n",
    "- https://stuartlab.org/signac/articles/footprint.html"
   ]
  },
  {
   "cell_type": "markdown",
   "id": "e6cb9610",
   "metadata": {},
   "source": [
    "#### update atac_fragments.tsv.gz\n",
    "- http://localhost:17435/notebooks/projects/ApcKO_multiomics/4.exclude_WT2.ipynb\n",
    "- Subset does not take Motif positions with it\n",
    "- https://github.com/stuart-lab/signac/issues/364"
   ]
  },
  {
   "cell_type": "code",
   "execution_count": null,
   "id": "da467aba",
   "metadata": {},
   "outputs": [],
   "source": []
  },
  {
   "cell_type": "markdown",
   "id": "54a17dac",
   "metadata": {},
   "source": [
    "### Cut&Run"
   ]
  },
  {
   "cell_type": "code",
   "execution_count": null,
   "id": "f6c89493",
   "metadata": {},
   "outputs": [],
   "source": []
  },
  {
   "cell_type": "markdown",
   "id": "70e628be",
   "metadata": {},
   "source": [
    "### epitranscriptomics\n",
    "- [m6A-RNA-regulators.ipynb](toolbox/m6A-RNA/m6A-RNA-regulators.ipynb)"
   ]
  },
  {
   "cell_type": "markdown",
   "id": "b497cf3e",
   "metadata": {},
   "source": [
    "## RNA"
   ]
  },
  {
   "cell_type": "markdown",
   "id": "c123bfbb",
   "metadata": {},
   "source": [
    "### bulk RNA-seq"
   ]
  },
  {
   "cell_type": "code",
   "execution_count": null,
   "id": "c1d3d4c8",
   "metadata": {},
   "outputs": [],
   "source": []
  },
  {
   "cell_type": "markdown",
   "id": "3a5542f0",
   "metadata": {},
   "source": [
    "### scRNA-seq"
   ]
  },
  {
   "cell_type": "markdown",
   "id": "56306de7",
   "metadata": {},
   "source": [
    "#### Annotation"
   ]
  },
  {
   "cell_type": "markdown",
   "id": "ca0df0da",
   "metadata": {},
   "source": [
    "#### RNA velocity"
   ]
  },
  {
   "cell_type": "markdown",
   "id": "bbc85a69",
   "metadata": {},
   "source": [
    "#### CNV"
   ]
  },
  {
   "cell_type": "markdown",
   "id": "a57eeb50",
   "metadata": {},
   "source": [
    "#### CCI"
   ]
  },
  {
   "cell_type": "code",
   "execution_count": null,
   "id": "1ed222de",
   "metadata": {},
   "outputs": [],
   "source": []
  },
  {
   "cell_type": "markdown",
   "id": "c6b976a0",
   "metadata": {},
   "source": [
    "## Protein"
   ]
  },
  {
   "cell_type": "markdown",
   "id": "d06ae0f8",
   "metadata": {},
   "source": [
    "### Tools"
   ]
  },
  {
   "cell_type": "markdown",
   "id": "61a05e28",
   "metadata": {},
   "source": [
    "#### ConSurf\n",
    "- https://consurf.tau.ac.il/consurf_index.php"
   ]
  },
  {
   "cell_type": "code",
   "execution_count": null,
   "id": "102f863d",
   "metadata": {},
   "outputs": [],
   "source": []
  },
  {
   "cell_type": "markdown",
   "id": "5b3b4ecb",
   "metadata": {},
   "source": [
    "## multi-omics"
   ]
  },
  {
   "cell_type": "markdown",
   "id": "c8c5d8a7",
   "metadata": {},
   "source": [
    "### Integration"
   ]
  },
  {
   "cell_type": "markdown",
   "id": "c68d73f5",
   "metadata": {},
   "source": [
    "#### MIRA"
   ]
  },
  {
   "cell_type": "markdown",
   "id": "ac87cc61",
   "metadata": {},
   "source": [
    "## GRN"
   ]
  },
  {
   "cell_type": "markdown",
   "id": "b8e07478",
   "metadata": {},
   "source": [
    "#### STREAM"
   ]
  },
  {
   "cell_type": "markdown",
   "id": "87612e7a",
   "metadata": {},
   "source": [
    "- STREAM-eGRN.pdf\n",
    "- https://www.biorxiv.org/content/biorxiv/early/2022/12/15/2022.12.15.520582.full.pdf?%3Fcollection=\n",
    "- https://github.com/YangLi-Bio/stream_core"
   ]
  },
  {
   "cell_type": "markdown",
   "id": "e26da3ce",
   "metadata": {},
   "source": [
    "### SCENIC+\n",
    "- https://scenicplus.readthedocs.io/en/latest/\n",
    "- `conda install -c bioconda macs2` # pip install has error\n",
    "\n",
    "```\n",
    "git clone https://github.com/aertslab/scenicplus\n",
    "cd scenicplus\n",
    "pip install .\n",
    "```"
   ]
  },
  {
   "cell_type": "code",
   "execution_count": null,
   "id": "59a21ad7",
   "metadata": {},
   "outputs": [],
   "source": []
  },
  {
   "cell_type": "markdown",
   "id": "fe868df6",
   "metadata": {},
   "source": [
    "## New data types"
   ]
  },
  {
   "cell_type": "markdown",
   "id": "e94a0077",
   "metadata": {},
   "source": [
    "### Perturb-seq"
   ]
  },
  {
   "cell_type": "markdown",
   "id": "61dfedb9",
   "metadata": {},
   "source": [
    "### CRISPR screening"
   ]
  },
  {
   "cell_type": "markdown",
   "id": "1439ffb4",
   "metadata": {},
   "source": [
    "### Spatial transcriptomics"
   ]
  },
  {
   "cell_type": "code",
   "execution_count": null,
   "id": "7074cda5",
   "metadata": {},
   "outputs": [],
   "source": []
  },
  {
   "cell_type": "markdown",
   "id": "d071f7de",
   "metadata": {},
   "source": [
    "### Drug screening\n",
    "- https://virtual-flow.org/"
   ]
  },
  {
   "cell_type": "code",
   "execution_count": null,
   "id": "de6cb0c2",
   "metadata": {},
   "outputs": [],
   "source": []
  },
  {
   "cell_type": "code",
   "execution_count": null,
   "id": "0ef07a44",
   "metadata": {},
   "outputs": [],
   "source": []
  },
  {
   "cell_type": "code",
   "execution_count": null,
   "id": "b9cc23c1",
   "metadata": {},
   "outputs": [],
   "source": []
  },
  {
   "cell_type": "markdown",
   "id": "8101478b",
   "metadata": {},
   "source": [
    "## Tutorial"
   ]
  },
  {
   "cell_type": "markdown",
   "id": "85d2e462",
   "metadata": {},
   "source": [
    "### Common tools"
   ]
  },
  {
   "cell_type": "markdown",
   "id": "4dbc1853",
   "metadata": {
    "tags": [
     "nbsphinx-link-gallery"
    ]
   },
   "source": [
    "- [Scanpy-tutorial](toolbox/Scanpy-tutorial.ipynb)\n",
    "- [MetaCell](MetaCell)"
   ]
  },
  {
   "cell_type": "code",
   "execution_count": 6,
   "id": "12726dee",
   "metadata": {},
   "outputs": [
    {
     "data": {
      "text/html": [
       "0.004747561509943"
      ],
      "text/latex": [
       "0.004747561509943"
      ],
      "text/markdown": [
       "0.004747561509943"
      ],
      "text/plain": [
       "[1] 0.004747562"
      ]
     },
     "metadata": {},
     "output_type": "display_data"
    }
   ],
   "source": [
    "0.7^15"
   ]
  },
  {
   "cell_type": "markdown",
   "id": "21cfafca",
   "metadata": {},
   "source": [
    "## Others"
   ]
  },
  {
   "cell_type": "code",
   "execution_count": null,
   "id": "2db501ff",
   "metadata": {},
   "outputs": [],
   "source": [
    "# format transform among seurat, scanpy, loom\n",
    "library(sceasy)"
   ]
  },
  {
   "cell_type": "markdown",
   "id": "ef969c58",
   "metadata": {},
   "source": [
    "- http://localhost:17435/notebooks/projects/ApcKO_multiomics/4.exclude_WT2.ipynb\n",
    "- http://localhost:17435/notebooks/projects/ApcKO_multiomics/Seurat2Scanpy.ipynb"
   ]
  },
  {
   "cell_type": "code",
   "execution_count": null,
   "id": "3448d5a2",
   "metadata": {},
   "outputs": [],
   "source": []
  }
 ],
 "metadata": {
  "kernelspec": {
   "display_name": "R",
   "language": "R",
   "name": "ir"
  },
  "language_info": {
   "codemirror_mode": "r",
   "file_extension": ".r",
   "mimetype": "text/x-r-source",
   "name": "R",
   "pygments_lexer": "r",
   "version": "4.2.2"
  },
  "toc": {
   "base_numbering": 1,
   "nav_menu": {},
   "number_sections": true,
   "sideBar": true,
   "skip_h1_title": true,
   "title_cell": "Table of Contents",
   "title_sidebar": "Contents",
   "toc_cell": false,
   "toc_position": {
    "height": "calc(100% - 180px)",
    "left": "10px",
    "top": "150px",
    "width": "359.594px"
   },
   "toc_section_display": true,
   "toc_window_display": true
  }
 },
 "nbformat": 4,
 "nbformat_minor": 5
}
