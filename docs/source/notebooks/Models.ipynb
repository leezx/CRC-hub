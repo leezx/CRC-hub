{
 "cells": [
  {
   "cell_type": "markdown",
   "id": "e82965ef",
   "metadata": {},
   "source": [
    "# Disease models"
   ]
  },
  {
   "cell_type": "markdown",
   "id": "973ed955",
   "metadata": {},
   "source": [
    "## Cell line"
   ]
  },
  {
   "cell_type": "markdown",
   "id": "5872a998",
   "metadata": {},
   "source": [
    "## Mouse model"
   ]
  },
  {
   "cell_type": "markdown",
   "id": "967304eb",
   "metadata": {},
   "source": [
    "## Organoid\n",
    "- [Organoids and organs-on-chips: insights into predicting the efficacy of systemic treatment in colorectal cancer - review - Cell Death Discovery - 2023](https://www.nature.com/articles/s41420-023-01354-9)\n",
    "- Lack of a vascular, nervous or immune system is a major disadvantage of organoids."
   ]
  },
  {
   "cell_type": "markdown",
   "id": "8c4e78a9",
   "metadata": {},
   "source": [
    "## Patient-derived xenograft (PDX)\n",
    "- Because of the integrity of PDX microenvironment, it remains the gold standard for verifying drug sensitivity"
   ]
  },
  {
   "cell_type": "markdown",
   "id": "2c3ce565",
   "metadata": {},
   "source": [
    "## Human sample"
   ]
  },
  {
   "cell_type": "code",
   "execution_count": null,
   "id": "6587cb0e",
   "metadata": {},
   "outputs": [],
   "source": []
  },
  {
   "cell_type": "code",
   "execution_count": null,
   "id": "885b976f",
   "metadata": {},
   "outputs": [],
   "source": []
  }
 ],
 "metadata": {
  "kernelspec": {
   "display_name": "R 4.1",
   "language": "R",
   "name": "ir41"
  },
  "language_info": {
   "codemirror_mode": "r",
   "file_extension": ".r",
   "mimetype": "text/x-r-source",
   "name": "R",
   "pygments_lexer": "r",
   "version": "4.2.2"
  },
  "toc": {
   "base_numbering": 1,
   "nav_menu": {},
   "number_sections": true,
   "sideBar": true,
   "skip_h1_title": false,
   "title_cell": "Table of Contents",
   "title_sidebar": "Contents",
   "toc_cell": false,
   "toc_position": {},
   "toc_section_display": true,
   "toc_window_display": true
  }
 },
 "nbformat": 4,
 "nbformat_minor": 5
}
