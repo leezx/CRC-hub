{
 "cells": [
  {
   "cell_type": "markdown",
   "id": "e82965ef",
   "metadata": {},
   "source": [
    "# ModelExp"
   ]
  },
  {
   "cell_type": "markdown",
   "id": "0d7ee3f1",
   "metadata": {},
   "source": [
    "## Basis of CRC\n",
    "- 任何model都必须从人的疾病特征出发\n",
    "- APC TP53 KRAS model\n",
    "- Mutations in APC, Kirsten-ras, and p53—alternative genetic pathways to colorectal cancer - PNAS - 2002\n",
    "- Targeting mutant p53 for cancer therapy: direct and indirect strategies - Review - 2021"
   ]
  },
  {
   "cell_type": "markdown",
   "id": "93499504",
   "metadata": {},
   "source": [
    "## Disease models"
   ]
  },
  {
   "cell_type": "markdown",
   "id": "973ed955",
   "metadata": {},
   "source": [
    "### Cell line"
   ]
  },
  {
   "cell_type": "markdown",
   "id": "5872a998",
   "metadata": {},
   "source": [
    "### Mouse model\n",
    "\n",
    "#### Lgr5-EGFP-IRES-creERT2\n",
    "- jax lab lgr5 egfp cre\n",
    "- https://www.jax.org/strain/008875\n",
    "- Identification of stem cells in small intestine and colon by marker gene Lgr5 - Nature - 2007"
   ]
  },
  {
   "cell_type": "markdown",
   "id": "967304eb",
   "metadata": {},
   "source": [
    "### Organoid\n",
    "- [Organoids and organs-on-chips: insights into predicting the efficacy of systemic treatment in colorectal cancer - review - Cell Death Discovery - 2023](https://www.nature.com/articles/s41420-023-01354-9)\n",
    "- Lack of a vascular, nervous or immune system is a major disadvantage of organoids."
   ]
  },
  {
   "cell_type": "markdown",
   "id": "8c4e78a9",
   "metadata": {},
   "source": [
    "### Patient-derived xenograft (PDX)\n",
    "- Because of the integrity of PDX microenvironment, it remains the gold standard for verifying drug sensitivity"
   ]
  },
  {
   "cell_type": "markdown",
   "id": "2c3ce565",
   "metadata": {},
   "source": [
    "### Human sample"
   ]
  },
  {
   "cell_type": "markdown",
   "id": "d93ee718",
   "metadata": {},
   "source": [
    "## Exprimental approaches\n",
    "- [Cancer实验系列 | 开篇 | Molecular cloning | 分子克隆](https://www.cnblogs.com/leezx/p/17150023.html)"
   ]
  },
  {
   "cell_type": "markdown",
   "id": "c32ced23",
   "metadata": {},
   "source": [
    "### RT-PCR"
   ]
  },
  {
   "cell_type": "markdown",
   "id": "b73819bd",
   "metadata": {},
   "source": [
    "### WB"
   ]
  },
  {
   "cell_type": "markdown",
   "id": "6a871865",
   "metadata": {},
   "source": [
    "### Co-IP"
   ]
  },
  {
   "cell_type": "code",
   "execution_count": null,
   "id": "612e14ad",
   "metadata": {},
   "outputs": [],
   "source": []
  },
  {
   "cell_type": "code",
   "execution_count": null,
   "id": "885b976f",
   "metadata": {},
   "outputs": [],
   "source": []
  }
 ],
 "metadata": {
  "kernelspec": {
   "display_name": "R 4.1",
   "language": "R",
   "name": "ir41"
  },
  "language_info": {
   "codemirror_mode": "r",
   "file_extension": ".r",
   "mimetype": "text/x-r-source",
   "name": "R",
   "pygments_lexer": "r",
   "version": "4.2.2"
  },
  "toc": {
   "base_numbering": 1,
   "nav_menu": {},
   "number_sections": true,
   "sideBar": true,
   "skip_h1_title": false,
   "title_cell": "Table of Contents",
   "title_sidebar": "Contents",
   "toc_cell": false,
   "toc_position": {
    "height": "calc(100% - 180px)",
    "left": "10px",
    "top": "150px",
    "width": "288.391px"
   },
   "toc_section_display": true,
   "toc_window_display": true
  }
 },
 "nbformat": 4,
 "nbformat_minor": 5
}
