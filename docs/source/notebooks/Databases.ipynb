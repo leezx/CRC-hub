{
 "cells": [
  {
   "cell_type": "markdown",
   "id": "703f5827",
   "metadata": {},
   "source": [
    "# Databases"
   ]
  },
  {
   "cell_type": "markdown",
   "id": "789c9521",
   "metadata": {},
   "source": [
    "## Big DBs"
   ]
  },
  {
   "cell_type": "markdown",
   "id": "b4e42b7d",
   "metadata": {},
   "source": [
    "### DepMap"
   ]
  },
  {
   "cell_type": "code",
   "execution_count": null,
   "id": "6753a9cc",
   "metadata": {},
   "outputs": [],
   "source": []
  },
  {
   "cell_type": "markdown",
   "id": "b3742391",
   "metadata": {},
   "source": [
    "### TCGA"
   ]
  },
  {
   "cell_type": "code",
   "execution_count": null,
   "id": "e3764a70",
   "metadata": {},
   "outputs": [],
   "source": []
  },
  {
   "cell_type": "markdown",
   "id": "0f30fffc",
   "metadata": {},
   "source": [
    "### CRC"
   ]
  },
  {
   "cell_type": "code",
   "execution_count": null,
   "id": "fba9c9f6",
   "metadata": {},
   "outputs": [],
   "source": []
  },
  {
   "cell_type": "markdown",
   "id": "f1dc1ee0",
   "metadata": {},
   "source": [
    "## Small DBs"
   ]
  },
  {
   "cell_type": "markdown",
   "id": "1195c7bf",
   "metadata": {},
   "source": [
    "### IMMUcan\n",
    "- [Meta-Analysis of Human Cancer Single-Cell RNA-Seq Datasets Using the IMMUcan Database](https://doi.org/10.1158/0008-5472.CAN-22-0074)\n",
    "- https://immucanscdb.vital-it.ch/"
   ]
  },
  {
   "cell_type": "code",
   "execution_count": null,
   "id": "75cec02a",
   "metadata": {},
   "outputs": [],
   "source": []
  }
 ],
 "metadata": {
  "kernelspec": {
   "display_name": "R 4.1",
   "language": "R",
   "name": "ir41"
  },
  "language_info": {
   "codemirror_mode": "r",
   "file_extension": ".r",
   "mimetype": "text/x-r-source",
   "name": "R",
   "pygments_lexer": "r",
   "version": "4.2.2"
  },
  "toc": {
   "base_numbering": 1,
   "nav_menu": {},
   "number_sections": true,
   "sideBar": true,
   "skip_h1_title": false,
   "title_cell": "Table of Contents",
   "title_sidebar": "Contents",
   "toc_cell": false,
   "toc_position": {},
   "toc_section_display": true,
   "toc_window_display": true
  }
 },
 "nbformat": 4,
 "nbformat_minor": 5
}
