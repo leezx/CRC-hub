{
 "cells": [
  {
   "cell_type": "markdown",
   "id": "bc823233",
   "metadata": {},
   "source": [
    "# More"
   ]
  },
  {
   "cell_type": "markdown",
   "id": "5e280acd",
   "metadata": {},
   "source": [
    "## Drug"
   ]
  },
  {
   "cell_type": "markdown",
   "id": "9b902dd2",
   "metadata": {},
   "source": [
    "### epigenetic drug discovery\n",
    "- The timeline of epigenetic drug discovery: from reality to dreams - Review - 2019\n"
   ]
  },
  {
   "cell_type": "code",
   "execution_count": null,
   "id": "62ae38ee",
   "metadata": {},
   "outputs": [],
   "source": []
  },
  {
   "cell_type": "markdown",
   "id": "28343e8d",
   "metadata": {},
   "source": [
    "## Websites"
   ]
  },
  {
   "cell_type": "markdown",
   "id": "46129fc7",
   "metadata": {},
   "source": [
    "### Read the Docs\n",
    "- add tag: \n",
    "- nbsphinx-gallery [include section toc on the left]\n",
    "- nbsphinx-link-gallery [for gallery]\n",
    "- nbsphinx-thumbnail [for thumbnail]\n",
    "- https://docs.readthedocs.io/en/stable/guides/jupyter.html#creating-galleries-of-examples-using-notebooks\n",
    "- https://nbsphinx.readthedocs.io/en/latest/gallery/gallery-with-nested-documents.html\n",
    "- https://sphinx-gallery.github.io/stable/index.html [could solve the problem]\n",
    "- https://sphinx-book-theme.readthedocs.io/en/stable/customize/custom-css.html\n",
    "\n",
    "```\n",
    "# requirements.txt\n",
    "\n",
    "# conf.py\n",
    "extensions = [\n",
    "    #\"myst_nb\", # pip install myst_nb\n",
    "    \"nbsphinx\", # pip install nbsphinx\n",
    "    \"myst_parser\", # pip install myst-parser\n",
    "    \"sphinx_gallery.load_style\",\n",
    "    'sphinx.ext.autodoc',\n",
    "    'sphinx.ext.autosummary',\n",
    "    'sphinx_copybutton',\n",
    "    'sphinx_panels',\n",
    "    'sphinx.ext.viewcode',\n",
    "    # theme\n",
    "    'sphinx_rtd_size',\n",
    "    'ipykernel', # for kernels\n",
    "]\n",
    "\n",
    "nbsphinx_kernel_name = 'python'\n",
    "nbsphinx_execute = 'never' # don't check R code\n",
    "```"
   ]
  },
  {
   "cell_type": "markdown",
   "id": "e8b68efe",
   "metadata": {},
   "source": [
    "### pkgdown\n",
    "\n",
    "### genexcell"
   ]
  },
  {
   "cell_type": "markdown",
   "id": "051cb73e",
   "metadata": {},
   "source": [
    "## Others"
   ]
  },
  {
   "cell_type": "code",
   "execution_count": null,
   "id": "3dcbce57",
   "metadata": {},
   "outputs": [],
   "source": []
  },
  {
   "cell_type": "code",
   "execution_count": null,
   "id": "f659c9db",
   "metadata": {},
   "outputs": [],
   "source": []
  }
 ],
 "metadata": {
  "kernelspec": {
   "display_name": "R 4.1",
   "language": "R",
   "name": "ir41"
  },
  "language_info": {
   "codemirror_mode": "r",
   "file_extension": ".r",
   "mimetype": "text/x-r-source",
   "name": "R",
   "pygments_lexer": "r",
   "version": "4.2.2"
  },
  "toc": {
   "base_numbering": 1,
   "nav_menu": {},
   "number_sections": true,
   "sideBar": true,
   "skip_h1_title": false,
   "title_cell": "Table of Contents",
   "title_sidebar": "Contents",
   "toc_cell": false,
   "toc_position": {},
   "toc_section_display": true,
   "toc_window_display": true
  }
 },
 "nbformat": 4,
 "nbformat_minor": 5
}
